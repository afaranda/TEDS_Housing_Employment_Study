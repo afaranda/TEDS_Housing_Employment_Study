{
 "cells": [
  {
   "cell_type": "markdown",
   "id": "4855ca25-9900-4d06-b00d-5fb6a61e30ee",
   "metadata": {},
   "source": [
    "# Data Preparation"
   ]
  },
  {
   "cell_type": "code",
   "execution_count": null,
   "id": "35b7d338-e2f8-458f-bc2c-cf08211179e8",
   "metadata": {},
   "outputs": [],
   "source": [
    "## Load TEDS-D 2017 Data into a Pandas Data Frame\n",
    "import pandas as pd\n",
    "import seaborn as sns\n",
    "from matplotlib import pyplot as plt\n",
    "import numpy as np\n",
    "from os.path import exists\n",
    "import os\n",
    "\n",
    "## Specify WD\n",
    "wd = \"/home/abf/BINF667013_Final_Project/\"\n",
    "#wd = (\n",
    "#    \"/Users/adam/Documents/BINF667013_BigDataAnalyticsHealthcare/\" +\n",
    "#    \"Final_Project/TEDS_Study\"\n",
    "#)\n",
    "os.chdir(wd)\n",
    "\n",
    "if exists(\"analysis_objects/teds_laws.csv\"):\n",
    "    teds_laws=pd.read_csv(\"analysis_objects/teds_laws.csv\")\n",
    "else:\n",
    "    print(\"Generate Clean Dataset First\")\n",
    "if exists(\"analysis_objects/teds_imp_laws.csv\"):\n",
    "    teds_imp_laws=pd.read_csv(\"analysis_objects/teds_imp_laws.csv\")\n",
    "else:\n",
    "    print(\"Generate Clean Dataset First\")"
   ]
  },
  {
   "cell_type": "markdown",
   "id": "4da90d9e-5bf4-4199-96ca-ba3a28994eb7",
   "metadata": {},
   "source": [
    "# Exploratory Data Analysis"
   ]
  },
  {
   "cell_type": "markdown",
   "id": "4bb2105b-4cf8-415b-956d-b4438ea0335d",
   "metadata": {
    "tags": []
   },
   "source": [
    "### Primary Substance by IC Legal Status"
   ]
  },
  {
   "cell_type": "code",
   "execution_count": null,
   "id": "8d3d026d-d9e1-4162-851f-5fb8aebf2c14",
   "metadata": {},
   "outputs": [],
   "source": [
    "totals=teds_laws.loc[:,['IC_law', 'SUB1']].assign(\n",
    "    No_substance = lambda x: x.loc[:,['SUB1']].apply(lambda x: x['SUB1'] == 1, axis=1),\n",
    "    Heroin = lambda x: x.loc[:,['SUB1']].apply(lambda x: x['SUB1'] == 2, axis=1),\n",
    "    Cocaine = lambda x: x.loc[:,['SUB1']].apply(lambda x: x['SUB1'] == 3, axis=1),\n",
    "    Marijuana = lambda x: x.loc[:,['SUB1']].apply(lambda x: x['SUB1'] == 4, axis=1),\n",
    "    Heroin = lambda x: x.loc[:,['SUB1']].apply(lambda x: x['SUB1'] == 5, axis=1),\n",
    "    NP_Methadone = lambda x: x.loc[:,['SUB1']].apply(lambda x: x['SUB1'] == 6, axis=1),\n",
    "    OthOpiate = lambda x: x.loc[:,['SUB1']].apply(lambda x: x['SUB1'] == 7, axis=1),\n",
    "    PCP = lambda x: x.loc[:,['SUB1']].apply(lambda x: x['SUB1'] == 7, axis=1),\n",
    "    Hallucinogen = lambda x: x.loc[:,['SUB1']].apply(lambda x: x['SUB1'] == 9, axis=1),\n",
    "    Methamphetamine = lambda x: x.loc[:,['SUB1']].apply(lambda x: x['SUB1'] == 10, axis=1),\n",
    "    OthAmphet = lambda x: x.loc[:,['SUB1']].apply(lambda x: x['SUB1'] == 11, axis=1),\n",
    "    OthStim = lambda x: x.loc[:,['SUB1']].apply(lambda x: x['SUB1'] == 12, axis=1),\n",
    "    Benzo = lambda x: x.loc[:,['SUB1']].apply(lambda x: x['SUB1'] == 13, axis=1),\n",
    "    OthTranq = lambda x: x.loc[:,['SUB1']].apply(lambda x: x['SUB1'] == 14, axis=1),\n",
    "    Barbituates = lambda x: x.loc[:,['SUB1']].apply(lambda x: x['SUB1'] == 15, axis=1),\n",
    "    OthSed = lambda x: x.loc[:,['SUB1']].apply(lambda x: x['SUB1'] == 16, axis=1),\n",
    "    Inhalants = lambda x: x.loc[:,['SUB1']].apply(lambda x: x['SUB1'] == 17, axis=1),\n",
    "    OTC_Med = lambda x: x.loc[:,['SUB1']].apply(lambda x: x['SUB1'] == 18, axis=1),\n",
    "    Other = lambda x: x.loc[:,['SUB1']].apply(lambda x: x['SUB1'] == 19, axis=1),\n",
    "    \n",
    ").groupby(['IC_law']).sum().drop(columns=['SUB1'])\n",
    "totals"
   ]
  },
  {
   "cell_type": "code",
   "execution_count": null,
   "id": "3fd3efb0-18cc-4938-8164-8b732c2978cf",
   "metadata": {},
   "outputs": [],
   "source": [
    "totals.div(totals.sum(axis=1), axis=0).reset_index()"
   ]
  },
  {
   "cell_type": "code",
   "execution_count": null,
   "id": "eb2d69ed-a39d-4cf6-829e-1da1b4867c0a",
   "metadata": {},
   "outputs": [],
   "source": [
    "plt.xticks(rotation=90)\n",
    "sns.barplot(\n",
    "    data=pd.melt(\n",
    "        totals.div(totals.sum(axis=1), axis=0).reset_index(),\n",
    "        id_vars = 'IC_law',\n",
    "        value_vars = [\n",
    "             'No_substance','Alcohol','Cocaine','Marijuana','Heroin',\n",
    "             'NP_Methadone', 'OthOpiate', 'PCP', 'Hallucinogen',\n",
    "             'Methamphetamine','OthAmphet','OthStim','Benzo','OthTranq',\n",
    "             'Barbituates','OthSed','Inhalants','OTC_Med','Other'\n",
    "        ],\n",
    "        var_name = \"Primary Substance\",\n",
    "        value_name = \"Frequency\"\n",
    "    ).assign(\n",
    "        Law_Status = lambda x: x.apply(lambda y: 'No_IC_law' if y['IC_law'] == 0 else 'IC_law', axis=1)\n",
    "    ),\n",
    "    x=\"Primary Substance\",\n",
    "    y=\"Frequency\",\n",
    "    hue=\"Law_Status\",\n",
    "    \n",
    ")"
   ]
  },
  {
   "cell_type": "code",
   "execution_count": null,
   "id": "bbd78d50-8610-466d-b43f-02b4b2ded33f",
   "metadata": {},
   "outputs": [],
   "source": [
    "totals.div(totals.sum(axis=0), axis=1).reset_index()"
   ]
  },
  {
   "cell_type": "code",
   "execution_count": null,
   "id": "b2882552-b104-4d14-834e-e4f5b49a28e5",
   "metadata": {},
   "outputs": [],
   "source": [
    "plt.xticks(rotation=90)\n",
    "sns.barplot(\n",
    "    data=pd.melt(\n",
    "        totals.div(totals.sum(axis=0), axis=1).reset_index(),\n",
    "        id_vars = 'IC_law',\n",
    "        value_vars = [\n",
    "             'No_substance','Alcohol','Cocaine','Marijuana','Heroin',\n",
    "             'NP_Methadone', 'OthOpiate', 'PCP', 'Hallucinogen',\n",
    "             'Methamphetamine','OthAmphet','OthStim','Benzo','OthTranq',\n",
    "             'Barbituates','OthSed','Inhalants','OTC_Med','Other'\n",
    "        ],\n",
    "        var_name = \"Primary Substance\",\n",
    "        value_name = \"Frequency\"\n",
    "    ).assign(\n",
    "        Law_Status = lambda x: x.apply(lambda y: 'No_IC_law' if y['IC_law'] == 0 else 'IC_law', axis=1)\n",
    "    ),\n",
    "    x=\"Primary Substance\",\n",
    "    y=\"Frequency\",\n",
    "    hue=\"Law_Status\",\n",
    "    \n",
    ")"
   ]
  },
  {
   "cell_type": "markdown",
   "id": "9613163e-a422-4e63-b344-608ae121e23d",
   "metadata": {
    "tags": []
   },
   "source": [
    "### Summarize Relapses by IC Legal Status And Drug\n",
    "Cases where the primary substance at admission is still being used at discharge will be considered relapses\n"
   ]
  },
  {
   "cell_type": "code",
   "execution_count": null,
   "id": "7aa4e334-acc1-4367-ab31-ffe1786c0b33",
   "metadata": {},
   "outputs": [],
   "source": [
    "teds_laws.groupby(['IC_law']).sum().loc[:,['hrncases','hrn_cases', 'met_cases','alc_relapse','hrn_relapse', 'met_relapse']].assign(\n",
    "    alc_rate = lambda x: x['alc_relapse'] / x['alc_cases'],\n",
    "    hrn_rate = lambda x: x['hrn_relapse'] / x['hrn_cases'],\n",
    "    met_rate = lambda x: x['met_relapse'] / x['met_cases']\n",
    ")"
   ]
  },
  {
   "cell_type": "code",
   "execution_count": null,
   "id": "459fea0a-f79d-436f-b376-26b4297a5bd4",
   "metadata": {},
   "outputs": [],
   "source": [
    "\n",
    "teds_imp_laws.groupby(['IC_law']).sum().loc[:,['alc_cases','hrn_cases', 'met_cases','alc_relapse','hrn_relapse', 'met_relapse']].assign(\n",
    "    alc_rate = lambda x: x['alc_relapse'] / x['alc_cases'],\n",
    "    hrn_rate = lambda x: x['hrn_relapse'] / x['hrn_cases'],\n",
    "    met_rate = lambda x: x['met_relapse'] / x['met_cases']\n",
    ")"
   ]
  },
  {
   "cell_type": "code",
   "execution_count": null,
   "id": "04b068e6-b582-4bca-b6e2-4423d56c0e1c",
   "metadata": {},
   "outputs": [],
   "source": [
    "## Index casese of alcohol use at intake\n",
    "alc_cases = teds_laws.alc_cases == 1\n",
    "\n",
    "plt.figure(figsize=(6, 6))\n",
    "plot_data = teds_laws.loc[\n",
    "    alc_cases,['IC_law','alc_cases','alc_relapse']\n",
    "].groupby(['IC_law']).sum().reset_index().assign(\n",
    "    relapse_rate = lambda x: 100*(x['alc_relapse'] / x['alc_cases']),\n",
    "    total = [100, 100]\n",
    ")\n",
    "print(plot_data)\n",
    "total_bars = sns.barplot(\n",
    "    x=\"IC_law\",  \n",
    "    y=\"total\",\n",
    "    data=plot_data, \n",
    "    color='darkblue'\n",
    ")\n",
    "\n",
    "rate_bars = sns.barplot(\n",
    "    x=\"IC_law\",  \n",
    "    y=\"relapse_rate\",\n",
    "    data=plot_data, \n",
    "    color='lightblue'\n",
    ")\n",
    "plt.show()\n",
    "\n",
    "\n"
   ]
  },
  {
   "cell_type": "code",
   "execution_count": null,
   "id": "f4c73e41-ba1c-4fc0-80bf-3dddea5da406",
   "metadata": {},
   "outputs": [],
   "source": [
    "## Index casese of alcohol use at intake\n",
    "alc_cases = teds_imp_laws.alc_cases == 1\n",
    "plt.figure(figsize=(6, 6))\n",
    "plot_data = teds_imp_laws.loc[\n",
    "    alc_cases,['IC_law','alc_cases','alc_relapse']\n",
    "].groupby(['IC_law']).sum().reset_index().assign(\n",
    "    relapse_rate = lambda x: 100*(x['alc_relapse'] / x['alc_cases']),\n",
    "    total = [100, 100]\n",
    ")\n",
    "print(plot_data)\n",
    "total_bars = sns.barplot(\n",
    "    x=\"IC_law\",  \n",
    "    y=\"total\",\n",
    "    data=plot_data, \n",
    "    color='darkblue'\n",
    ")\n",
    "\n",
    "rate_bars = sns.barplot(\n",
    "    x=\"IC_law\",  \n",
    "    y=\"relapse_rate\",\n",
    "    data=plot_data, \n",
    "    color='lightblue'\n",
    ")\n",
    "plt.show()\n",
    "\n",
    "\n"
   ]
  },
  {
   "cell_type": "code",
   "execution_count": null,
   "id": "554c89d0-437b-45c8-944a-5cb4f708711e",
   "metadata": {},
   "outputs": [],
   "source": [
    "## Index casese of heroin use at intake\n",
    "hrn_cases = teds_laws.hrn_cases == 1\n",
    "plt.figure(figsize=(6, 6))\n",
    "plot_data = teds_laws.loc[\n",
    "    hrn_cases,['IC_law','hrn_cases','hrn_relapse']\n",
    "].groupby(['IC_law']).sum().reset_index().assign(\n",
    "    relapse_rate = lambda x: 100*(x['hrn_relapse'] / x['hrn_cases']),\n",
    "    total = [100, 100]\n",
    ")\n",
    "print(plot_data)\n",
    "total_bars = sns.barplot(\n",
    "    x=\"IC_law\",  \n",
    "    y=\"total\",\n",
    "    data=plot_data, \n",
    "    color='darkblue'\n",
    ")\n",
    "\n",
    "rate_bars = sns.barplot(\n",
    "    x=\"IC_law\",  \n",
    "    y=\"relapse_rate\",\n",
    "    data=plot_data, \n",
    "    color='lightblue'\n",
    ")\n",
    "plt.show()\n",
    "\n",
    "\n"
   ]
  },
  {
   "cell_type": "code",
   "execution_count": null,
   "id": "fadd32af-0864-48ce-b81b-8f5dd17f88f4",
   "metadata": {},
   "outputs": [],
   "source": [
    "## Index casese of alcohol use at intake\n",
    "hrn_cases = teds_imp_laws.hrn_cases == 1\n",
    "plt.figure(figsize=(6, 6))\n",
    "plot_data = teds_imp_laws.loc[\n",
    "    hrn_cases,['IC_law','hrn_cases','hrn_relapse']\n",
    "].groupby(['IC_law']).sum().reset_index().assign(\n",
    "    relapse_rate = lambda x: 100*(x['hrn_relapse'] / x['hrn_cases']),\n",
    "    total = [100, 100]\n",
    ")\n",
    "print(plot_data)\n",
    "total_bars = sns.barplot(\n",
    "    x=\"IC_law\",  \n",
    "    y=\"total\",\n",
    "    data=plot_data, \n",
    "    color='darkblue'\n",
    ")\n",
    "\n",
    "rate_bars = sns.barplot(\n",
    "    x=\"IC_law\",  \n",
    "    y=\"relapse_rate\",\n",
    "    data=plot_data, \n",
    "    color='lightblue'\n",
    ")\n",
    "plt.show()\n",
    "\n",
    "\n"
   ]
  },
  {
   "cell_type": "code",
   "execution_count": null,
   "id": "af386339-73b7-48a7-aba2-4121838c27d5",
   "metadata": {},
   "outputs": [],
   "source": [
    "## Index casese of methamphetamine use at intake\n",
    "met_cases = teds_laws.met_cases == 1\n",
    "\n",
    "plt.figure(figsize=(6, 6))\n",
    "plot_data = teds_laws.loc[\n",
    "    met_cases,['IC_law','met_cases','met_relapse']\n",
    "].groupby(['IC_law']).sum().reset_index().assign(\n",
    "    relapse_rate = lambda x: 100*(x['met_relapse'] / x['met_cases']),\n",
    "    total = [100, 100]\n",
    ")\n",
    "print(plot_data)\n",
    "total_bars = sns.barplot(\n",
    "    x=\"IC_law\",  \n",
    "    y=\"total\",\n",
    "    data=plot_data, \n",
    "    color='darkblue'\n",
    ")\n",
    "\n",
    "rate_bars = sns.barplot(\n",
    "    x=\"IC_law\",  \n",
    "    y=\"relapse_rate\",\n",
    "    data=plot_data, \n",
    "    color='lightblue'\n",
    ")\n",
    "plt.show()\n",
    "\n",
    "\n"
   ]
  },
  {
   "cell_type": "code",
   "execution_count": null,
   "id": "a98c1e2e-50fe-4be6-b5ba-834ffea6694e",
   "metadata": {},
   "outputs": [],
   "source": [
    "## Index casese of methamphetamine use at intake\n",
    "met_cases = teds_imp_laws.met_cases == 1\n",
    "\n",
    "plt.figure(figsize=(6, 6))\n",
    "plot_data = teds_imp_laws.loc[\n",
    "    met_cases,['IC_law','met_cases','met_relapse']\n",
    "].groupby(['IC_law']).sum().reset_index().assign(\n",
    "    relapse_rate = lambda x: 100*(x['met_relapse'] / x['met_cases']),\n",
    "    total = [100, 100]\n",
    ")\n",
    "print(plot_data)\n",
    "total_bars = sns.barplot(\n",
    "    x=\"IC_law\",  \n",
    "    y=\"total\",\n",
    "    data=plot_data, \n",
    "    color='darkblue'\n",
    ")\n",
    "\n",
    "rate_bars = sns.barplot(\n",
    "    x=\"IC_law\",  \n",
    "    y=\"relapse_rate\",\n",
    "    data=plot_data, \n",
    "    color='lightblue'\n",
    ")\n",
    "plt.show()\n",
    "\n",
    "\n"
   ]
  },
  {
   "cell_type": "markdown",
   "id": "3bb8f9ad-54fb-4a4d-be38-edd0e84576ed",
   "metadata": {
    "tags": []
   },
   "source": [
    "### IC Laws and Referral Source"
   ]
  },
  {
   "cell_type": "markdown",
   "id": "4f186bca-67a9-4758-b3d9-18946e03c331",
   "metadata": {
    "tags": []
   },
   "source": [
    "**Total Cases in Each Category by IC Law, for Alcohol Patients**"
   ]
  },
  {
   "cell_type": "code",
   "execution_count": null,
   "id": "d4c70b07-0f95-455c-b421-f951c64564c9",
   "metadata": {},
   "outputs": [],
   "source": [
    "alc_cases = teds_laws.alc_cases == 1\n",
    "totals=teds_laws.loc[alc_cases,['IC_law', 'PSOURCE']].assign(\n",
    "    individual = lambda x: x.loc[:,['PSOURCE']].apply(lambda x: x['PSOURCE'] == 1, axis=1),\n",
    "    treatment = lambda x: x.loc[:,['PSOURCE']].apply(lambda x: x['PSOURCE'] == 2, axis=1),\n",
    "    health = lambda x: x.loc[:,['PSOURCE']].apply(lambda x: x['PSOURCE'] == 3, axis=1),\n",
    "    school = lambda x: x.loc[:,['PSOURCE']].apply(lambda x: x['PSOURCE'] == 4, axis=1),\n",
    "    employer = lambda x: x.loc[:,['PSOURCE']].apply(lambda x: x['PSOURCE'] == 5, axis=1),\n",
    "    community = lambda x: x.loc[:,['PSOURCE']].apply(lambda x: x['PSOURCE'] == 6, axis=1),\n",
    "    adjudicated = lambda x: x.loc[:,['PSOURCE']].apply(lambda x: x['PSOURCE'] == 7, axis=1)\n",
    ").groupby(['IC_law']).sum().drop(columns=['PSOURCE'])\n",
    "totals"
   ]
  },
  {
   "cell_type": "markdown",
   "id": "0d7f80a1-b3ab-4292-8f07-8dbf062261ab",
   "metadata": {},
   "source": [
    "**Alcohol Patients: Proportion Cases in each referal category by IC Laws**"
   ]
  },
  {
   "cell_type": "code",
   "execution_count": null,
   "id": "d42c0778-dde8-4be7-a99d-f69748aeea57",
   "metadata": {},
   "outputs": [],
   "source": [
    " totals.div(totals.sum(axis=1), axis=0).reset_index()"
   ]
  },
  {
   "cell_type": "code",
   "execution_count": null,
   "id": "cc616fdb-2684-4e5e-9976-928a2027450d",
   "metadata": {},
   "outputs": [],
   "source": [
    "plt.xticks(rotation=90)\n",
    "sns.barplot(\n",
    "    data=pd.melt(\n",
    "        totals.div(totals.sum(axis=1), axis=0).reset_index(),\n",
    "        id_vars = 'IC_law',\n",
    "        value_vars = ['individual', 'treatment', 'health', 'school', 'employer', 'community', 'adjudicated'],\n",
    "        var_name = \"Referral Source\",\n",
    "        value_name = \"Frequency\"\n",
    "    ).assign(\n",
    "        Law_Status = lambda x: x.apply(lambda y: 'No_IC_law' if y['IC_law'] == 0 else 'IC_law', axis=1)\n",
    "    ),\n",
    "    x=\"Referral Source\",\n",
    "    y=\"Frequency\",\n",
    "    hue=\"Law_Status\",\n",
    "    \n",
    ")"
   ]
  },
  {
   "cell_type": "markdown",
   "id": "4a1682e7-a874-4080-a183-100f2adacce0",
   "metadata": {},
   "source": [
    "**Alcohol Patients: Proportion of cases in each Referal category that are subject to IC Laws**"
   ]
  },
  {
   "cell_type": "code",
   "execution_count": null,
   "id": "4254e906-ad64-43f3-9de7-44df03ad9b77",
   "metadata": {},
   "outputs": [],
   "source": [
    "totals.div(totals.sum(axis=0), axis=1).reset_index()"
   ]
  },
  {
   "cell_type": "code",
   "execution_count": null,
   "id": "7515d909-0acf-4782-b7c2-73c35d52486c",
   "metadata": {},
   "outputs": [],
   "source": [
    "plt.xticks(rotation=90)\n",
    "sns.barplot(\n",
    "    data=pd.melt(\n",
    "        totals.div(totals.sum(axis=0), axis=1).reset_index(),\n",
    "        id_vars = 'IC_law',\n",
    "        value_vars = ['individual', 'treatment', 'health', 'school', 'employer', 'community', 'adjudicated'],\n",
    "        var_name = \"Referral Source\",\n",
    "        value_name = \"Frequency\"\n",
    "    ).assign(\n",
    "        Law_Status = lambda x: x.apply(lambda y: 'No_IC_law' if y['IC_law'] == 0 else 'IC_law', axis=1)\n",
    "    ),\n",
    "    x=\"Referral Source\",\n",
    "    y=\"Frequency\",\n",
    "    hue=\"Law_Status\",\n",
    "    \n",
    ")"
   ]
  },
  {
   "cell_type": "markdown",
   "id": "a826ad82-e12e-4a8a-97e6-5ceeda98c480",
   "metadata": {
    "tags": []
   },
   "source": [
    "**Total Cases in Each Category by IC Law, for Heroin Patients**"
   ]
  },
  {
   "cell_type": "code",
   "execution_count": null,
   "id": "c98fc3c1-4eb9-4089-b2f2-c8bf0c8ab9d3",
   "metadata": {},
   "outputs": [],
   "source": [
    "hrn_cases = teds_laws.hrn_cases == 1\n",
    "totals=teds_laws.loc[hrn_cases,['IC_law', 'PSOURCE']].assign(\n",
    "    individual = lambda x: x.loc[:,['PSOURCE']].apply(lambda x: x['PSOURCE'] == 1, axis=1),\n",
    "    treatment = lambda x: x.loc[:,['PSOURCE']].apply(lambda x: x['PSOURCE'] == 2, axis=1),\n",
    "    health = lambda x: x.loc[:,['PSOURCE']].apply(lambda x: x['PSOURCE'] == 3, axis=1),\n",
    "    school = lambda x: x.loc[:,['PSOURCE']].apply(lambda x: x['PSOURCE'] == 4, axis=1),\n",
    "    employer = lambda x: x.loc[:,['PSOURCE']].apply(lambda x: x['PSOURCE'] == 5, axis=1),\n",
    "    community = lambda x: x.loc[:,['PSOURCE']].apply(lambda x: x['PSOURCE'] == 6, axis=1),\n",
    "    adjudicated = lambda x: x.loc[:,['PSOURCE']].apply(lambda x: x['PSOURCE'] == 7, axis=1)\n",
    ").groupby(['IC_law']).sum().drop(columns=['PSOURCE'])\n",
    "totals"
   ]
  },
  {
   "cell_type": "markdown",
   "id": "e56019aa-b1dc-49d6-96a0-357b32d7c8a3",
   "metadata": {},
   "source": [
    "**Heroin Patients: Proportion Cases in each referal category by IC Laws**"
   ]
  },
  {
   "cell_type": "code",
   "execution_count": null,
   "id": "a2a08122-4103-42a9-a2ad-8c95870ca98d",
   "metadata": {
    "tags": []
   },
   "outputs": [],
   "source": [
    " totals.div(totals.sum(axis=1), axis=0).reset_index()"
   ]
  },
  {
   "cell_type": "code",
   "execution_count": null,
   "id": "bc1dd6a9-709c-4464-a985-8decb69a0eac",
   "metadata": {
    "tags": []
   },
   "outputs": [],
   "source": [
    "plt.xticks(rotation=90)\n",
    "sns.barplot(\n",
    "    data=pd.melt(\n",
    "        totals.div(totals.sum(axis=1), axis=0).reset_index(),\n",
    "        id_vars = 'IC_law',\n",
    "        value_vars = ['individual', 'treatment', 'health', 'school', 'employer', 'community', 'adjudicated'],\n",
    "        var_name = \"Referral Source\",\n",
    "        value_name = \"Frequency\"\n",
    "    ).assign(\n",
    "        Law_Status = lambda x: x.apply(lambda y: 'No_IC_law' if y['IC_law'] == 0 else 'IC_law', axis=1)\n",
    "    ),\n",
    "    x=\"Referral Source\",\n",
    "    y=\"Frequency\",\n",
    "    hue=\"Law_Status\",\n",
    "    \n",
    ")"
   ]
  },
  {
   "cell_type": "markdown",
   "id": "5ea6e5bb-220e-4d8b-b647-44cee9bb7146",
   "metadata": {},
   "source": [
    "**Heroin Patients: Proportion of cases in each Referal category that are subject to IC Laws**"
   ]
  },
  {
   "cell_type": "code",
   "execution_count": null,
   "id": "260d2574-2417-492d-ab28-259835739b0e",
   "metadata": {},
   "outputs": [],
   "source": [
    "totals.div(totals.sum(axis=0), axis=1).reset_index()"
   ]
  },
  {
   "cell_type": "code",
   "execution_count": null,
   "id": "1b5ff870-4cc5-4cec-bfe0-4f44e3e7a9f0",
   "metadata": {
    "tags": []
   },
   "outputs": [],
   "source": [
    "plt.xticks(rotation=90)\n",
    "sns.barplot(\n",
    "    data=pd.melt(\n",
    "        totals.div(totals.sum(axis=0), axis=1).reset_index(),\n",
    "        id_vars = 'IC_law',\n",
    "        value_vars = ['individual', 'treatment', 'health', 'school', 'employer', 'community', 'adjudicated'],\n",
    "        var_name = \"Referral Source\",\n",
    "        value_name = \"Frequency\"\n",
    "    ).assign(\n",
    "        Law_Status = lambda x: x.apply(lambda y: 'No_IC_law' if y['IC_law'] == 0 else 'IC_law', axis=1)\n",
    "    ),\n",
    "    x=\"Referral Source\",\n",
    "    y=\"Frequency\",\n",
    "    hue=\"Law_Status\",\n",
    "    \n",
    ")"
   ]
  },
  {
   "cell_type": "markdown",
   "id": "944a49e6-ef7f-4e1f-a3b6-a1a8102567c5",
   "metadata": {
    "tags": []
   },
   "source": [
    "**Total Cases in Each Category by IC Law, for Methamphetamine Patients**"
   ]
  },
  {
   "cell_type": "code",
   "execution_count": null,
   "id": "af235084-fc11-47a0-919d-491f49ba5de1",
   "metadata": {
    "tags": []
   },
   "outputs": [],
   "source": [
    "met_cases = teds_laws.met_cases == 1\n",
    "totals=teds_laws.loc[met_cases,['IC_law', 'PSOURCE']].assign(\n",
    "    individual = lambda x: x.loc[:,['PSOURCE']].apply(lambda x: x['PSOURCE'] == 1, axis=1),\n",
    "    treatment = lambda x: x.loc[:,['PSOURCE']].apply(lambda x: x['PSOURCE'] == 2, axis=1),\n",
    "    health = lambda x: x.loc[:,['PSOURCE']].apply(lambda x: x['PSOURCE'] == 3, axis=1),\n",
    "    school = lambda x: x.loc[:,['PSOURCE']].apply(lambda x: x['PSOURCE'] == 4, axis=1),\n",
    "    employer = lambda x: x.loc[:,['PSOURCE']].apply(lambda x: x['PSOURCE'] == 5, axis=1),\n",
    "    community = lambda x: x.loc[:,['PSOURCE']].apply(lambda x: x['PSOURCE'] == 6, axis=1),\n",
    "    adjudicated = lambda x: x.loc[:,['PSOURCE']].apply(lambda x: x['PSOURCE'] == 7, axis=1)\n",
    ").groupby(['IC_law']).sum().drop(columns=['PSOURCE'])\n",
    "totals"
   ]
  },
  {
   "cell_type": "markdown",
   "id": "597fc457-80af-4090-9757-d9d4aa61775a",
   "metadata": {},
   "source": [
    "**Methamphetamine Patients: Proportion Cases in each referal category by IC Laws**"
   ]
  },
  {
   "cell_type": "code",
   "execution_count": null,
   "id": "9ca3c06d-b8fb-4f7e-8078-8100f0a8d1e2",
   "metadata": {
    "tags": []
   },
   "outputs": [],
   "source": [
    " totals.div(totals.sum(axis=1), axis=0).reset_index()"
   ]
  },
  {
   "cell_type": "code",
   "execution_count": null,
   "id": "74b6aea3-4b18-4567-b22e-c8f88d804663",
   "metadata": {},
   "outputs": [],
   "source": [
    "plt.xticks(rotation=90)\n",
    "sns.barplot(\n",
    "    data=pd.melt(\n",
    "        totals.div(totals.sum(axis=1), axis=0).reset_index(),\n",
    "        id_vars = 'IC_law',\n",
    "        value_vars = ['individual', 'treatment', 'health', 'school', 'employer', 'community', 'adjudicated'],\n",
    "        var_name = \"Referral Source\",\n",
    "        value_name = \"Frequency\"\n",
    "    ).assign(\n",
    "        Law_Status = lambda x: x.apply(lambda y: 'No_IC_law' if y['IC_law'] == 0 else 'IC_law', axis=1)\n",
    "    ),\n",
    "    x=\"Referral Source\",\n",
    "    y=\"Frequency\",\n",
    "    hue=\"Law_Status\",\n",
    "    \n",
    ")"
   ]
  },
  {
   "cell_type": "markdown",
   "id": "902f98cd-14b1-42ee-90b3-af76f459e910",
   "metadata": {},
   "source": [
    "**Methamphetamine Patients: Proportion of cases in each Referal category that are subject to IC Laws**"
   ]
  },
  {
   "cell_type": "code",
   "execution_count": null,
   "id": "96799e25-4933-4852-a453-6263cc0bcd15",
   "metadata": {},
   "outputs": [],
   "source": [
    "totals.div(totals.sum(axis=0), axis=1).reset_index()"
   ]
  },
  {
   "cell_type": "code",
   "execution_count": null,
   "id": "0a6df1e6-aac8-4ea5-8074-6b3d9de6de7d",
   "metadata": {
    "tags": []
   },
   "outputs": [],
   "source": [
    "plt.xticks(rotation=90)\n",
    "sns.barplot(\n",
    "    data=pd.melt(\n",
    "        totals.div(totals.sum(axis=0), axis=1).reset_index(),\n",
    "        id_vars = 'IC_law',\n",
    "        value_vars = ['individual', 'treatment', 'health', 'school', 'employer', 'community', 'adjudicated'],\n",
    "        var_name = \"Referral Source\",\n",
    "        value_name = \"Frequency\"\n",
    "    ).assign(\n",
    "        Law_Status = lambda x: x.apply(lambda y: 'No_IC_law' if y['IC_law'] == 0 else 'IC_law', axis=1)\n",
    "    ),\n",
    "    x=\"Referral Source\",\n",
    "    y=\"Frequency\",\n",
    "    hue=\"Law_Status\",\n",
    "    \n",
    ")"
   ]
  },
  {
   "cell_type": "markdown",
   "id": "92457e4c-18cf-4de7-ad04-46cfe5370326",
   "metadata": {
    "tags": []
   },
   "source": [
    "### Distibution of SERVICES by IC Law Status"
   ]
  },
  {
   "cell_type": "markdown",
   "id": "5681ef5a-ee5d-41a5-bbdd-a8ed6a50f2da",
   "metadata": {
    "tags": []
   },
   "source": [
    "**Total Cases in Each Category by IC Law, for Alcohol Patients**"
   ]
  },
  {
   "cell_type": "code",
   "execution_count": null,
   "id": "4e48b192-b77a-48bd-9e10-a600c1d303b6",
   "metadata": {},
   "outputs": [],
   "source": [
    "totals=teds_imp_laws.loc[alc_cases,['IC_law', 'SERVICES']].assign(\n",
    "    Detox_24H_Inpt = lambda x: x.loc[:,['SERVICES']].apply(lambda x: x['SERVICES'] == 1, axis=1),\n",
    "    Detox_24H_Res = lambda x: x.loc[:,['SERVICES']].apply(lambda x: x['SERVICES'] == 2, axis=1),\n",
    "    Rehab_Non_Detox = lambda x: x.loc[:,['SERVICES']].apply(lambda x: x['SERVICES'] == 3, axis=1),\n",
    "    Rehab_30_Day = lambda x: x.loc[:,['SERVICES']].apply(lambda x: x['SERVICES'] == 4, axis=1),\n",
    "    Rehab_Extended = lambda x: x.loc[:,['SERVICES']].apply(lambda x: x['SERVICES'] == 5, axis=1),\n",
    "    Ambulatory_Int = lambda x: x.loc[:,['SERVICES']].apply(lambda x: x['SERVICES'] == 6, axis=1),\n",
    "    Ambulatory_NonInt = lambda x: x.loc[:,['SERVICES']].apply(lambda x: x['SERVICES'] == 7, axis=1),\n",
    "    Ambulatory_Detox = lambda x: x.loc[:,['SERVICES']].apply(lambda x: x['SERVICES'] == 7, axis=1)\n",
    ").groupby(['IC_law']).sum().drop(columns=['SERVICES'])\n",
    "totals"
   ]
  },
  {
   "cell_type": "markdown",
   "id": "bdd19517-f8a9-4793-ac2f-3b6baf2f665a",
   "metadata": {},
   "source": [
    "**Alcohol Patients: Proportion Cases in each service category by IC Laws**"
   ]
  },
  {
   "cell_type": "code",
   "execution_count": null,
   "id": "a5eaad40-2f41-44db-a7e0-243f95aff329",
   "metadata": {
    "tags": []
   },
   "outputs": [],
   "source": [
    " totals.div(totals.sum(axis=1), axis=0).reset_index()"
   ]
  },
  {
   "cell_type": "code",
   "execution_count": null,
   "id": "22626b3b-32f7-4bce-a439-ecb3febf440d",
   "metadata": {},
   "outputs": [],
   "source": [
    "plt.xticks(rotation=90)\n",
    "sns.barplot(\n",
    "    data=pd.melt(\n",
    "        totals.div(totals.sum(axis=1), axis=0).reset_index(),\n",
    "        id_vars = 'IC_law',\n",
    "        value_vars = [\n",
    "            'Detox_24H_Inpt','Detox_24H_Res','Rehab_Non_Detox',\n",
    "            'Rehab_30_Day','Rehab_Extended','Ambulatory_Int',\n",
    "            'Ambulatory_NonInt','Ambulatory_Detox'\n",
    "        ],\n",
    "        var_name = \"Services\",\n",
    "        value_name = \"Frequency\"\n",
    "    ).assign(\n",
    "        Law_Status = lambda x: x.apply(lambda y: 'No_IC_law' if y['IC_law'] == 0 else 'IC_law', axis=1)\n",
    "    ),\n",
    "    x=\"Services\",\n",
    "    y=\"Frequency\",\n",
    "    hue=\"Law_Status\",\n",
    "    \n",
    ")"
   ]
  },
  {
   "cell_type": "markdown",
   "id": "b7cf802a-fcd3-43e5-b202-671e7a6d0c4f",
   "metadata": {},
   "source": [
    "**Alcohol Patients: Proportion of cases in each Service category that are subject to IC Laws**"
   ]
  },
  {
   "cell_type": "code",
   "execution_count": null,
   "id": "623eb0a9-7b66-4b21-9366-78a3ecc42137",
   "metadata": {},
   "outputs": [],
   "source": [
    "totals.div(totals.sum(axis=0), axis=1).reset_index()"
   ]
  },
  {
   "cell_type": "code",
   "execution_count": null,
   "id": "28efb761-74ba-46c2-8c44-70807844826e",
   "metadata": {},
   "outputs": [],
   "source": [
    "plt.xticks(rotation=90)\n",
    "sns.barplot(\n",
    "    data=pd.melt(\n",
    "        totals.div(totals.sum(axis=0), axis=1).reset_index(),\n",
    "        id_vars = 'IC_law',\n",
    "            value_vars = [\n",
    "            'Detox_24H_Inpt','Detox_24H_Res','Rehab_Non_Detox',\n",
    "            'Rehab_30_Day','Rehab_Extended','Ambulatory_Int',\n",
    "            'Ambulatory_NonInt','Ambulatory_Detox'\n",
    "        ],\n",
    "        var_name = \"Services\",\n",
    "        value_name = \"Frequency\"\n",
    "    ).assign(\n",
    "        Law_Status = lambda x: x.apply(lambda y: 'No_IC_law' if y['IC_law'] == 0 else 'IC_law', axis=1)\n",
    "    ),\n",
    "    x=\"Services\",\n",
    "    y=\"Frequency\",\n",
    "    hue=\"Law_Status\",\n",
    "    \n",
    ")"
   ]
  },
  {
   "cell_type": "markdown",
   "id": "0af639a0-59a2-4518-a510-cec54d74b7a9",
   "metadata": {
    "tags": []
   },
   "source": [
    "**Total Cases in Each Category by IC Law, for Heroin Patients**"
   ]
  },
  {
   "cell_type": "code",
   "execution_count": null,
   "id": "5009d52a-68bd-467d-b6dc-3d9cac71448d",
   "metadata": {},
   "outputs": [],
   "source": [
    "totals=teds_imp_laws.loc[hrn_cases,['IC_law', 'SERVICES']].assign(\n",
    "    individual = lambda x: x.loc[:,['SERVICES']].apply(lambda x: x['SERVICES'] == 1, axis=1),\n",
    "    treatment = lambda x: x.loc[:,['SERVICES']].apply(lambda x: x['SERVICES'] == 2, axis=1),\n",
    "    health = lambda x: x.loc[:,['SERVICES']].apply(lambda x: x['SERVICES'] == 3, axis=1),\n",
    "    school = lambda x: x.loc[:,['SERVICES']].apply(lambda x: x['SERVICES'] == 4, axis=1),\n",
    "    employer = lambda x: x.loc[:,['SERVICES']].apply(lambda x: x['SERVICES'] == 5, axis=1),\n",
    "    community = lambda x: x.loc[:,['SERVICES']].apply(lambda x: x['SERVICES'] == 6, axis=1),\n",
    "    adjudicated = lambda x: x.loc[:,['SERVICES']].apply(lambda x: x['SERVICES'] == 7, axis=1)\n",
    ").groupby(['IC_law']).sum().drop(columns=['SERVICES'])\n",
    "totals"
   ]
  },
  {
   "cell_type": "markdown",
   "id": "e2554cc4-73ac-418e-8f09-3029b398f4ec",
   "metadata": {},
   "source": [
    "**Heroin Patients: Proportion Cases in each referal category by IC Laws**"
   ]
  },
  {
   "cell_type": "code",
   "execution_count": null,
   "id": "4303ad8c-e962-4e41-99b5-204ffdc3c0a9",
   "metadata": {
    "tags": []
   },
   "outputs": [],
   "source": [
    " totals.div(totals.sum(axis=1), axis=0).reset_index()"
   ]
  },
  {
   "cell_type": "code",
   "execution_count": null,
   "id": "f2b1263c-cb17-4693-8029-4fe2085da8e7",
   "metadata": {
    "tags": []
   },
   "outputs": [],
   "source": [
    "plt.xticks(rotation=90)\n",
    "sns.barplot(\n",
    "    data=pd.melt(\n",
    "        totals.div(totals.sum(axis=1), axis=0).reset_index(),\n",
    "        id_vars = 'IC_law',\n",
    "        value_vars = ['individual', 'treatment', 'health', 'school', 'employer', 'community', 'adjudicated'],\n",
    "        var_name = \"Referral Source\",\n",
    "        value_name = \"Frequency\"\n",
    "    ).assign(\n",
    "        Law_Status = lambda x: x.apply(lambda y: 'No_IC_law' if y['IC_law'] == 0 else 'IC_law', axis=1)\n",
    "    ),\n",
    "    x=\"Referral Source\",\n",
    "    y=\"Frequency\",\n",
    "    hue=\"Law_Status\"\n",
    ")"
   ]
  },
  {
   "cell_type": "markdown",
   "id": "7db5075a-da17-4d5e-9264-c4b5a81db09f",
   "metadata": {},
   "source": [
    "**Heroin Patients: Proportion of cases in each Referal category that are subject to IC Laws**"
   ]
  },
  {
   "cell_type": "code",
   "execution_count": null,
   "id": "6f1c075c-976b-4c70-b9fa-77b2daff4616",
   "metadata": {},
   "outputs": [],
   "source": [
    "totals.div(totals.sum(axis=0), axis=1).reset_index()"
   ]
  },
  {
   "cell_type": "code",
   "execution_count": null,
   "id": "909ae635-52ef-4410-9c05-000b3712e58d",
   "metadata": {
    "tags": []
   },
   "outputs": [],
   "source": [
    "plt.xticks(rotation=90)\n",
    "sns.barplot(\n",
    "    data=pd.melt(\n",
    "        totals.div(totals.sum(axis=0), axis=1).reset_index(),\n",
    "        id_vars = 'IC_law',\n",
    "        value_vars = ['individual', 'treatment', 'health', 'school', 'employer', 'community', 'adjudicated'],\n",
    "        var_name = \"Referral Source\",\n",
    "        value_name = \"Frequency\"\n",
    "    ).assign(\n",
    "        Law_Status = lambda x: x.apply(lambda y: 'No_IC_law' if y['IC_law'] == 0 else 'IC_law', axis=1)\n",
    "    ),\n",
    "    x=\"Referral Source\",\n",
    "    y=\"Frequency\",\n",
    "    hue=\"Law_Status\"\n",
    ")"
   ]
  },
  {
   "cell_type": "markdown",
   "id": "06c9316b-a7ca-4c53-92ee-e8b7dad320d6",
   "metadata": {
    "tags": []
   },
   "source": [
    "**Total Cases in Each Category by IC Law, for Methamphetamine Patients**"
   ]
  },
  {
   "cell_type": "code",
   "execution_count": null,
   "id": "36920a84-d630-4cc5-9e35-bd3ac82cc028",
   "metadata": {
    "tags": []
   },
   "outputs": [],
   "source": [
    "totals=teds_imp_laws.loc[met_cases,['IC_law', 'SERVICES']].assign(\n",
    "    individual = lambda x: x.loc[:,['SERVICES']].apply(lambda x: x['SERVICES'] == 1, axis=1),\n",
    "    treatment = lambda x: x.loc[:,['SERVICES']].apply(lambda x: x['SERVICES'] == 2, axis=1),\n",
    "    health = lambda x: x.loc[:,['SERVICES']].apply(lambda x: x['SERVICES'] == 3, axis=1),\n",
    "    school = lambda x: x.loc[:,['SERVICES']].apply(lambda x: x['SERVICES'] == 4, axis=1),\n",
    "    employer = lambda x: x.loc[:,['SERVICES']].apply(lambda x: x['SERVICES'] == 5, axis=1),\n",
    "    community = lambda x: x.loc[:,['SERVICES']].apply(lambda x: x['SERVICES'] == 6, axis=1),\n",
    "    adjudicated = lambda x: x.loc[:,['SERVICES']].apply(lambda x: x['SERVICES'] == 7, axis=1)\n",
    ").groupby(['IC_law']).sum().drop(columns=['SERVICES'])\n",
    "totals"
   ]
  },
  {
   "cell_type": "markdown",
   "id": "8f2cb930-d799-49d0-b4f5-649451ce62c9",
   "metadata": {},
   "source": [
    "**Methamphetamine Patients: Proportion Cases in each referal category by IC Laws**"
   ]
  },
  {
   "cell_type": "code",
   "execution_count": null,
   "id": "057b2506-1650-4070-9a12-6ee4361dcf35",
   "metadata": {
    "tags": []
   },
   "outputs": [],
   "source": [
    " totals.div(totals.sum(axis=1), axis=0).reset_index()"
   ]
  },
  {
   "cell_type": "code",
   "execution_count": null,
   "id": "95c6baf1-d840-4b8c-97b5-79fc566b1bb6",
   "metadata": {},
   "outputs": [],
   "source": [
    "plt.xticks(rotation=90)\n",
    "sns.barplot(\n",
    "    data=pd.melt(\n",
    "        totals.div(totals.sum(axis=1), axis=0).reset_index(),\n",
    "        id_vars = 'IC_law',\n",
    "        value_vars = ['individual', 'treatment', 'health', 'school', 'employer', 'community', 'adjudicated'],\n",
    "        var_name = \"Referral Source\",\n",
    "        value_name = \"Frequency\"\n",
    "    ).assign(\n",
    "        Law_Status = lambda x: x.apply(lambda y: 'No_IC_law' if y['IC_law'] == 0 else 'IC_law', axis=1)\n",
    "    ),\n",
    "    x=\"Referral Source\",\n",
    "    y=\"Frequency\",\n",
    "    hue=\"Law_Status\"\n",
    ")"
   ]
  },
  {
   "cell_type": "markdown",
   "id": "4e6d6508-c438-404d-9ada-dab1f1960c62",
   "metadata": {},
   "source": [
    "**Methamphetamine Patients: Proportion of cases in each Referal category that are subject to IC Laws**"
   ]
  },
  {
   "cell_type": "code",
   "execution_count": null,
   "id": "1ee5081d-23f5-4d78-b8a9-6270fe2224fe",
   "metadata": {},
   "outputs": [],
   "source": [
    "totals.div(totals.sum(axis=0), axis=1).reset_index()"
   ]
  },
  {
   "cell_type": "code",
   "execution_count": null,
   "id": "ee88f804-f040-4190-bd1f-1a7b4e25f457",
   "metadata": {
    "tags": []
   },
   "outputs": [],
   "source": [
    "plt.xticks(rotation=90)\n",
    "sns.barplot(\n",
    "    data=pd.melt(\n",
    "        totals.div(totals.sum(axis=0), axis=1).reset_index(),\n",
    "        id_vars = 'IC_law',\n",
    "        value_vars = ['individual', 'treatment', 'health', 'school', 'employer', 'community', 'adjudicated'],\n",
    "        var_name = \"Referral Source\",\n",
    "        value_name = \"Frequency\"\n",
    "    ).assign(\n",
    "        Law_Status = lambda x: x.apply(lambda y: 'No_IC_law' if y['IC_law'] == 0 else 'IC_law', axis=1)\n",
    "    ),\n",
    "    x=\"Referral Source\",\n",
    "    y=\"Frequency\",\n",
    "    hue=\"Law_Status\"\n",
    ")"
   ]
  },
  {
   "cell_type": "markdown",
   "id": "60cf455a-0366-4307-adb2-937f2ae0e75a",
   "metadata": {},
   "source": [
    "### Reason For Termination"
   ]
  },
  {
   "cell_type": "markdown",
   "id": "8781e799-e796-40aa-bba9-5b41d723e216",
   "metadata": {},
   "source": [
    "**Alcohol Patients: Proportion Cases in each dischrage category by IC Laws**"
   ]
  },
  {
   "cell_type": "code",
   "execution_count": null,
   "id": "9f200903-6e4e-4fa6-bbd1-fc1a1162e031",
   "metadata": {},
   "outputs": [],
   "source": [
    "alc_cases = teds_laws.alc_cases == 1\n",
    "totals=teds_laws.loc[hrn_cases,['IC_law', 'REASON']].assign(\n",
    "    Completed = lambda x: x.loc[:,['REASON']].apply(lambda x: x['REASON'] == 1, axis=1),\n",
    "    Dropout = lambda x: x.loc[:,['REASON']].apply(lambda x: x['REASON'] == 2, axis=1),\n",
    "    Terminated = lambda x: x.loc[:,['REASON']].apply(lambda x: x['REASON'] == 3, axis=1),\n",
    "    Transferred = lambda x: x.loc[:,['REASON']].apply(lambda x: x['REASON'] == 4, axis=1),\n",
    "    Incarcerated = lambda x: x.loc[:,['REASON']].apply(lambda x: x['REASON'] == 5, axis=1),\n",
    "    Death = lambda x: x.loc[:,['REASON']].apply(lambda x: x['REASON'] == 6, axis=1),\n",
    "    Other = lambda x: x.loc[:,['REASON']].apply(lambda x: x['REASON'] == 7, axis=1)\n",
    ").groupby(['IC_law']).sum().drop(columns=['REASON'])\n",
    "totals"
   ]
  },
  {
   "cell_type": "code",
   "execution_count": null,
   "id": "3674c980-a10f-4480-9745-c95cd2360cf6",
   "metadata": {},
   "outputs": [],
   "source": [
    " totals.div(totals.sum(axis=1), axis=0).reset_index()"
   ]
  },
  {
   "cell_type": "code",
   "execution_count": null,
   "id": "593a12c5-548f-4634-9cb8-8ccd5fce01f0",
   "metadata": {},
   "outputs": [],
   "source": [
    "plt.xticks(rotation=90)\n",
    "sns.barplot(\n",
    "    data=pd.melt(\n",
    "        totals.div(totals.sum(axis=1), axis=0).reset_index(),\n",
    "        id_vars = 'IC_law',\n",
    "        value_vars = ['Completed', 'Dropout', 'Terminated', 'Transferred', 'Incarcerated', 'Death', 'Other'],\n",
    "        var_name = \"Reason for Discharge\",\n",
    "        value_name = \"Frequency\"\n",
    "    ).assign(\n",
    "        Law_Status = lambda x: x.apply(lambda y: 'No_IC_law' if y['IC_law'] == 0 else 'IC_law', axis=1)\n",
    "    ),\n",
    "    x=\"Reason for Discharge\",\n",
    "    y=\"Frequency\",\n",
    "    hue=\"Law_Status\",\n",
    "    \n",
    ")"
   ]
  },
  {
   "cell_type": "markdown",
   "id": "8c92bf98-01b6-43ce-b99c-15927bda742f",
   "metadata": {},
   "source": [
    "**Heroin Patients: Proportion of cases in each discharge category that are subject to IC Laws**"
   ]
  },
  {
   "cell_type": "code",
   "execution_count": null,
   "id": "450a0e39-6a50-48ed-9544-348aaffde1a5",
   "metadata": {},
   "outputs": [],
   "source": [
    "totals.div(totals.sum(axis=0), axis=1).reset_index()"
   ]
  },
  {
   "cell_type": "code",
   "execution_count": null,
   "id": "fa1419e6-9193-43f7-9d5e-7dde44d79487",
   "metadata": {},
   "outputs": [],
   "source": [
    "plt.xticks(rotation=90)\n",
    "sns.barplot(\n",
    "    data=pd.melt(\n",
    "        totals.div(totals.sum(axis=0), axis=1).reset_index(),\n",
    "        id_vars = 'IC_law',\n",
    "        value_vars = ['Completed', 'Dropout', 'Terminated', 'Transferred', 'Incarcerated', 'Death', 'Other'],\n",
    "        var_name = \"Reason for Discharge\",\n",
    "        value_name = \"Frequency\"\n",
    "    ).assign(\n",
    "        Law_Status = lambda x: x.apply(lambda y: 'No_IC_law' if y['IC_law'] == 0 else 'IC_law', axis=1)\n",
    "    ),\n",
    "    x=\"Reason for Discharge\",\n",
    "    y=\"Frequency\",\n",
    "    hue=\"Law_Status\",\n",
    "    \n",
    ")"
   ]
  },
  {
   "cell_type": "markdown",
   "id": "036e758a-5697-439f-8170-66f072392841",
   "metadata": {},
   "source": [
    "**Heroin Patients: Proportion Cases in each dischrage category by IC Laws**"
   ]
  },
  {
   "cell_type": "code",
   "execution_count": null,
   "id": "507bc694-6e95-4a85-9884-f122e7d99d21",
   "metadata": {},
   "outputs": [],
   "source": [
    "hrn_cases = teds_laws.hrn_cases == 1\n",
    "totals=teds_laws.loc[hrn_cases,['IC_law', 'REASON']].assign(\n",
    "    Completed = lambda x: x.loc[:,['REASON']].apply(lambda x: x['REASON'] == 1, axis=1),\n",
    "    Dropout = lambda x: x.loc[:,['REASON']].apply(lambda x: x['REASON'] == 2, axis=1),\n",
    "    Terminated = lambda x: x.loc[:,['REASON']].apply(lambda x: x['REASON'] == 3, axis=1),\n",
    "    Transferred = lambda x: x.loc[:,['REASON']].apply(lambda x: x['REASON'] == 4, axis=1),\n",
    "    Incarcerated = lambda x: x.loc[:,['REASON']].apply(lambda x: x['REASON'] == 5, axis=1),\n",
    "    Death = lambda x: x.loc[:,['REASON']].apply(lambda x: x['REASON'] == 6, axis=1),\n",
    "    Other = lambda x: x.loc[:,['REASON']].apply(lambda x: x['REASON'] == 7, axis=1)\n",
    ").groupby(['IC_law']).sum().drop(columns=['REASON'])\n",
    "totals"
   ]
  },
  {
   "cell_type": "code",
   "execution_count": null,
   "id": "ddadfc96-553e-4441-bcdb-a0846df80a22",
   "metadata": {},
   "outputs": [],
   "source": [
    " totals.div(totals.sum(axis=1), axis=0).reset_index()"
   ]
  },
  {
   "cell_type": "code",
   "execution_count": null,
   "id": "30bff973-1b0e-4294-a4a0-b19b40aa9194",
   "metadata": {},
   "outputs": [],
   "source": [
    "plt.xticks(rotation=90)\n",
    "sns.barplot(\n",
    "    data=pd.melt(\n",
    "        totals.div(totals.sum(axis=1), axis=0).reset_index(),\n",
    "        id_vars = 'IC_law',\n",
    "        value_vars = ['Completed', 'Dropout', 'Terminated', 'Transferred', 'Incarcerated', 'Death', 'Other'],\n",
    "        var_name = \"Reason for Discharge\",\n",
    "        value_name = \"Frequency\"\n",
    "    ).assign(\n",
    "        Law_Status = lambda x: x.apply(lambda y: 'No_IC_law' if y['IC_law'] == 0 else 'IC_law', axis=1)\n",
    "    ),\n",
    "    x=\"Reason for Discharge\",\n",
    "    y=\"Frequency\",\n",
    "    hue=\"Law_Status\",\n",
    "    \n",
    ")"
   ]
  },
  {
   "cell_type": "markdown",
   "id": "57db8b63-20b7-4f14-9584-1ce01110f0be",
   "metadata": {},
   "source": [
    "**Heroin Patients: Proportion of cases in each discharge category that are subject to IC Laws**"
   ]
  },
  {
   "cell_type": "code",
   "execution_count": null,
   "id": "9b35c377-751f-4af6-8a02-9cd5661b2e46",
   "metadata": {},
   "outputs": [],
   "source": [
    "totals.div(totals.sum(axis=0), axis=1).reset_index()"
   ]
  },
  {
   "cell_type": "code",
   "execution_count": null,
   "id": "cb10121c-b918-4491-bb05-5e22e15b96e0",
   "metadata": {},
   "outputs": [],
   "source": [
    "plt.xticks(rotation=90)\n",
    "sns.barplot(\n",
    "    data=pd.melt(\n",
    "        totals.div(totals.sum(axis=0), axis=1).reset_index(),\n",
    "        id_vars = 'IC_law',\n",
    "        value_vars = ['Completed', 'Dropout', 'Terminated', 'Transferred', 'Incarcerated', 'Death', 'Other'],\n",
    "        var_name = \"Reason for Discharge\",\n",
    "        value_name = \"Frequency\"\n",
    "    ).assign(\n",
    "        Law_Status = lambda x: x.apply(lambda y: 'No_IC_law' if y['IC_law'] == 0 else 'IC_law', axis=1)\n",
    "    ),\n",
    "    x=\"Reason for Discharge\",\n",
    "    y=\"Frequency\",\n",
    "    hue=\"Law_Status\",\n",
    "    \n",
    ")"
   ]
  },
  {
   "cell_type": "markdown",
   "id": "d8110375-ec0e-4167-ab92-e92bde8be9b9",
   "metadata": {},
   "source": [
    "**Methamphetamine Patients: Proportion Cases in each dischrage category by IC Laws**"
   ]
  },
  {
   "cell_type": "code",
   "execution_count": 16,
   "id": "cba121cf-c3e3-4e8f-a15e-ffbfabc4a06a",
   "metadata": {},
   "outputs": [
    {
     "data": {
      "text/html": [
       "<div>\n",
       "<style scoped>\n",
       "    .dataframe tbody tr th:only-of-type {\n",
       "        vertical-align: middle;\n",
       "    }\n",
       "\n",
       "    .dataframe tbody tr th {\n",
       "        vertical-align: top;\n",
       "    }\n",
       "\n",
       "    .dataframe thead th {\n",
       "        text-align: right;\n",
       "    }\n",
       "</style>\n",
       "<table border=\"1\" class=\"dataframe\">\n",
       "  <thead>\n",
       "    <tr style=\"text-align: right;\">\n",
       "      <th></th>\n",
       "      <th>Completed</th>\n",
       "      <th>Dropout</th>\n",
       "      <th>Terminated</th>\n",
       "      <th>Transferred</th>\n",
       "      <th>Incarcerated</th>\n",
       "      <th>Death</th>\n",
       "      <th>Other</th>\n",
       "    </tr>\n",
       "    <tr>\n",
       "      <th>IC_law</th>\n",
       "      <th></th>\n",
       "      <th></th>\n",
       "      <th></th>\n",
       "      <th></th>\n",
       "      <th></th>\n",
       "      <th></th>\n",
       "      <th></th>\n",
       "    </tr>\n",
       "  </thead>\n",
       "  <tbody>\n",
       "    <tr>\n",
       "      <th>0</th>\n",
       "      <td>39363</td>\n",
       "      <td>33889</td>\n",
       "      <td>10198</td>\n",
       "      <td>14159</td>\n",
       "      <td>3625</td>\n",
       "      <td>707</td>\n",
       "      <td>5470</td>\n",
       "    </tr>\n",
       "    <tr>\n",
       "      <th>1</th>\n",
       "      <td>62851</td>\n",
       "      <td>50092</td>\n",
       "      <td>13654</td>\n",
       "      <td>52010</td>\n",
       "      <td>3163</td>\n",
       "      <td>566</td>\n",
       "      <td>8320</td>\n",
       "    </tr>\n",
       "  </tbody>\n",
       "</table>\n",
       "</div>"
      ],
      "text/plain": [
       "        Completed  Dropout  Terminated  Transferred  Incarcerated  Death  \\\n",
       "IC_law                                                                     \n",
       "0           39363    33889       10198        14159          3625    707   \n",
       "1           62851    50092       13654        52010          3163    566   \n",
       "\n",
       "        Other  \n",
       "IC_law         \n",
       "0        5470  \n",
       "1        8320  "
      ]
     },
     "execution_count": 16,
     "metadata": {},
     "output_type": "execute_result"
    }
   ],
   "source": [
    "met_cases = teds_laws.met_cases == 1\n",
    "totals=teds_laws.loc[hrn_cases,['IC_law', 'REASON']].assign(\n",
    "    Completed = lambda x: x.loc[:,['REASON']].apply(lambda x: x['REASON'] == 1, axis=1),\n",
    "    Dropout = lambda x: x.loc[:,['REASON']].apply(lambda x: x['REASON'] == 2, axis=1),\n",
    "    Terminated = lambda x: x.loc[:,['REASON']].apply(lambda x: x['REASON'] == 3, axis=1),\n",
    "    Transferred = lambda x: x.loc[:,['REASON']].apply(lambda x: x['REASON'] == 4, axis=1),\n",
    "    Incarcerated = lambda x: x.loc[:,['REASON']].apply(lambda x: x['REASON'] == 5, axis=1),\n",
    "    Death = lambda x: x.loc[:,['REASON']].apply(lambda x: x['REASON'] == 6, axis=1),\n",
    "    Other = lambda x: x.loc[:,['REASON']].apply(lambda x: x['REASON'] == 7, axis=1)\n",
    ").groupby(['IC_law']).sum().drop(columns=['REASON'])\n",
    "totals"
   ]
  },
  {
   "cell_type": "code",
   "execution_count": 17,
   "id": "4d77e4d4-0ae8-402e-8d90-356fd57ad548",
   "metadata": {},
   "outputs": [
    {
     "data": {
      "text/html": [
       "<div>\n",
       "<style scoped>\n",
       "    .dataframe tbody tr th:only-of-type {\n",
       "        vertical-align: middle;\n",
       "    }\n",
       "\n",
       "    .dataframe tbody tr th {\n",
       "        vertical-align: top;\n",
       "    }\n",
       "\n",
       "    .dataframe thead th {\n",
       "        text-align: right;\n",
       "    }\n",
       "</style>\n",
       "<table border=\"1\" class=\"dataframe\">\n",
       "  <thead>\n",
       "    <tr style=\"text-align: right;\">\n",
       "      <th></th>\n",
       "      <th>IC_law</th>\n",
       "      <th>Completed</th>\n",
       "      <th>Dropout</th>\n",
       "      <th>Terminated</th>\n",
       "      <th>Transferred</th>\n",
       "      <th>Incarcerated</th>\n",
       "      <th>Death</th>\n",
       "      <th>Other</th>\n",
       "    </tr>\n",
       "  </thead>\n",
       "  <tbody>\n",
       "    <tr>\n",
       "      <th>0</th>\n",
       "      <td>0</td>\n",
       "      <td>0.366471</td>\n",
       "      <td>0.315508</td>\n",
       "      <td>0.094944</td>\n",
       "      <td>0.131821</td>\n",
       "      <td>0.033749</td>\n",
       "      <td>0.006582</td>\n",
       "      <td>0.050926</td>\n",
       "    </tr>\n",
       "    <tr>\n",
       "      <th>1</th>\n",
       "      <td>1</td>\n",
       "      <td>0.329657</td>\n",
       "      <td>0.262735</td>\n",
       "      <td>0.071616</td>\n",
       "      <td>0.272795</td>\n",
       "      <td>0.016590</td>\n",
       "      <td>0.002969</td>\n",
       "      <td>0.043639</td>\n",
       "    </tr>\n",
       "  </tbody>\n",
       "</table>\n",
       "</div>"
      ],
      "text/plain": [
       "   IC_law  Completed   Dropout  Terminated  Transferred  Incarcerated  \\\n",
       "0       0   0.366471  0.315508    0.094944     0.131821      0.033749   \n",
       "1       1   0.329657  0.262735    0.071616     0.272795      0.016590   \n",
       "\n",
       "      Death     Other  \n",
       "0  0.006582  0.050926  \n",
       "1  0.002969  0.043639  "
      ]
     },
     "execution_count": 17,
     "metadata": {},
     "output_type": "execute_result"
    }
   ],
   "source": [
    " totals.div(totals.sum(axis=1), axis=0).reset_index()"
   ]
  },
  {
   "cell_type": "code",
   "execution_count": 18,
   "id": "e82f80a1-777d-48fc-aeef-862acf472ad1",
   "metadata": {},
   "outputs": [
    {
     "data": {
      "text/plain": [
       "<AxesSubplot:xlabel='Reason for Discharge', ylabel='Frequency'>"
      ]
     },
     "execution_count": 18,
     "metadata": {},
     "output_type": "execute_result"
    },
    {
     "data": {
      "image/png": "[encoded data removed]",
      "text/plain": [
       "<Figure size 432x288 with 1 Axes>"
      ]
     },
     "metadata": {
      "needs_background": "light"
     },
     "output_type": "display_data"
    }
   ],
   "source": [
    "plt.xticks(rotation=90)\n",
    "sns.barplot(\n",
    "    data=pd.melt(\n",
    "        totals.div(totals.sum(axis=1), axis=0).reset_index(),\n",
    "        id_vars = 'IC_law',\n",
    "        value_vars = ['Completed', 'Dropout', 'Terminated', 'Transferred', 'Incarcerated', 'Death', 'Other'],\n",
    "        var_name = \"Reason for Discharge\",\n",
    "        value_name = \"Frequency\"\n",
    "    ).assign(\n",
    "        Law_Status = lambda x: x.apply(lambda y: 'No_IC_law' if y['IC_law'] == 0 else 'IC_law', axis=1)\n",
    "    ),\n",
    "    x=\"Reason for Discharge\",\n",
    "    y=\"Frequency\",\n",
    "    hue=\"Law_Status\",\n",
    "    \n",
    ")"
   ]
  },
  {
   "cell_type": "markdown",
   "id": "1fd7def8-200d-4c5e-9417-af45dcfec1b2",
   "metadata": {},
   "source": [
    "**Methamphetamine Patients: Proportion of cases in each discharge category that are subject to IC Laws**"
   ]
  },
  {
   "cell_type": "code",
   "execution_count": 19,
   "id": "41acf3e3-a981-42e3-ae5d-1e8519589ee8",
   "metadata": {},
   "outputs": [
    {
     "data": {
      "text/html": [
       "<div>\n",
       "<style scoped>\n",
       "    .dataframe tbody tr th:only-of-type {\n",
       "        vertical-align: middle;\n",
       "    }\n",
       "\n",
       "    .dataframe tbody tr th {\n",
       "        vertical-align: top;\n",
       "    }\n",
       "\n",
       "    .dataframe thead th {\n",
       "        text-align: right;\n",
       "    }\n",
       "</style>\n",
       "<table border=\"1\" class=\"dataframe\">\n",
       "  <thead>\n",
       "    <tr style=\"text-align: right;\">\n",
       "      <th></th>\n",
       "      <th>IC_law</th>\n",
       "      <th>Completed</th>\n",
       "      <th>Dropout</th>\n",
       "      <th>Terminated</th>\n",
       "      <th>Transferred</th>\n",
       "      <th>Incarcerated</th>\n",
       "      <th>Death</th>\n",
       "      <th>Other</th>\n",
       "    </tr>\n",
       "  </thead>\n",
       "  <tbody>\n",
       "    <tr>\n",
       "      <th>0</th>\n",
       "      <td>0</td>\n",
       "      <td>0.385104</td>\n",
       "      <td>0.403532</td>\n",
       "      <td>0.427553</td>\n",
       "      <td>0.213982</td>\n",
       "      <td>0.534031</td>\n",
       "      <td>0.555381</td>\n",
       "      <td>0.396664</td>\n",
       "    </tr>\n",
       "    <tr>\n",
       "      <th>1</th>\n",
       "      <td>1</td>\n",
       "      <td>0.614896</td>\n",
       "      <td>0.596468</td>\n",
       "      <td>0.572447</td>\n",
       "      <td>0.786018</td>\n",
       "      <td>0.465969</td>\n",
       "      <td>0.444619</td>\n",
       "      <td>0.603336</td>\n",
       "    </tr>\n",
       "  </tbody>\n",
       "</table>\n",
       "</div>"
      ],
      "text/plain": [
       "   IC_law  Completed   Dropout  Terminated  Transferred  Incarcerated  \\\n",
       "0       0   0.385104  0.403532    0.427553     0.213982      0.534031   \n",
       "1       1   0.614896  0.596468    0.572447     0.786018      0.465969   \n",
       "\n",
       "      Death     Other  \n",
       "0  0.555381  0.396664  \n",
       "1  0.444619  0.603336  "
      ]
     },
     "execution_count": 19,
     "metadata": {},
     "output_type": "execute_result"
    }
   ],
   "source": [
    "totals.div(totals.sum(axis=0), axis=1).reset_index()"
   ]
  },
  {
   "cell_type": "code",
   "execution_count": 21,
   "id": "9ccdb35c-a35a-47a9-aeeb-fde1491afc9e",
   "metadata": {},
   "outputs": [
    {
     "data": {
      "text/plain": [
       "<AxesSubplot:xlabel='Reason for Discharge', ylabel='Frequency'>"
      ]
     },
     "execution_count": 21,
     "metadata": {},
     "output_type": "execute_result"
    },
    {
     "data": {
      "image/png": "[encoded data removed]",
      "text/plain": [
       "<Figure size 432x288 with 1 Axes>"
      ]
     },
     "metadata": {
      "needs_background": "light"
     },
     "output_type": "display_data"
    }
   ],
   "source": [
    "plt.xticks(rotation=90)\n",
    "sns.barplot(\n",
    "    data=pd.melt(\n",
    "        totals.div(totals.sum(axis=0), axis=1).reset_index(),\n",
    "        id_vars = 'IC_law',\n",
    "        value_vars = ['Completed', 'Dropout', 'Terminated', 'Transferred', 'Incarcerated', 'Death', 'Other'],\n",
    "        var_name = \"Reason for Discharge\",\n",
    "        value_name = \"Frequency\"\n",
    "    ).assign(\n",
    "        Law_Status = lambda x: x.apply(lambda y: 'No_IC_law' if y['IC_law'] == 0 else 'IC_law', axis=1)\n",
    "    ),\n",
    "    x=\"Reason for Discharge\",\n",
    "    y=\"Frequency\",\n",
    "    hue=\"Law_Status\",\n",
    "    \n",
    ")"
   ]
  },
  {
   "cell_type": "markdown",
   "id": "b65d3c1f-8486-4b96-a43f-acf2ea6bc4f4",
   "metadata": {},
   "source": [
    "### Pregnancy (In Female Patients)"
   ]
  }
 ],
 "metadata": {
  "kernelspec": {
   "display_name": "Python 3 (ipykernel)",
   "language": "python",
   "name": "python3"
  },
  "language_info": {
   "codemirror_mode": {
    "name": "ipython",
    "version": 3
   },
   "file_extension": ".py",
   "mimetype": "text/x-python",
   "name": "python",
   "nbconvert_exporter": "python",
   "pygments_lexer": "ipython3",
   "version": "3.9.7"
  }
 },
 "nbformat": 4,
 "nbformat_minor": 5
}
