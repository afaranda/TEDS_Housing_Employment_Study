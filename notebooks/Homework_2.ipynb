{
 "cells": [
  {
   "cell_type": "markdown",
   "id": "8a8f8afa",
   "metadata": {},
   "source": [
    "# Resting Blood Presure Analysis"
   ]
  },
  {
   "cell_type": "code",
   "execution_count": 86,
   "id": "aee60e4e",
   "metadata": {
    "scrolled": false
   },
   "outputs": [
    {
     "data": {
      "text/html": [
       "<div>\n",
       "<style scoped>\n",
       "    .dataframe tbody tr th:only-of-type {\n",
       "        vertical-align: middle;\n",
       "    }\n",
       "\n",
       "    .dataframe tbody tr th {\n",
       "        vertical-align: top;\n",
       "    }\n",
       "\n",
       "    .dataframe thead th {\n",
       "        text-align: right;\n",
       "    }\n",
       "</style>\n",
       "<table border=\"1\" class=\"dataframe\">\n",
       "  <thead>\n",
       "    <tr style=\"text-align: right;\">\n",
       "      <th></th>\n",
       "      <th>PatientID</th>\n",
       "      <th>Age</th>\n",
       "      <th>Sex</th>\n",
       "      <th>ChestPain</th>\n",
       "      <th>RestBP</th>\n",
       "      <th>Chol</th>\n",
       "      <th>Fbs</th>\n",
       "      <th>RestECG</th>\n",
       "      <th>MaxHR</th>\n",
       "      <th>ExAng</th>\n",
       "      <th>Oldpeak</th>\n",
       "      <th>Slope</th>\n",
       "      <th>Ca</th>\n",
       "      <th>Thal</th>\n",
       "      <th>AHD</th>\n",
       "    </tr>\n",
       "  </thead>\n",
       "  <tbody>\n",
       "    <tr>\n",
       "      <th>0</th>\n",
       "      <td>1</td>\n",
       "      <td>63</td>\n",
       "      <td>1</td>\n",
       "      <td>2</td>\n",
       "      <td>145</td>\n",
       "      <td>233</td>\n",
       "      <td>1</td>\n",
       "      <td>2</td>\n",
       "      <td>150</td>\n",
       "      <td>0</td>\n",
       "      <td>2.3</td>\n",
       "      <td>3</td>\n",
       "      <td>0.0</td>\n",
       "      <td>2</td>\n",
       "      <td>0</td>\n",
       "    </tr>\n",
       "    <tr>\n",
       "      <th>1</th>\n",
       "      <td>2</td>\n",
       "      <td>67</td>\n",
       "      <td>1</td>\n",
       "      <td>0</td>\n",
       "      <td>160</td>\n",
       "      <td>286</td>\n",
       "      <td>0</td>\n",
       "      <td>2</td>\n",
       "      <td>108</td>\n",
       "      <td>1</td>\n",
       "      <td>1.5</td>\n",
       "      <td>2</td>\n",
       "      <td>3.0</td>\n",
       "      <td>0</td>\n",
       "      <td>1</td>\n",
       "    </tr>\n",
       "    <tr>\n",
       "      <th>2</th>\n",
       "      <td>3</td>\n",
       "      <td>67</td>\n",
       "      <td>1</td>\n",
       "      <td>0</td>\n",
       "      <td>120</td>\n",
       "      <td>229</td>\n",
       "      <td>0</td>\n",
       "      <td>2</td>\n",
       "      <td>129</td>\n",
       "      <td>1</td>\n",
       "      <td>2.6</td>\n",
       "      <td>2</td>\n",
       "      <td>2.0</td>\n",
       "      <td>1</td>\n",
       "      <td>1</td>\n",
       "    </tr>\n",
       "    <tr>\n",
       "      <th>3</th>\n",
       "      <td>4</td>\n",
       "      <td>37</td>\n",
       "      <td>1</td>\n",
       "      <td>1</td>\n",
       "      <td>130</td>\n",
       "      <td>250</td>\n",
       "      <td>0</td>\n",
       "      <td>0</td>\n",
       "      <td>187</td>\n",
       "      <td>0</td>\n",
       "      <td>3.5</td>\n",
       "      <td>3</td>\n",
       "      <td>0.0</td>\n",
       "      <td>0</td>\n",
       "      <td>0</td>\n",
       "    </tr>\n",
       "    <tr>\n",
       "      <th>4</th>\n",
       "      <td>5</td>\n",
       "      <td>41</td>\n",
       "      <td>0</td>\n",
       "      <td>3</td>\n",
       "      <td>130</td>\n",
       "      <td>204</td>\n",
       "      <td>0</td>\n",
       "      <td>2</td>\n",
       "      <td>172</td>\n",
       "      <td>0</td>\n",
       "      <td>1.4</td>\n",
       "      <td>1</td>\n",
       "      <td>0.0</td>\n",
       "      <td>0</td>\n",
       "      <td>0</td>\n",
       "    </tr>\n",
       "    <tr>\n",
       "      <th>...</th>\n",
       "      <td>...</td>\n",
       "      <td>...</td>\n",
       "      <td>...</td>\n",
       "      <td>...</td>\n",
       "      <td>...</td>\n",
       "      <td>...</td>\n",
       "      <td>...</td>\n",
       "      <td>...</td>\n",
       "      <td>...</td>\n",
       "      <td>...</td>\n",
       "      <td>...</td>\n",
       "      <td>...</td>\n",
       "      <td>...</td>\n",
       "      <td>...</td>\n",
       "      <td>...</td>\n",
       "    </tr>\n",
       "    <tr>\n",
       "      <th>297</th>\n",
       "      <td>298</td>\n",
       "      <td>57</td>\n",
       "      <td>0</td>\n",
       "      <td>0</td>\n",
       "      <td>140</td>\n",
       "      <td>241</td>\n",
       "      <td>0</td>\n",
       "      <td>0</td>\n",
       "      <td>123</td>\n",
       "      <td>1</td>\n",
       "      <td>0.2</td>\n",
       "      <td>2</td>\n",
       "      <td>0.0</td>\n",
       "      <td>1</td>\n",
       "      <td>1</td>\n",
       "    </tr>\n",
       "    <tr>\n",
       "      <th>298</th>\n",
       "      <td>299</td>\n",
       "      <td>45</td>\n",
       "      <td>1</td>\n",
       "      <td>2</td>\n",
       "      <td>110</td>\n",
       "      <td>264</td>\n",
       "      <td>0</td>\n",
       "      <td>0</td>\n",
       "      <td>132</td>\n",
       "      <td>0</td>\n",
       "      <td>1.2</td>\n",
       "      <td>2</td>\n",
       "      <td>0.0</td>\n",
       "      <td>1</td>\n",
       "      <td>1</td>\n",
       "    </tr>\n",
       "    <tr>\n",
       "      <th>299</th>\n",
       "      <td>300</td>\n",
       "      <td>68</td>\n",
       "      <td>1</td>\n",
       "      <td>0</td>\n",
       "      <td>144</td>\n",
       "      <td>193</td>\n",
       "      <td>1</td>\n",
       "      <td>0</td>\n",
       "      <td>141</td>\n",
       "      <td>0</td>\n",
       "      <td>3.4</td>\n",
       "      <td>2</td>\n",
       "      <td>2.0</td>\n",
       "      <td>1</td>\n",
       "      <td>1</td>\n",
       "    </tr>\n",
       "    <tr>\n",
       "      <th>300</th>\n",
       "      <td>301</td>\n",
       "      <td>57</td>\n",
       "      <td>1</td>\n",
       "      <td>0</td>\n",
       "      <td>130</td>\n",
       "      <td>131</td>\n",
       "      <td>0</td>\n",
       "      <td>0</td>\n",
       "      <td>115</td>\n",
       "      <td>1</td>\n",
       "      <td>1.2</td>\n",
       "      <td>2</td>\n",
       "      <td>1.0</td>\n",
       "      <td>1</td>\n",
       "      <td>1</td>\n",
       "    </tr>\n",
       "    <tr>\n",
       "      <th>301</th>\n",
       "      <td>302</td>\n",
       "      <td>57</td>\n",
       "      <td>0</td>\n",
       "      <td>3</td>\n",
       "      <td>130</td>\n",
       "      <td>236</td>\n",
       "      <td>0</td>\n",
       "      <td>2</td>\n",
       "      <td>174</td>\n",
       "      <td>0</td>\n",
       "      <td>0.0</td>\n",
       "      <td>2</td>\n",
       "      <td>1.0</td>\n",
       "      <td>0</td>\n",
       "      <td>1</td>\n",
       "    </tr>\n",
       "  </tbody>\n",
       "</table>\n",
       "<p>297 rows × 15 columns</p>\n",
       "</div>"
      ],
      "text/plain": [
       "     PatientID  Age  Sex  ChestPain  RestBP  Chol  Fbs  RestECG  MaxHR  ExAng  \\\n",
       "0            1   63    1          2     145   233    1        2    150      0   \n",
       "1            2   67    1          0     160   286    0        2    108      1   \n",
       "2            3   67    1          0     120   229    0        2    129      1   \n",
       "3            4   37    1          1     130   250    0        0    187      0   \n",
       "4            5   41    0          3     130   204    0        2    172      0   \n",
       "..         ...  ...  ...        ...     ...   ...  ...      ...    ...    ...   \n",
       "297        298   57    0          0     140   241    0        0    123      1   \n",
       "298        299   45    1          2     110   264    0        0    132      0   \n",
       "299        300   68    1          0     144   193    1        0    141      0   \n",
       "300        301   57    1          0     130   131    0        0    115      1   \n",
       "301        302   57    0          3     130   236    0        2    174      0   \n",
       "\n",
       "     Oldpeak  Slope   Ca  Thal  AHD  \n",
       "0        2.3      3  0.0     2    0  \n",
       "1        1.5      2  3.0     0    1  \n",
       "2        2.6      2  2.0     1    1  \n",
       "3        3.5      3  0.0     0    0  \n",
       "4        1.4      1  0.0     0    0  \n",
       "..       ...    ...  ...   ...  ...  \n",
       "297      0.2      2  0.0     1    1  \n",
       "298      1.2      2  0.0     1    1  \n",
       "299      3.4      2  2.0     1    1  \n",
       "300      1.2      2  1.0     1    1  \n",
       "301      0.0      2  1.0     0    1  \n",
       "\n",
       "[297 rows x 15 columns]"
      ]
     },
     "execution_count": 86,
     "metadata": {},
     "output_type": "execute_result"
    }
   ],
   "source": [
    "import pandas as pd\n",
    "import seaborn as sns\n",
    "import matplotlib.pyplot as plt\n",
    "import statsmodels as sm\n",
    "heart=pd.read_csv(\"Heart.csv\")\n",
    "\n",
    "# Exclude 6 patients with missing measurements\n",
    "heart.dropna(inplace=True)\n",
    "\n",
    "# Recode Outcome Variable\n",
    "heart['AHD'].replace({'Yes':1,'No':0}, inplace=True)\n",
    "\n",
    "# Recode Chestpain as an ordinal integer, based solely\n",
    "# on my naive assumptions regarding which level is more severe\n",
    "heart['ChestPain'].replace({\n",
    "   \"asymptomatic\":0,\n",
    "    \"nonanginal\":1,\n",
    "    \"typical\":2,\n",
    "    \"nontypical\":3\n",
    "}, inplace=True)\n",
    "\n",
    "# Recode Thallium stress test results under the assumption that\n",
    "# a fixed defect indicating a prior MI event is more severe \n",
    "# than a reversible defect indicating a potential future event\n",
    "# If the objective is to predict a future MI event, reversible\n",
    "# defects might be weighted as more severe than fixed defects\n",
    "heart['Thal'].replace({\n",
    "   \"normal\":0,\n",
    "    \"reversable\":1,\n",
    "    \"fixed\":2\n",
    "}, inplace=True)\n",
    "\n",
    "heart\n"
   ]
  },
  {
   "cell_type": "code",
   "execution_count": 87,
   "id": "36d6f933",
   "metadata": {},
   "outputs": [
    {
     "data": {
      "text/plain": [
       "PatientID      int64\n",
       "Age            int64\n",
       "Sex            int64\n",
       "ChestPain      int64\n",
       "RestBP         int64\n",
       "Chol           int64\n",
       "Fbs            int64\n",
       "RestECG        int64\n",
       "MaxHR          int64\n",
       "ExAng          int64\n",
       "Oldpeak      float64\n",
       "Slope          int64\n",
       "Ca           float64\n",
       "Thal           int64\n",
       "AHD            int64\n",
       "dtype: object"
      ]
     },
     "execution_count": 87,
     "metadata": {},
     "output_type": "execute_result"
    }
   ],
   "source": [
    "heart.dtypes"
   ]
  },
  {
   "cell_type": "markdown",
   "id": "698b6fbc",
   "metadata": {},
   "source": [
    "### Single variable linear models to predict resting blood pressure"
   ]
  },
  {
   "cell_type": "markdown",
   "id": "e826bb86",
   "metadata": {},
   "source": [
    "#### Resting blood pressure and Age"
   ]
  },
  {
   "cell_type": "code",
   "execution_count": 88,
   "id": "06f976f3",
   "metadata": {
    "scrolled": false
   },
   "outputs": [
    {
     "name": "stdout",
     "output_type": "stream",
     "text": [
      "                            OLS Regression Results                            \n",
      "==============================================================================\n",
      "Dep. Variable:                 RestBP   R-squared:                       0.084\n",
      "Model:                            OLS   Adj. R-squared:                  0.081\n",
      "Method:                 Least Squares   F-statistic:                     27.18\n",
      "Date:                Thu, 16 Sep 2021   Prob (F-statistic):           3.48e-07\n",
      "Time:                        14:10:28   Log-Likelihood:                -1262.3\n",
      "No. Observations:                 297   AIC:                             2529.\n",
      "Df Residuals:                     295   BIC:                             2536.\n",
      "Df Model:                           1                                         \n",
      "Covariance Type:            nonrobust                                         \n",
      "==============================================================================\n",
      "                 coef    std err          t      P>|t|      [0.025      0.975]\n",
      "------------------------------------------------------------------------------\n",
      "Intercept    100.5966      6.046     16.640      0.000      88.699     112.494\n",
      "Age            0.5701      0.109      5.214      0.000       0.355       0.785\n",
      "==============================================================================\n",
      "Omnibus:                       21.250   Durbin-Watson:                   1.894\n",
      "Prob(Omnibus):                  0.000   Jarque-Bera (JB):               26.106\n",
      "Skew:                           0.569   Prob(JB):                     2.14e-06\n",
      "Kurtosis:                       3.902   Cond. No.                         338.\n",
      "==============================================================================\n",
      "\n",
      "Notes:\n",
      "[1] Standard Errors assume that the covariance matrix of the errors is correctly specified.\n"
     ]
    }
   ],
   "source": [
    "import statsmodels.formula.api as smf\n",
    "results = smf.ols('RestBP ~ Age', data=heart).fit()\n",
    "print(results.summary())"
   ]
  },
  {
   "cell_type": "code",
   "execution_count": 89,
   "id": "1eabf621",
   "metadata": {
    "scrolled": true
   },
   "outputs": [
    {
     "data": {
      "text/plain": [
       "<AxesSubplot:xlabel='Age', ylabel='RestBP'>"
      ]
     },
     "execution_count": 89,
     "metadata": {},
     "output_type": "execute_result"
    },
    {
     "data": {
      "image/png": "[encoded data removed]",
      "text/plain": [
       "<Figure size 432x288 with 1 Axes>"
      ]
     },
     "metadata": {
      "needs_background": "light"
     },
     "output_type": "display_data"
    }
   ],
   "source": [
    "sns.regplot(data=heart, x=\"Age\", y=\"RestBP\")"
   ]
  },
  {
   "cell_type": "markdown",
   "id": "214cfcef",
   "metadata": {},
   "source": [
    "#### Resting blood pressure and Sex"
   ]
  },
  {
   "cell_type": "code",
   "execution_count": 90,
   "id": "1a5bb21b",
   "metadata": {
    "scrolled": false
   },
   "outputs": [
    {
     "name": "stdout",
     "output_type": "stream",
     "text": [
      "                            OLS Regression Results                            \n",
      "==============================================================================\n",
      "Dep. Variable:                 RestBP   R-squared:                       0.004\n",
      "Model:                            OLS   Adj. R-squared:                  0.001\n",
      "Method:                 Least Squares   F-statistic:                     1.304\n",
      "Date:                Thu, 16 Sep 2021   Prob (F-statistic):              0.254\n",
      "Time:                        14:10:28   Log-Likelihood:                -1274.8\n",
      "No. Observations:                 297   AIC:                             2554.\n",
      "Df Residuals:                     295   BIC:                             2561.\n",
      "Df Model:                           1                                         \n",
      "Covariance Type:            nonrobust                                         \n",
      "==============================================================================\n",
      "                 coef    std err          t      P>|t|      [0.025      0.975]\n",
      "------------------------------------------------------------------------------\n",
      "Intercept    133.3958      1.812     73.619      0.000     129.830     136.962\n",
      "Sex           -2.5152      2.203     -1.142      0.254      -6.850       1.820\n",
      "==============================================================================\n",
      "Omnibus:                       24.818   Durbin-Watson:                   1.913\n",
      "Prob(Omnibus):                  0.000   Jarque-Bera (JB):               29.402\n",
      "Skew:                           0.674   Prob(JB):                     4.13e-07\n",
      "Kurtosis:                       3.749   Cond. No.                         3.28\n",
      "==============================================================================\n",
      "\n",
      "Notes:\n",
      "[1] Standard Errors assume that the covariance matrix of the errors is correctly specified.\n"
     ]
    }
   ],
   "source": [
    "results = smf.ols('RestBP ~ Sex', data=heart).fit()\n",
    "print(results.summary())"
   ]
  },
  {
   "cell_type": "code",
   "execution_count": 91,
   "id": "9ba00853",
   "metadata": {
    "scrolled": true
   },
   "outputs": [
    {
     "data": {
      "text/plain": [
       "<AxesSubplot:xlabel='Sex', ylabel='RestBP'>"
      ]
     },
     "execution_count": 91,
     "metadata": {},
     "output_type": "execute_result"
    },
    {
     "data": {
      "image/png": "[encoded data removed]",
      "text/plain": [
       "<Figure size 432x288 with 1 Axes>"
      ]
     },
     "metadata": {
      "needs_background": "light"
     },
     "output_type": "display_data"
    }
   ],
   "source": [
    "sns.regplot(data=heart, x=\"Sex\", y=\"RestBP\")"
   ]
  },
  {
   "cell_type": "markdown",
   "id": "47b32807",
   "metadata": {},
   "source": [
    "#### Resting blood pressure and Cholesterol level"
   ]
  },
  {
   "cell_type": "code",
   "execution_count": 92,
   "id": "5b817f16",
   "metadata": {
    "scrolled": false
   },
   "outputs": [
    {
     "name": "stdout",
     "output_type": "stream",
     "text": [
      "                            OLS Regression Results                            \n",
      "==============================================================================\n",
      "Dep. Variable:                 RestBP   R-squared:                       0.017\n",
      "Model:                            OLS   Adj. R-squared:                  0.014\n",
      "Method:                 Least Squares   F-statistic:                     5.194\n",
      "Date:                Thu, 16 Sep 2021   Prob (F-statistic):             0.0234\n",
      "Time:                        14:10:29   Log-Likelihood:                -1272.8\n",
      "No. Observations:                 297   AIC:                             2550.\n",
      "Df Residuals:                     295   BIC:                             2557.\n",
      "Df Model:                           1                                         \n",
      "Covariance Type:            nonrobust                                         \n",
      "==============================================================================\n",
      "                 coef    std err          t      P>|t|      [0.025      0.975]\n",
      "------------------------------------------------------------------------------\n",
      "Intercept    120.5792      4.983     24.198      0.000     110.772     130.386\n",
      "Chol           0.0449      0.020      2.279      0.023       0.006       0.084\n",
      "==============================================================================\n",
      "Omnibus:                       23.838   Durbin-Watson:                   1.915\n",
      "Prob(Omnibus):                  0.000   Jarque-Bera (JB):               27.647\n",
      "Skew:                           0.670   Prob(JB):                     9.92e-07\n",
      "Kurtosis:                       3.663   Cond. No.                     1.23e+03\n",
      "==============================================================================\n",
      "\n",
      "Notes:\n",
      "[1] Standard Errors assume that the covariance matrix of the errors is correctly specified.\n",
      "[2] The condition number is large, 1.23e+03. This might indicate that there are\n",
      "strong multicollinearity or other numerical problems.\n"
     ]
    }
   ],
   "source": [
    "results = smf.ols('RestBP ~ Chol', data=heart).fit()\n",
    "print(results.summary())"
   ]
  },
  {
   "cell_type": "markdown",
   "id": "69c269c5",
   "metadata": {},
   "source": [
    "#### Resting blood pressure and Chest pain"
   ]
  },
  {
   "cell_type": "markdown",
   "id": "a560ddeb",
   "metadata": {},
   "source": [
    "#### Resting blood pressure and Fasting blood sugar"
   ]
  },
  {
   "cell_type": "code",
   "execution_count": 93,
   "id": "ced64d4b",
   "metadata": {
    "scrolled": false
   },
   "outputs": [
    {
     "name": "stdout",
     "output_type": "stream",
     "text": [
      "                            OLS Regression Results                            \n",
      "==============================================================================\n",
      "Dep. Variable:                 RestBP   R-squared:                       0.033\n",
      "Model:                            OLS   Adj. R-squared:                  0.029\n",
      "Method:                 Least Squares   F-statistic:                     9.976\n",
      "Date:                Thu, 16 Sep 2021   Prob (F-statistic):            0.00175\n",
      "Time:                        14:10:29   Log-Likelihood:                -1270.5\n",
      "No. Observations:                 297   AIC:                             2545.\n",
      "Df Residuals:                     295   BIC:                             2552.\n",
      "Df Model:                           1                                         \n",
      "Covariance Type:            nonrobust                                         \n",
      "==============================================================================\n",
      "                 coef    std err          t      P>|t|      [0.025      0.975]\n",
      "------------------------------------------------------------------------------\n",
      "Intercept    130.3740      1.098    118.736      0.000     128.213     132.535\n",
      "Fbs            9.1144      2.886      3.158      0.002       3.435      14.794\n",
      "==============================================================================\n",
      "Omnibus:                       21.604   Durbin-Watson:                   1.918\n",
      "Prob(Omnibus):                  0.000   Jarque-Bera (JB):               24.409\n",
      "Skew:                           0.639   Prob(JB):                     5.01e-06\n",
      "Kurtosis:                       3.581   Cond. No.                         2.91\n",
      "==============================================================================\n",
      "\n",
      "Notes:\n",
      "[1] Standard Errors assume that the covariance matrix of the errors is correctly specified.\n"
     ]
    }
   ],
   "source": [
    "results = smf.ols('RestBP ~ Fbs', data=heart).fit()\n",
    "print(results.summary())"
   ]
  },
  {
   "cell_type": "code",
   "execution_count": 94,
   "id": "6bbc8333",
   "metadata": {
    "scrolled": true
   },
   "outputs": [
    {
     "data": {
      "text/plain": [
       "<AxesSubplot:xlabel='Fbs', ylabel='RestBP'>"
      ]
     },
     "execution_count": 94,
     "metadata": {},
     "output_type": "execute_result"
    },
    {
     "data": {
      "image/png": "[encoded data removed]",
      "text/plain": [
       "<Figure size 432x288 with 1 Axes>"
      ]
     },
     "metadata": {
      "needs_background": "light"
     },
     "output_type": "display_data"
    }
   ],
   "source": [
    "sns.regplot(data=heart, x=\"Fbs\", y=\"RestBP\")"
   ]
  },
  {
   "cell_type": "markdown",
   "id": "e08ed64e",
   "metadata": {},
   "source": [
    "#### Resting blood pressure and Resting ECG results"
   ]
  },
  {
   "cell_type": "markdown",
   "id": "cd7fc563",
   "metadata": {},
   "source": [
    "#### Resting blood pressure and Maximum heart rate"
   ]
  },
  {
   "cell_type": "code",
   "execution_count": 95,
   "id": "0f08759a",
   "metadata": {
    "scrolled": false
   },
   "outputs": [
    {
     "name": "stdout",
     "output_type": "stream",
     "text": [
      "                            OLS Regression Results                            \n",
      "==============================================================================\n",
      "Dep. Variable:                 RestBP   R-squared:                       0.002\n",
      "Model:                            OLS   Adj. R-squared:                 -0.001\n",
      "Method:                 Least Squares   F-statistic:                    0.7131\n",
      "Date:                Thu, 16 Sep 2021   Prob (F-statistic):              0.399\n",
      "Time:                        14:10:29   Log-Likelihood:                -1275.1\n",
      "No. Observations:                 297   AIC:                             2554.\n",
      "Df Residuals:                     295   BIC:                             2562.\n",
      "Df Model:                           1                                         \n",
      "Covariance Type:            nonrobust                                         \n",
      "==============================================================================\n",
      "                 coef    std err          t      P>|t|      [0.025      0.975]\n",
      "------------------------------------------------------------------------------\n",
      "Intercept    137.3817      6.814     20.161      0.000     123.971     150.792\n",
      "MaxHR         -0.0380      0.045     -0.844      0.399      -0.127       0.051\n",
      "==============================================================================\n",
      "Omnibus:                       26.041   Durbin-Watson:                   1.927\n",
      "Prob(Omnibus):                  0.000   Jarque-Bera (JB):               31.333\n",
      "Skew:                           0.689   Prob(JB):                     1.57e-07\n",
      "Kurtosis:                       3.794   Cond. No.                     1.00e+03\n",
      "==============================================================================\n",
      "\n",
      "Notes:\n",
      "[1] Standard Errors assume that the covariance matrix of the errors is correctly specified.\n",
      "[2] The condition number is large,  1e+03. This might indicate that there are\n",
      "strong multicollinearity or other numerical problems.\n"
     ]
    }
   ],
   "source": [
    "results = smf.ols('RestBP ~ MaxHR', data=heart).fit()\n",
    "print(results.summary())"
   ]
  },
  {
   "cell_type": "code",
   "execution_count": 96,
   "id": "3decfda0",
   "metadata": {
    "scrolled": true
   },
   "outputs": [
    {
     "data": {
      "text/plain": [
       "<AxesSubplot:xlabel='MaxHR', ylabel='RestBP'>"
      ]
     },
     "execution_count": 96,
     "metadata": {},
     "output_type": "execute_result"
    },
    {
     "data": {
      "image/png": "[encoded data removed]",
      "text/plain": [
       "<Figure size 432x288 with 1 Axes>"
      ]
     },
     "metadata": {
      "needs_background": "light"
     },
     "output_type": "display_data"
    }
   ],
   "source": [
    "sns.regplot(data=heart, x=\"MaxHR\", y=\"RestBP\")"
   ]
  },
  {
   "cell_type": "markdown",
   "id": "db5f68d0",
   "metadata": {},
   "source": [
    "#### Resting blood pressure and Exercise induced angina"
   ]
  },
  {
   "cell_type": "code",
   "execution_count": 97,
   "id": "552dbb52",
   "metadata": {
    "scrolled": false
   },
   "outputs": [
    {
     "name": "stdout",
     "output_type": "stream",
     "text": [
      "                            OLS Regression Results                            \n",
      "==============================================================================\n",
      "Dep. Variable:                 RestBP   R-squared:                       0.004\n",
      "Model:                            OLS   Adj. R-squared:                  0.001\n",
      "Method:                 Least Squares   F-statistic:                     1.318\n",
      "Date:                Thu, 16 Sep 2021   Prob (F-statistic):              0.252\n",
      "Time:                        14:10:29   Log-Likelihood:                -1274.8\n",
      "No. Observations:                 297   AIC:                             2554.\n",
      "Df Residuals:                     295   BIC:                             2561.\n",
      "Df Model:                           1                                         \n",
      "Covariance Type:            nonrobust                                         \n",
      "==============================================================================\n",
      "                 coef    std err          t      P>|t|      [0.025      0.975]\n",
      "------------------------------------------------------------------------------\n",
      "Intercept    130.8700      1.255    104.250      0.000     128.399     133.341\n",
      "ExAng          2.5218      2.197      1.148      0.252      -1.801       6.845\n",
      "==============================================================================\n",
      "Omnibus:                       24.110   Durbin-Watson:                   1.929\n",
      "Prob(Omnibus):                  0.000   Jarque-Bera (JB):               28.183\n",
      "Skew:                           0.669   Prob(JB):                     7.59e-07\n",
      "Kurtosis:                       3.700   Cond. No.                         2.41\n",
      "==============================================================================\n",
      "\n",
      "Notes:\n",
      "[1] Standard Errors assume that the covariance matrix of the errors is correctly specified.\n"
     ]
    }
   ],
   "source": [
    "results = smf.ols('RestBP ~ ExAng', data=heart).fit()\n",
    "print(results.summary())"
   ]
  },
  {
   "cell_type": "code",
   "execution_count": 98,
   "id": "a8bb6879",
   "metadata": {
    "scrolled": true
   },
   "outputs": [
    {
     "data": {
      "text/plain": [
       "<AxesSubplot:xlabel='ExAng', ylabel='RestBP'>"
      ]
     },
     "execution_count": 98,
     "metadata": {},
     "output_type": "execute_result"
    },
    {
     "data": {
      "image/png": "[encoded data removed]",
      "text/plain": [
       "<Figure size 432x288 with 1 Axes>"
      ]
     },
     "metadata": {
      "needs_background": "light"
     },
     "output_type": "display_data"
    }
   ],
   "source": [
    "sns.regplot(data=heart, x=\"ExAng\", y=\"RestBP\")"
   ]
  },
  {
   "cell_type": "markdown",
   "id": "5787339e",
   "metadata": {},
   "source": [
    "#### Resting blood pressure and Exercise dependent ST depression"
   ]
  },
  {
   "cell_type": "code",
   "execution_count": 99,
   "id": "bce16490",
   "metadata": {
    "scrolled": false
   },
   "outputs": [
    {
     "name": "stdout",
     "output_type": "stream",
     "text": [
      "                            OLS Regression Results                            \n",
      "==============================================================================\n",
      "Dep. Variable:                 RestBP   R-squared:                       0.037\n",
      "Model:                            OLS   Adj. R-squared:                  0.033\n",
      "Method:                 Least Squares   F-statistic:                     11.20\n",
      "Date:                Thu, 16 Sep 2021   Prob (F-statistic):           0.000924\n",
      "Time:                        14:10:29   Log-Likelihood:                -1269.9\n",
      "No. Observations:                 297   AIC:                             2544.\n",
      "Df Residuals:                     295   BIC:                             2551.\n",
      "Df Model:                           1                                         \n",
      "Covariance Type:            nonrobust                                         \n",
      "==============================================================================\n",
      "                 coef    std err          t      P>|t|      [0.025      0.975]\n",
      "------------------------------------------------------------------------------\n",
      "Intercept    128.6187      1.368     94.024      0.000     125.927     131.311\n",
      "Oldpeak        2.9131      0.870      3.346      0.001       1.200       4.626\n",
      "==============================================================================\n",
      "Omnibus:                       24.596   Durbin-Watson:                   1.934\n",
      "Prob(Omnibus):                  0.000   Jarque-Bera (JB):               28.694\n",
      "Skew:                           0.683   Prob(JB):                     5.88e-07\n",
      "Kurtosis:                       3.672   Cond. No.                         2.59\n",
      "==============================================================================\n",
      "\n",
      "Notes:\n",
      "[1] Standard Errors assume that the covariance matrix of the errors is correctly specified.\n"
     ]
    }
   ],
   "source": [
    "results = smf.ols('RestBP ~ Oldpeak', data=heart).fit()\n",
    "print(results.summary())"
   ]
  },
  {
   "cell_type": "code",
   "execution_count": 100,
   "id": "00119df5",
   "metadata": {
    "scrolled": true
   },
   "outputs": [
    {
     "data": {
      "text/plain": [
       "<AxesSubplot:xlabel='Oldpeak', ylabel='RestBP'>"
      ]
     },
     "execution_count": 100,
     "metadata": {},
     "output_type": "execute_result"
    },
    {
     "data": {
      "image/png": "[encoded data removed]",
      "text/plain": [
       "<Figure size 432x288 with 1 Axes>"
      ]
     },
     "metadata": {
      "needs_background": "light"
     },
     "output_type": "display_data"
    }
   ],
   "source": [
    "sns.regplot(data=heart, x=\"Oldpeak\", y=\"RestBP\")"
   ]
  },
  {
   "cell_type": "markdown",
   "id": "a81f33cc",
   "metadata": {},
   "source": [
    "#### Resting blood pressure and ST Wave slope at maximal effort"
   ]
  },
  {
   "cell_type": "markdown",
   "id": "656e0b49",
   "metadata": {},
   "source": [
    "#### Resting blood pressure and The number of coronary blood vessels detected via fluorscopy"
   ]
  },
  {
   "cell_type": "code",
   "execution_count": 101,
   "id": "b125e447",
   "metadata": {
    "scrolled": false
   },
   "outputs": [
    {
     "name": "stdout",
     "output_type": "stream",
     "text": [
      "                            OLS Regression Results                            \n",
      "==============================================================================\n",
      "Dep. Variable:                 RestBP   R-squared:                       0.010\n",
      "Model:                            OLS   Adj. R-squared:                  0.006\n",
      "Method:                 Least Squares   F-statistic:                     2.858\n",
      "Date:                Thu, 16 Sep 2021   Prob (F-statistic):             0.0920\n",
      "Time:                        14:10:30   Log-Likelihood:                -1274.0\n",
      "No. Observations:                 297   AIC:                             2552.\n",
      "Df Residuals:                     295   BIC:                             2559.\n",
      "Df Model:                           1                                         \n",
      "Covariance Type:            nonrobust                                         \n",
      "==============================================================================\n",
      "                 coef    std err          t      P>|t|      [0.025      0.975]\n",
      "------------------------------------------------------------------------------\n",
      "Intercept    130.4395      1.267    102.928      0.000     127.945     132.934\n",
      "Ca             1.8530      1.096      1.691      0.092      -0.304       4.010\n",
      "==============================================================================\n",
      "Omnibus:                       26.042   Durbin-Watson:                   1.919\n",
      "Prob(Omnibus):                  0.000   Jarque-Bera (JB):               31.165\n",
      "Skew:                           0.694   Prob(JB):                     1.71e-07\n",
      "Kurtosis:                       3.768   Cond. No.                         1.99\n",
      "==============================================================================\n",
      "\n",
      "Notes:\n",
      "[1] Standard Errors assume that the covariance matrix of the errors is correctly specified.\n"
     ]
    }
   ],
   "source": [
    "results = smf.ols('RestBP ~ Ca', data=heart).fit()\n",
    "print(results.summary())"
   ]
  },
  {
   "cell_type": "code",
   "execution_count": 102,
   "id": "7174f262",
   "metadata": {
    "scrolled": true
   },
   "outputs": [
    {
     "data": {
      "text/plain": [
       "<AxesSubplot:xlabel='Ca', ylabel='RestBP'>"
      ]
     },
     "execution_count": 102,
     "metadata": {},
     "output_type": "execute_result"
    },
    {
     "data": {
      "image/png": "[encoded data removed]",
      "text/plain": [
       "<Figure size 432x288 with 1 Axes>"
      ]
     },
     "metadata": {
      "needs_background": "light"
     },
     "output_type": "display_data"
    }
   ],
   "source": [
    "sns.regplot(data=heart, x=\"Ca\", y=\"RestBP\")"
   ]
  },
  {
   "cell_type": "markdown",
   "id": "248be23e",
   "metadata": {},
   "source": [
    "#### Resting blood pressure and The thallium stress test response"
   ]
  },
  {
   "cell_type": "markdown",
   "id": "0550db66",
   "metadata": {},
   "source": [
    "#### Resting blood pressure and The patient's diagnostic status for Angiographic heart disease"
   ]
  },
  {
   "cell_type": "code",
   "execution_count": 103,
   "id": "03eef222",
   "metadata": {
    "scrolled": false
   },
   "outputs": [
    {
     "name": "stdout",
     "output_type": "stream",
     "text": [
      "                            OLS Regression Results                            \n",
      "==============================================================================\n",
      "Dep. Variable:                 RestBP   R-squared:                       0.024\n",
      "Model:                            OLS   Adj. R-squared:                  0.020\n",
      "Method:                 Least Squares   F-statistic:                     7.118\n",
      "Date:                Thu, 16 Sep 2021   Prob (F-statistic):            0.00805\n",
      "Time:                        14:10:30   Log-Likelihood:                -1271.9\n",
      "No. Observations:                 297   AIC:                             2548.\n",
      "Df Residuals:                     295   BIC:                             2555.\n",
      "Df Model:                           1                                         \n",
      "Covariance Type:            nonrobust                                         \n",
      "==============================================================================\n",
      "                 coef    std err          t      P>|t|      [0.025      0.975]\n",
      "------------------------------------------------------------------------------\n",
      "Intercept    129.1750      1.390     92.933      0.000     126.439     131.911\n",
      "AHD            5.4600      2.047      2.668      0.008       1.432       9.488\n",
      "==============================================================================\n",
      "Omnibus:                       22.666   Durbin-Watson:                   1.906\n",
      "Prob(Omnibus):                  0.000   Jarque-Bera (JB):               25.909\n",
      "Skew:                           0.655   Prob(JB):                     2.37e-06\n",
      "Kurtosis:                       3.616   Cond. No.                         2.54\n",
      "==============================================================================\n",
      "\n",
      "Notes:\n",
      "[1] Standard Errors assume that the covariance matrix of the errors is correctly specified.\n"
     ]
    }
   ],
   "source": [
    "results = smf.ols('RestBP ~ AHD', data=heart).fit()\n",
    "print(results.summary())"
   ]
  },
  {
   "cell_type": "code",
   "execution_count": 104,
   "id": "d4e053ff",
   "metadata": {},
   "outputs": [
    {
     "data": {
      "text/plain": [
       "<AxesSubplot:xlabel='AHD', ylabel='RestBP'>"
      ]
     },
     "execution_count": 104,
     "metadata": {},
     "output_type": "execute_result"
    },
    {
     "data": {
      "image/png": "[encoded data removed]",
      "text/plain": [
       "<Figure size 432x288 with 1 Axes>"
      ]
     },
     "metadata": {
      "needs_background": "light"
     },
     "output_type": "display_data"
    }
   ],
   "source": [
    "sns.regplot(data=heart, x=\"AHD\", y=\"RestBP\")"
   ]
  },
  {
   "cell_type": "markdown",
   "id": "d8874f3d",
   "metadata": {},
   "source": [
    "### Multiple regression to predict resting blood pressure using all variables\n",
    "Identify which predictors are statistically significant"
   ]
  },
  {
   "cell_type": "code",
   "execution_count": 115,
   "id": "ecf8283a",
   "metadata": {},
   "outputs": [
    {
     "data": {
      "text/plain": [
       "array([ True, False, False, False,  True, False, False, False,  True,\n",
       "       False, False, False, False])"
      ]
     },
     "execution_count": 115,
     "metadata": {},
     "output_type": "execute_result"
    }
   ],
   "source": [
    "from sklearn.feature_selection import SequentialFeatureSelector\n",
    "from sklearn.neighbors import KNeighborsClassifier\n",
    "from sklearn import linear_model\n",
    "reg=linear_model.LinearRegression()\n",
    "sfs=SequentialFeatureSelector(\n",
    "    reg, n_features_to_select=3,\n",
    "    \n",
    ")\n",
    "\n",
    "# Get predictors and response\n",
    "X=heart.drop(['PatientID', 'RestBP'], axis=1).to_numpy()\n",
    "y=heart['RestBP'].to_numpy()\n",
    "\n",
    "# Run sequential feature selector\n",
    "sfs.fit(X,y)\n",
    "sfs.get_support()\n"
   ]
  },
  {
   "cell_type": "code",
   "execution_count": 112,
   "id": "b9910b40",
   "metadata": {
    "scrolled": true
   },
   "outputs": [
    {
     "data": {
      "text/plain": [
       "array([145, 160, 120, 130, 130, 120, 140, 120, 130, 140, 140, 140, 130,\n",
       "       120, 172, 150, 110, 140, 130, 130, 110, 150, 120, 132, 130, 120,\n",
       "       120, 150, 150, 110, 140, 117, 140, 135, 130, 140, 120, 150, 132,\n",
       "       150, 150, 140, 160, 150, 130, 112, 110, 150, 140, 130, 105, 120,\n",
       "       112, 130, 130, 124, 140, 110, 125, 125, 130, 142, 128, 135, 120,\n",
       "       145, 140, 150, 170, 150, 155, 125, 120, 110, 110, 160, 125, 140,\n",
       "       130, 150, 104, 130, 140, 180, 120, 140, 138, 138, 130, 120, 160,\n",
       "       130, 108, 135, 128, 110, 150, 134, 122, 115, 118, 128, 110, 120,\n",
       "       108, 140, 128, 120, 118, 145, 125, 118, 132, 130, 135, 140, 138,\n",
       "       130, 135, 130, 150, 100, 140, 138, 130, 200, 110, 120, 124, 120,\n",
       "        94, 130, 140, 122, 135, 145, 120, 120, 125, 140, 170, 128, 125,\n",
       "       105, 108, 165, 112, 128, 102, 152, 102, 115, 160, 120, 130, 140,\n",
       "       125, 140, 118, 101, 125, 110, 100, 124, 132, 132, 126, 112, 160,\n",
       "       142, 174, 140, 145, 152, 108, 132, 130, 130, 124, 134, 148, 178,\n",
       "       158, 140, 120, 160, 192, 140, 129, 140, 138, 120, 100, 160, 138,\n",
       "       120, 160, 110, 180, 150, 140, 110, 142, 128, 144, 130, 150, 120,\n",
       "       120, 130, 178, 112, 120, 105, 138, 130, 138, 112, 108,  94, 123,\n",
       "       108, 118, 112, 152, 110, 112, 136, 180, 118, 120, 160, 122, 130,\n",
       "       120, 134, 120, 110, 126, 130, 134, 120, 120, 100, 110, 125, 128,\n",
       "       110, 146, 128, 120, 115, 120, 106, 140, 156, 124, 118, 136, 150,\n",
       "       120, 138, 136, 126, 152, 130, 140, 160, 140, 112, 134, 170, 146,\n",
       "       138, 154, 130, 110, 130, 128, 122, 148, 114, 170, 130, 120, 152,\n",
       "       132, 120, 140, 124, 120, 164, 140, 110, 144, 130, 130])"
      ]
     },
     "execution_count": 112,
     "metadata": {},
     "output_type": "execute_result"
    }
   ],
   "source": [
    "\n"
   ]
  },
  {
   "cell_type": "markdown",
   "id": "101ad40e",
   "metadata": {},
   "source": [
    "### Forwards and Backwards selection of resting blood pressure predictors\n",
    "  + choose an optimal combination of covariates to predict a patient's resting blood pressure\n",
    "  + justify the choice of parameters\n",
    "  + I'm planning to use adjusted R squared because it accounts for both fit and parsimony"
   ]
  },
  {
   "cell_type": "markdown",
   "id": "d213ca44",
   "metadata": {},
   "source": [
    "# Angiographic Heart Disease Prediction"
   ]
  },
  {
   "cell_type": "markdown",
   "id": "bac5c0de",
   "metadata": {},
   "source": [
    "### Single variable logistic regression\n",
    "estimate the probability of a patient having angiographic heart disease for each variable separately. \n",
    "+ Report Odds ratio's and 95% CI\n",
    "+ Identify variables that are significantly associated with AHD"
   ]
  },
  {
   "cell_type": "markdown",
   "id": "e09656f6",
   "metadata": {},
   "source": [
    "### Fit a multiple logistic regression using all predictors\n",
    "+ Identify significant predictors\n",
    "+ Report the C-Index and AUC, plot ROC curve\n",
    "+ Report and describe sensetivity and specificicity of the optimally thresholded model"
   ]
  },
  {
   "cell_type": "markdown",
   "id": "9553f646",
   "metadata": {},
   "source": [
    "# Angiographic Heart Disease Train/Test Split\n",
    "\n",
    "### Split the data into appropriate partition's using sklearn\n",
    "\n",
    "### Assess the similarity of the partitions in each of the predictors and the outcome"
   ]
  }
 ],
 "metadata": {
  "kernelspec": {
   "display_name": "Python 3 (ipykernel)",
   "language": "python",
   "name": "python3"
  },
  "language_info": {
   "codemirror_mode": {
    "name": "ipython",
    "version": 3
   },
   "file_extension": ".py",
   "mimetype": "text/x-python",
   "name": "python",
   "nbconvert_exporter": "python",
   "pygments_lexer": "ipython3",
   "version": "3.9.7"
  }
 },
 "nbformat": 4,
 "nbformat_minor": 5
}
