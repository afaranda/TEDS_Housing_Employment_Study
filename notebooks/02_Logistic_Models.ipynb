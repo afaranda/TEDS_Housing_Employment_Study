{
 "cells": [
  {
   "cell_type": "markdown",
   "id": "c54862d0-e8f6-4eff-8e3a-a8373dc363ed",
   "metadata": {},
   "source": [
    "# Logistic Regression Analysis"
   ]
  },
  {
   "cell_type": "markdown",
   "id": "a22145f5-4328-479f-9f02-9d55af5e09c6",
   "metadata": {},
   "source": [
    "### Import data and libraries"
   ]
  },
  {
   "cell_type": "code",
   "execution_count": null,
   "id": "0606936e-517c-49ef-8877-37a1151f7035",
   "metadata": {
    "jp-MarkdownHeadingCollapsed": true,
    "tags": []
   },
   "outputs": [],
   "source": [
    "## Load modules\n",
    "import pandas as pd\n",
    "import numpy as np\n",
    "import seaborn as sns\n",
    "import statsmodels.api as sm\n",
    "import statsmodels.formula.api as smf\n",
    "import os\n",
    "from matplotlib import pyplot as plt\n",
    "\n",
    "## Specify WD\n",
    "#wd = \"/home/abf/BINF667013_Final_Project/\"\n",
    "wd = (\n",
    "    \"/Users/adam/Documents/BINF667013_BigDataAnalyticsHealthcare/\" +\n",
    "    \"Final_Project/TEDS_Study\"\n",
    ")\n",
    "os.chdir(wd)\n",
    "\n",
    "## Load data\n",
    "# teds_laws = pd.read_csv(\"analysis_objects/teds_laws.csv\")\n",
    "teds_imp_laws = pd.read_csv(\"analysis_objects/teds_imp_laws.csv\")\n",
    "\n",
    "\n",
    "### Define A function to flag relapses\n",
    "def relapse(x, **kwargs):\n",
    "    if  (\n",
    "            x['SUB1'] == kwargs['drug'] and (\n",
    "            x['SUB1_D'] == kwargs['drug'] or\\\n",
    "            x['SUB2_D'] == kwargs['drug'] or\\\n",
    "            x['SUB3_D'] == kwargs['drug']\n",
    "        )\n",
    "    ):\n",
    "        return 1\n",
    "    else:\n",
    "        return 0\n",
    "\n",
    "\n",
    "## Add Relapse Columns\n",
    "teds_imp_laws = teds_imp_laws.assign(\n",
    "    alc_cases = lambda x: x.loc[:,['SUB1']].apply(lambda x: x['SUB1'] == 2, axis=1),\n",
    "    hrn_cases = lambda x: x.loc[:,['SUB1']].apply(lambda x: x['SUB1'] == 5, axis=1),\n",
    "    met_cases = lambda x: x.loc[:,['SUB1']].apply(lambda x: x['SUB1'] == 10, axis=1),\n",
    "    alc_relapse = lambda x: x.loc[:,['SUB1', 'SUB1_D', 'SUB2_D', 'SUB3_D']].apply(relapse, axis=1, drug=2),\n",
    "    hrn_relapse = lambda x: x.loc[:,['SUB1', 'SUB1_D', 'SUB2_D', 'SUB3_D']].apply(relapse, axis=1, drug=5),\n",
    "    met_relapse = lambda x: x.loc[:,['SUB1', 'SUB1_D', 'SUB2_D', 'SUB3_D']].apply(relapse, axis=1, drug=10)\n",
    ")\n",
    "\n",
    "\n"
   ]
  },
  {
   "cell_type": "markdown",
   "id": "54a2e83b-144c-4283-9c37-90a9cb2d36b9",
   "metadata": {
    "tags": []
   },
   "source": [
    "### Logit model to estimate influence of IC_laws on relapse rate"
   ]
  },
  {
   "cell_type": "code",
   "execution_count": null,
   "id": "1184a05d-e253-4cf1-82af-c400eeec104f",
   "metadata": {},
   "outputs": [],
   "source": [
    "## Index casese of alcohol use at intake\n",
    "alc_cases = teds_imp_laws.alc_cases == 1\n",
    "\n",
    "## Fit Model\n",
    "alc_result = smf.logit(\"alc_relapse ~ IC_law\", data=teds_imp_laws.loc[alc_cases, :]).fit()\n",
    "print(alc_result.summary())\n",
    "\n"
   ]
  },
  {
   "cell_type": "code",
   "execution_count": null,
   "id": "7e7fe6a2-99ea-485d-883c-6d1300ff7e2c",
   "metadata": {},
   "outputs": [],
   "source": [
    "## Index casese of heroin use at intake\n",
    "hrn_cases = teds_imp_laws.hrn_cases == 1\n",
    "\n",
    "## Fit Model\n",
    "hrn_result = smf.logit(\"hrn_relapse ~ IC_law\", data=teds_imp_laws.loc[hrn_cases, :]).fit()\n",
    "print(hrn_result.summary())\n",
    "\n"
   ]
  },
  {
   "cell_type": "code",
   "execution_count": null,
   "id": "9599ed85-40b2-4fb7-957f-e172c2796eff",
   "metadata": {
    "tags": []
   },
   "outputs": [],
   "source": [
    "## Index casese of methamphetamine use at intake\n",
    "met_cases = teds_imp_laws.met_cases == 1\n",
    "\n",
    "## Fit Model\n",
    "met_result = smf.logit(\"met_relapse ~ IC_law\", data=teds_imp_laws.loc[met_cases, :]).fit()\n",
    "print(met_result.summary())\n",
    "\n"
   ]
  },
  {
   "cell_type": "markdown",
   "id": "b3df9a10-84c3-45e3-83b1-0a762f25782b",
   "metadata": {},
   "source": [
    "### Ordinal logstic regression to estimate influence of IC_laws on length of stay"
   ]
  },
  {
   "cell_type": "code",
   "execution_count": null,
   "id": "d1cde25b-b4a6-44b8-8ab4-0bf34970aa3b",
   "metadata": {},
   "outputs": [],
   "source": [
    "## Convert Length of Stay to Ordinal -- this may require Biomix\n",
    "## Failed to Converge after almost an hour\n",
    "from statsmodels.miscmodels.ordinal_model import OrderedModel\n",
    "teds_imp_laws['LOS']=teds_imp_laws['LOS'].astype(\n",
    "    pd.CategoricalDtype(\n",
    "        categories =[i for i in range(0,38)], ordered=True)\n",
    ")\n",
    "\n",
    "#results = OrderedModel(\n",
    "#    teds_imp_laws['LOS'],\n",
    "#    teds_imp_laws['IC_law'],\n",
    "#    distr='logit'\n",
    "#).fit(method='bfgs')\n",
    "\n",
    "\n",
    "## Chi Square Test for significance -- obviously low p value\n",
    "tab=pd.crosstab(teds_imp_laws['IC_law'], teds_imp_laws['LOS'])\n",
    "table=sm.stats.Table(tab)\n",
    "print(table.test_nominal_association())\n",
    "print(table.test_nominal_association().pvalue)\n"
   ]
  }
 ],
 "metadata": {
  "kernelspec": {
   "display_name": "Python 3 (ipykernel)",
   "language": "python",
   "name": "python3"
  },
  "language_info": {
   "codemirror_mode": {
    "name": "ipython",
    "version": 3
   },
   "file_extension": ".py",
   "mimetype": "text/x-python",
   "name": "python",
   "nbconvert_exporter": "python",
   "pygments_lexer": "ipython3",
   "version": "3.9.7"
  }
 },
 "nbformat": 4,
 "nbformat_minor": 5
}
