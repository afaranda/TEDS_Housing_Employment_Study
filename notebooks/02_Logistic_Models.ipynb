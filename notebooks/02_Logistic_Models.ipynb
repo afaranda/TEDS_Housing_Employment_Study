{
 "cells": [
  {
   "cell_type": "markdown",
   "id": "c54862d0-e8f6-4eff-8e3a-a8373dc363ed",
   "metadata": {},
   "source": [
    "# Logistic Regression Analysis"
   ]
  },
  {
   "cell_type": "markdown",
   "id": "a22145f5-4328-479f-9f02-9d55af5e09c6",
   "metadata": {},
   "source": [
    "### Import data and libraries"
   ]
  },
  {
   "cell_type": "code",
   "execution_count": 3,
   "id": "0606936e-517c-49ef-8877-37a1151f7035",
   "metadata": {
    "jp-MarkdownHeadingCollapsed": true,
    "tags": []
   },
   "outputs": [],
   "source": [
    "## Load modules\n",
    "import pandas as pd\n",
    "import numpy as np\n",
    "import seaborn as sns\n",
    "import statsmodels.api as sm\n",
    "import statsmodels.formula.api as smf\n",
    "import os\n",
    "from matplotlib import pyplot as plt\n",
    "\n",
    "## Specify WD\n",
    "#wd = \"/home/abf/BINF667013_Final_Project/\"\n",
    "wd = (\n",
    "    \"/Users/adam/Documents/BINF667013_BigDataAnalyticsHealthcare/\" +\n",
    "    \"Final_Project/TEDS_Study\"\n",
    ")\n",
    "os.chdir(wd)\n",
    "\n",
    "## Load data\n",
    "# teds_laws = pd.read_csv(\"analysis_objects/teds_laws.csv\")\n",
    "teds_imp_laws = pd.read_csv(\"analysis_objects/teds_imp_laws.csv\")\n",
    "\n",
    "\n",
    "### Define A function to flag relapses\n",
    "def relapse(x, **kwargs):\n",
    "    if  (\n",
    "            x['SUB1'] == kwargs['drug'] and (\n",
    "            x['SUB1_D'] == kwargs['drug'] or\\\n",
    "            x['SUB2_D'] == kwargs['drug'] or\\\n",
    "            x['SUB3_D'] == kwargs['drug']\n",
    "        )\n",
    "    ):\n",
    "        return 1\n",
    "    else:\n",
    "        return 0\n",
    "\n",
    "\n",
    "## Add Relapse Columns\n",
    "teds_imp_laws = teds_imp_laws.assign(\n",
    "    alc_cases = lambda x: x.loc[:,['SUB1']].apply(lambda x: x['SUB1'] == 2, axis=1),\n",
    "    hrn_cases = lambda x: x.loc[:,['SUB1']].apply(lambda x: x['SUB1'] == 5, axis=1),\n",
    "    met_cases = lambda x: x.loc[:,['SUB1']].apply(lambda x: x['SUB1'] == 10, axis=1),\n",
    "    alc_relapse = lambda x: x.loc[:,['SUB1', 'SUB1_D', 'SUB2_D', 'SUB3_D']].apply(relapse, axis=1, drug=2),\n",
    "    hrn_relapse = lambda x: x.loc[:,['SUB1', 'SUB1_D', 'SUB2_D', 'SUB3_D']].apply(relapse, axis=1, drug=5),\n",
    "    met_relapse = lambda x: x.loc[:,['SUB1', 'SUB1_D', 'SUB2_D', 'SUB3_D']].apply(relapse, axis=1, drug=10)\n",
    ")\n",
    "\n",
    "\n"
   ]
  },
  {
   "cell_type": "markdown",
   "id": "54a2e83b-144c-4283-9c37-90a9cb2d36b9",
   "metadata": {
    "tags": []
   },
   "source": [
    "### Logit model to estimate influence of IC_laws on relapse rate"
   ]
  },
  {
   "cell_type": "code",
   "execution_count": 5,
   "id": "1184a05d-e253-4cf1-82af-c400eeec104f",
   "metadata": {},
   "outputs": [
    {
     "name": "stdout",
     "output_type": "stream",
     "text": [
      "Optimization terminated successfully.\n",
      "         Current function value: 0.210564\n",
      "         Iterations 8\n",
      "                           Logit Regression Results                           \n",
      "==============================================================================\n",
      "Dep. Variable:            alc_relapse   No. Observations:               408055\n",
      "Model:                          Logit   Df Residuals:                   408053\n",
      "Method:                           MLE   Df Model:                            1\n",
      "Date:                Sat, 11 Dec 2021   Pseudo R-squ.:                  0.1220\n",
      "Time:                        20:11:59   Log-Likelihood:                -85922.\n",
      "converged:                       True   LL-Null:                       -97862.\n",
      "Covariance Type:            nonrobust   LLR p-value:                     0.000\n",
      "==============================================================================\n",
      "                 coef    std err          z      P>|z|      [0.025      0.975]\n",
      "------------------------------------------------------------------------------\n",
      "Intercept      1.6643      0.008    214.789      0.000       1.649       1.679\n",
      "IC_law         2.0713      0.015    141.279      0.000       2.043       2.100\n",
      "==============================================================================\n"
     ]
    }
   ],
   "source": [
    "## Index casese of alcohol use at intake\n",
    "alc_cases = teds_imp_laws.alc_cases == 1\n",
    "\n",
    "## Fit Model\n",
    "alc_result = smf.logit(\"alc_relapse ~ IC_law\", data=teds_imp_laws.loc[alc_cases, :]).fit()\n",
    "print(alc_result.summary())\n",
    "\n"
   ]
  },
  {
   "cell_type": "code",
   "execution_count": 6,
   "id": "7e7fe6a2-99ea-485d-883c-6d1300ff7e2c",
   "metadata": {},
   "outputs": [
    {
     "name": "stdout",
     "output_type": "stream",
     "text": [
      "Optimization terminated successfully.\n",
      "         Current function value: 0.277543\n",
      "         Iterations 7\n",
      "                           Logit Regression Results                           \n",
      "==============================================================================\n",
      "Dep. Variable:            hrn_relapse   No. Observations:               341431\n",
      "Model:                          Logit   Df Residuals:                   341429\n",
      "Method:                           MLE   Df Model:                            1\n",
      "Date:                Sat, 11 Dec 2021   Pseudo R-squ.:                  0.1097\n",
      "Time:                        20:12:03   Log-Likelihood:                -94762.\n",
      "converged:                       True   LL-Null:                   -1.0643e+05\n",
      "Covariance Type:            nonrobust   LLR p-value:                     0.000\n",
      "==============================================================================\n",
      "                 coef    std err          z      P>|z|      [0.025      0.975]\n",
      "------------------------------------------------------------------------------\n",
      "Intercept      1.4410      0.007    205.143      0.000       1.427       1.455\n",
      "IC_law         1.9235      0.014    137.250      0.000       1.896       1.951\n",
      "==============================================================================\n"
     ]
    }
   ],
   "source": [
    "## Index casese of heroin use at intake\n",
    "hrn_cases = teds_imp_laws.hrn_cases == 1\n",
    "\n",
    "## Fit Model\n",
    "hrn_result = smf.logit(\"hrn_relapse ~ IC_law\", data=teds_imp_laws.loc[hrn_cases, :]).fit()\n",
    "print(hrn_result.summary())\n",
    "\n"
   ]
  },
  {
   "cell_type": "code",
   "execution_count": 7,
   "id": "9599ed85-40b2-4fb7-957f-e172c2796eff",
   "metadata": {
    "tags": []
   },
   "outputs": [
    {
     "name": "stdout",
     "output_type": "stream",
     "text": [
      "Optimization terminated successfully.\n",
      "         Current function value: 0.173461\n",
      "         Iterations 7\n",
      "                           Logit Regression Results                           \n",
      "==============================================================================\n",
      "Dep. Variable:            met_relapse   No. Observations:               144926\n",
      "Model:                          Logit   Df Residuals:                   144924\n",
      "Method:                           MLE   Df Model:                            1\n",
      "Date:                Sat, 11 Dec 2021   Pseudo R-squ.:               7.551e-05\n",
      "Time:                        20:12:06   Log-Likelihood:                -25139.\n",
      "converged:                       True   LL-Null:                       -25141.\n",
      "Covariance Type:            nonrobust   LLR p-value:                   0.05135\n",
      "==============================================================================\n",
      "                 coef    std err          z      P>|z|      [0.025      0.975]\n",
      "------------------------------------------------------------------------------\n",
      "Intercept      3.1936      0.034     94.108      0.000       3.127       3.260\n",
      "IC_law        -0.0712      0.037     -1.934      0.053      -0.143       0.001\n",
      "==============================================================================\n"
     ]
    }
   ],
   "source": [
    "## Index casese of methamphetamine use at intake\n",
    "met_cases = teds_imp_laws.met_cases == 1\n",
    "\n",
    "## Fit Model\n",
    "met_result = smf.logit(\"met_relapse ~ IC_law\", data=teds_imp_laws.loc[met_cases, :]).fit()\n",
    "print(met_result.summary())\n",
    "\n"
   ]
  },
  {
   "cell_type": "markdown",
   "id": "63cc8b04-fdc3-40f2-b287-f3e75afec7d2",
   "metadata": {},
   "source": [
    "### Multinomial Logistic Regression to estimate IC Law influence on referral source"
   ]
  },
  {
   "cell_type": "code",
   "execution_count": 54,
   "id": "5b3394d0-3161-49a4-9ace-37275abe641a",
   "metadata": {},
   "outputs": [
    {
     "name": "stdout",
     "output_type": "stream",
     "text": [
      "Optimization terminated successfully.\n",
      "         Current function value: 1.462462\n",
      "         Iterations 9\n",
      "                          MNLogit Regression Results                          \n",
      "==============================================================================\n",
      "Dep. Variable:                PSOURCE   No. Observations:               402197\n",
      "Model:                        MNLogit   Df Residuals:                   402185\n",
      "Method:                           MLE   Df Model:                            6\n",
      "Date:                Thu, 09 Dec 2021   Pseudo R-squ.:                0.002500\n",
      "Time:                        10:29:24   Log-Likelihood:            -5.8820e+05\n",
      "converged:                       True   LL-Null:                   -5.8967e+05\n",
      "Covariance Type:            nonrobust   LLR p-value:                     0.000\n",
      "==============================================================================\n",
      " PSOURCE=2       coef    std err          z      P>|z|      [0.025      0.975]\n",
      "------------------------------------------------------------------------------\n",
      "Intercept     -1.0187      0.009   -108.188      0.000      -1.037      -1.000\n",
      "IC_law        -0.4336      0.012    -37.255      0.000      -0.456      -0.411\n",
      "------------------------------------------------------------------------------\n",
      " PSOURCE=3       coef    std err          z      P>|z|      [0.025      0.975]\n",
      "------------------------------------------------------------------------------\n",
      "Intercept     -1.4136      0.011   -128.936      0.000      -1.435      -1.392\n",
      "IC_law        -0.0177      0.013     -1.371      0.170      -0.043       0.008\n",
      "------------------------------------------------------------------------------\n",
      " PSOURCE=4       coef    std err          z      P>|z|      [0.025      0.975]\n",
      "------------------------------------------------------------------------------\n",
      "Intercept     -5.5951      0.080    -70.199      0.000      -5.751      -5.439\n",
      "IC_law         0.5648      0.088      6.428      0.000       0.393       0.737\n",
      "------------------------------------------------------------------------------\n",
      " PSOURCE=5       coef    std err          z      P>|z|      [0.025      0.975]\n",
      "------------------------------------------------------------------------------\n",
      "Intercept     -3.4632      0.028   -124.462      0.000      -3.518      -3.409\n",
      "IC_law        -1.4849      0.045    -32.919      0.000      -1.573      -1.397\n",
      "------------------------------------------------------------------------------\n",
      " PSOURCE=6       coef    std err          z      P>|z|      [0.025      0.975]\n",
      "------------------------------------------------------------------------------\n",
      "Intercept     -1.0558      0.010   -110.603      0.000      -1.074      -1.037\n",
      "IC_law        -0.3143      0.012    -27.055      0.000      -0.337      -0.292\n",
      "------------------------------------------------------------------------------\n",
      " PSOURCE=7       coef    std err          z      P>|z|      [0.025      0.975]\n",
      "------------------------------------------------------------------------------\n",
      "Intercept     -0.0960      0.007    -13.651      0.000      -0.110      -0.082\n",
      "IC_law        -0.2080      0.008    -24.803      0.000      -0.224      -0.192\n",
      "==============================================================================\n"
     ]
    }
   ],
   "source": [
    "\n",
    "## Fit Model\n",
    "alc_result = smf.mnlogit(\"PSOURCE ~ IC_law\", data=teds_imp_laws.loc[alc_cases, :]).fit()\n",
    "print(alc_result.summary())\n",
    "\n",
    "## Fit Model\n",
    "hrn_result = smf.mnlogit(\"PSOURCE ~ IC_law\", data=teds_imp_laws.loc[hrn_cases, :]).fit()\n",
    "print(hrn_result.summary())\n",
    "\n",
    "## Fit Model\n",
    "met_result = smf.mnlogit(\"PSOURCE ~ IC_law\", data=teds_imp_laws.loc[met_cases, :]).fit()\n",
    "print(met_result.summary())\n",
    "\n",
    "\n"
   ]
  },
  {
   "cell_type": "markdown",
   "id": "2d163c35-8109-45ba-bbcc-9a7f3430ca68",
   "metadata": {},
   "source": [
    "### Multinomial Logistic Regression to estimate Influence of IC Laws on Services "
   ]
  },
  {
   "cell_type": "code",
   "execution_count": 8,
   "id": "9b8e8b1c-e0a6-49a6-9a0d-2a5131265871",
   "metadata": {},
   "outputs": [
    {
     "name": "stdout",
     "output_type": "stream",
     "text": [
      "Optimization terminated successfully.\n",
      "         Current function value: 1.485724\n",
      "         Iterations 8\n",
      "                          MNLogit Regression Results                          \n",
      "==============================================================================\n",
      "Dep. Variable:               SERVICES   No. Observations:               408055\n",
      "Model:                        MNLogit   Df Residuals:                   408041\n",
      "Method:                           MLE   Df Model:                            7\n",
      "Date:                Sat, 11 Dec 2021   Pseudo R-squ.:                 0.02667\n",
      "Time:                        20:16:13   Log-Likelihood:            -6.0626e+05\n",
      "converged:                       True   LL-Null:                   -6.2287e+05\n",
      "Covariance Type:            nonrobust   LLR p-value:                     0.000\n",
      "==============================================================================\n",
      "SERVICES=2       coef    std err          z      P>|z|      [0.025      0.975]\n",
      "------------------------------------------------------------------------------\n",
      "Intercept      1.5400      0.025     61.633      0.000       1.491       1.589\n",
      "IC_law         1.5261      0.030     50.156      0.000       1.466       1.586\n",
      "------------------------------------------------------------------------------\n",
      "SERVICES=3       coef    std err          z      P>|z|      [0.025      0.975]\n",
      "------------------------------------------------------------------------------\n",
      "Intercept     -3.4141      0.127    -26.875      0.000      -3.663      -3.165\n",
      "IC_law         2.1853      0.132     16.561      0.000       1.927       2.444\n",
      "------------------------------------------------------------------------------\n",
      "SERVICES=4       coef    std err          z      P>|z|      [0.025      0.975]\n",
      "------------------------------------------------------------------------------\n",
      "Intercept      2.5051      0.024    106.228      0.000       2.459       2.551\n",
      "IC_law        -0.4026      0.030    -13.578      0.000      -0.461      -0.345\n",
      "------------------------------------------------------------------------------\n",
      "SERVICES=5       coef    std err          z      P>|z|      [0.025      0.975]\n",
      "------------------------------------------------------------------------------\n",
      "Intercept      1.3597      0.025     53.492      0.000       1.310       1.410\n",
      "IC_law         0.3556      0.031     11.325      0.000       0.294       0.417\n",
      "------------------------------------------------------------------------------\n",
      "SERVICES=6       coef    std err          z      P>|z|      [0.025      0.975]\n",
      "------------------------------------------------------------------------------\n",
      "Intercept      1.9143      0.024     78.816      0.000       1.867       1.962\n",
      "IC_law         0.6516      0.030     21.717      0.000       0.593       0.710\n",
      "------------------------------------------------------------------------------\n",
      "SERVICES=7       coef    std err          z      P>|z|      [0.025      0.975]\n",
      "------------------------------------------------------------------------------\n",
      "Intercept      3.5628      0.023    154.945      0.000       3.518       3.608\n",
      "IC_law        -0.1265      0.029     -4.400      0.000      -0.183      -0.070\n",
      "------------------------------------------------------------------------------\n",
      "SERVICES=8       coef    std err          z      P>|z|      [0.025      0.975]\n",
      "------------------------------------------------------------------------------\n",
      "Intercept     -2.3103      0.075    -30.613      0.000      -2.458      -2.162\n",
      "IC_law         2.4098      0.079     30.495      0.000       2.255       2.565\n",
      "==============================================================================\n",
      "Optimization terminated successfully.\n",
      "         Current function value: 1.538317\n",
      "         Iterations 10\n",
      "                          MNLogit Regression Results                          \n",
      "==============================================================================\n",
      "Dep. Variable:               SERVICES   No. Observations:               341431\n",
      "Model:                        MNLogit   Df Residuals:                   341417\n",
      "Method:                           MLE   Df Model:                            7\n",
      "Date:                Sat, 11 Dec 2021   Pseudo R-squ.:                 0.02440\n",
      "Time:                        20:20:16   Log-Likelihood:            -5.2523e+05\n",
      "converged:                       True   LL-Null:                   -5.3837e+05\n",
      "Covariance Type:            nonrobust   LLR p-value:                     0.000\n",
      "==============================================================================\n",
      "SERVICES=2       coef    std err          z      P>|z|      [0.025      0.975]\n",
      "------------------------------------------------------------------------------\n",
      "Intercept      2.2292      0.027     83.633      0.000       2.177       2.281\n",
      "IC_law         0.5948      0.031     19.036      0.000       0.534       0.656\n",
      "------------------------------------------------------------------------------\n",
      "SERVICES=3       coef    std err          z      P>|z|      [0.025      0.975]\n",
      "------------------------------------------------------------------------------\n",
      "Intercept     -3.7683      0.169    -22.353      0.000      -4.099      -3.438\n",
      "IC_law         1.8816      0.174     10.805      0.000       1.540       2.223\n",
      "------------------------------------------------------------------------------\n",
      "SERVICES=4       coef    std err          z      P>|z|      [0.025      0.975]\n",
      "------------------------------------------------------------------------------\n",
      "Intercept      2.7731      0.026    106.225      0.000       2.722       2.824\n",
      "IC_law        -1.2286      0.031    -39.126      0.000      -1.290      -1.167\n",
      "------------------------------------------------------------------------------\n",
      "SERVICES=5       coef    std err          z      P>|z|      [0.025      0.975]\n",
      "------------------------------------------------------------------------------\n",
      "Intercept      2.0906      0.027     77.873      0.000       2.038       2.143\n",
      "IC_law        -0.5638      0.032    -17.601      0.000      -0.627      -0.501\n",
      "------------------------------------------------------------------------------\n",
      "SERVICES=6       coef    std err          z      P>|z|      [0.025      0.975]\n",
      "------------------------------------------------------------------------------\n",
      "Intercept      2.4601      0.026     93.233      0.000       2.408       2.512\n",
      "IC_law        -0.5022      0.031    -16.020      0.000      -0.564      -0.441\n",
      "------------------------------------------------------------------------------\n",
      "SERVICES=7       coef    std err          z      P>|z|      [0.025      0.975]\n",
      "------------------------------------------------------------------------------\n",
      "Intercept      3.6261      0.026    141.307      0.000       3.576       3.676\n",
      "IC_law        -0.7394      0.030    -24.331      0.000      -0.799      -0.680\n",
      "------------------------------------------------------------------------------\n",
      "SERVICES=8       coef    std err          z      P>|z|      [0.025      0.975]\n",
      "------------------------------------------------------------------------------\n",
      "Intercept     -1.1574      0.052    -22.348      0.000      -1.259      -1.056\n",
      "IC_law         0.4883      0.059      8.346      0.000       0.374       0.603\n",
      "==============================================================================\n",
      "Optimization terminated successfully.\n",
      "         Current function value: 1.504208\n",
      "         Iterations 9\n",
      "                          MNLogit Regression Results                          \n",
      "==============================================================================\n",
      "Dep. Variable:               SERVICES   No. Observations:               144926\n",
      "Model:                        MNLogit   Df Residuals:                   144912\n",
      "Method:                           MLE   Df Model:                            7\n",
      "Date:                Sat, 11 Dec 2021   Pseudo R-squ.:                0.006597\n",
      "Time:                        20:22:12   Log-Likelihood:            -2.1800e+05\n",
      "converged:                       True   LL-Null:                   -2.1945e+05\n",
      "Covariance Type:            nonrobust   LLR p-value:                     0.000\n",
      "==============================================================================\n",
      "SERVICES=2       coef    std err          z      P>|z|      [0.025      0.975]\n",
      "------------------------------------------------------------------------------\n",
      "Intercept      6.0767      0.448     13.572      0.000       5.199       6.954\n",
      "IC_law        -2.0810      0.452     -4.604      0.000      -2.967      -1.195\n",
      "------------------------------------------------------------------------------\n",
      "SERVICES=3       coef    std err          z      P>|z|      [0.025      0.975]\n",
      "------------------------------------------------------------------------------\n",
      "Intercept      1.8245      0.482      3.786      0.000       0.880       2.769\n",
      "IC_law        -2.3468      0.492     -4.766      0.000      -3.312      -1.382\n",
      "------------------------------------------------------------------------------\n",
      "SERVICES=4       coef    std err          z      P>|z|      [0.025      0.975]\n",
      "------------------------------------------------------------------------------\n",
      "Intercept      6.3936      0.448     14.285      0.000       5.516       7.271\n",
      "IC_law        -2.1252      0.452     -4.703      0.000      -3.011      -1.240\n",
      "------------------------------------------------------------------------------\n",
      "SERVICES=5       coef    std err          z      P>|z|      [0.025      0.975]\n",
      "------------------------------------------------------------------------------\n",
      "Intercept      5.8195      0.448     12.993      0.000       4.942       6.697\n",
      "IC_law        -1.5720      0.452     -3.477      0.001      -2.458      -0.686\n",
      "------------------------------------------------------------------------------\n",
      "SERVICES=6       coef    std err          z      P>|z|      [0.025      0.975]\n",
      "------------------------------------------------------------------------------\n",
      "Intercept      6.4800      0.448     14.479      0.000       5.603       7.357\n",
      "IC_law        -1.9782      0.452     -4.378      0.000      -2.864      -1.093\n",
      "------------------------------------------------------------------------------\n",
      "SERVICES=7       coef    std err          z      P>|z|      [0.025      0.975]\n",
      "------------------------------------------------------------------------------\n",
      "Intercept      7.8457      0.447     17.540      0.000       6.969       8.722\n",
      "IC_law        -2.6774      0.452     -5.929      0.000      -3.562      -1.792\n",
      "------------------------------------------------------------------------------\n",
      "SERVICES=8       coef    std err          z      P>|z|      [0.025      0.975]\n",
      "------------------------------------------------------------------------------\n",
      "Intercept      1.2238      0.509      2.405      0.016       0.227       2.221\n",
      "IC_law        -1.5489      0.518     -2.993      0.003      -2.563      -0.534\n",
      "==============================================================================\n"
     ]
    }
   ],
   "source": [
    "\n",
    "## Fit Model\n",
    "alc_result = smf.mnlogit(\"SERVICES ~ IC_law\", data=teds_imp_laws.loc[alc_cases, :]).fit()\n",
    "print(alc_result.summary())\n",
    "\n",
    "## Fit Model\n",
    "hrn_result = smf.mnlogit(\"SERVICES ~ IC_law\", data=teds_imp_laws.loc[hrn_cases, :]).fit()\n",
    "print(hrn_result.summary())\n",
    "\n",
    "## Fit Model\n",
    "met_result = smf.mnlogit(\"SERVICES ~ IC_law\", data=teds_imp_laws.loc[met_cases, :]).fit()\n",
    "print(met_result.summary())\n",
    "\n",
    "\n"
   ]
  },
  {
   "cell_type": "markdown",
   "id": "b3df9a10-84c3-45e3-83b1-0a762f25782b",
   "metadata": {},
   "source": [
    "### Ordinal logstic regression to estimate influence of IC_laws on length of stay"
   ]
  },
  {
   "cell_type": "code",
   "execution_count": 47,
   "id": "b4275ffe-4d58-4318-a107-cb45e10c9f10",
   "metadata": {
    "tags": []
   },
   "outputs": [
    {
     "name": "stdout",
     "output_type": "stream",
     "text": [
      "Alcohol\n",
      "KstestResult(statistic=0.20936568829921126, pvalue=0.0)\n",
      "Heroin\n",
      "KstestResult(statistic=0.21953637899583572, pvalue=0.0)\n",
      "Methamphetamine\n",
      "KstestResult(statistic=0.1716798198170666, pvalue=0.0)\n"
     ]
    }
   ],
   "source": [
    "from scipy import stats\n",
    "\n",
    "print(\"Alcohol\")\n",
    "print(stats.ks_2samp(\n",
    "    teds_imp_laws[alc_cases].loc[teds_imp_laws.IC_law==0,'LOS'],\n",
    "    teds_imp_laws[alc_cases].loc[teds_imp_laws.IC_law==1,'LOS']\n",
    "))\n",
    "\n",
    "print(\"Heroin\")\n",
    "print(stats.ks_2samp(\n",
    "    teds_imp_laws[hrn_cases].loc[teds_imp_laws.IC_law==0,'LOS'],\n",
    "    teds_imp_laws[hrn_cases].loc[teds_imp_laws.IC_law==1,'LOS']\n",
    "))\n",
    "\n",
    "print(\"Methamphetamine\")\n",
    "print(stats.ks_2samp(\n",
    "    teds_imp_laws[met_cases].loc[teds_imp_laws.IC_law==0,'LOS'],\n",
    "    teds_imp_laws[met_cases].loc[teds_imp_laws.IC_law==1,'LOS']\n",
    "))\n",
    "\n",
    "\n"
   ]
  },
  {
   "cell_type": "code",
   "execution_count": 49,
   "id": "25fc3d80-6fec-40a2-b853-1ada5b3f2967",
   "metadata": {
    "tags": []
   },
   "outputs": [
    {
     "name": "stdout",
     "output_type": "stream",
     "text": [
      "Alcohol\n",
      "KstestResult(statistic=0.07587544061704266, pvalue=0.0)\n",
      "Heroin\n",
      "KstestResult(statistic=0.20979095761223854, pvalue=0.0)\n",
      "Methamphetamine\n",
      "KstestResult(statistic=0.1746890061630923, pvalue=0.0)\n"
     ]
    }
   ],
   "source": [
    "from scipy import stats\n",
    "\n",
    "print(\"Alcohol\")\n",
    "print(stats.ks_2samp(\n",
    "    teds_imp_laws[alc_cases].loc[teds_imp_laws.pre_2016==0,'LOS'],\n",
    "    teds_imp_laws[alc_cases].loc[teds_imp_laws.pre_2016==1,'LOS']\n",
    "))\n",
    "\n",
    "print(\"Heroin\")\n",
    "print(stats.ks_2samp(\n",
    "    teds_imp_laws[hrn_cases].loc[teds_imp_laws.pre_2016==0,'LOS'],\n",
    "    teds_imp_laws[hrn_cases].loc[teds_imp_laws.pre_2016==1,'LOS']\n",
    "))\n",
    "\n",
    "print(\"Methamphetamine\")\n",
    "print(stats.ks_2samp(\n",
    "    teds_imp_laws[met_cases].loc[teds_imp_laws.pre_2016==0,'LOS'],\n",
    "    teds_imp_laws[met_cases].loc[teds_imp_laws.pre_2016==1,'LOS']\n",
    "))\n",
    "\n",
    "\n"
   ]
  },
  {
   "cell_type": "code",
   "execution_count": 48,
   "id": "a276471d-ea92-4b6c-b8e5-2fe6bf0dae93",
   "metadata": {
    "tags": []
   },
   "outputs": [
    {
     "name": "stdout",
     "output_type": "stream",
     "text": [
      "df          36\n",
      "pvalue      0.0\n",
      "statistic   54599.52387088093\n",
      "0.0\n"
     ]
    }
   ],
   "source": [
    "## Convert Length of Stay to Ordinal -- this may require Biomix\n",
    "## Failed to Converge after almost an hour\n",
    "from statsmodels.miscmodels.ordinal_model import OrderedModel\n",
    "teds_imp_laws['LOS']=teds_imp_laws['LOS'].astype(\n",
    "    pd.CategoricalDtype(\n",
    "        categories =[i for i in range(0,38)], ordered=True)\n",
    ")\n",
    "\n",
    "#results = OrderedModel(\n",
    "#    teds_imp_laws['LOS'],\n",
    "#    teds_imp_laws['IC_law'],\n",
    "#    distr='logit'\n",
    "#).fit(method='bfgs')\n",
    "\n",
    "\n",
    "## Chi Square Test for significance -- obviously low p value\n",
    "tab=pd.crosstab(teds_imp_laws['IC_law'], teds_imp_laws['LOS'])\n",
    "table=sm.stats.Table(tab)\n",
    "print(table.test_nominal_association())\n",
    "print(table.test_nominal_association().pvalue)"
   ]
  }
 ],
 "metadata": {
  "kernelspec": {
   "display_name": "Python 3 (ipykernel)",
   "language": "python",
   "name": "python3"
  },
  "language_info": {
   "codemirror_mode": {
    "name": "ipython",
    "version": 3
   },
   "file_extension": ".py",
   "mimetype": "text/x-python",
   "name": "python",
   "nbconvert_exporter": "python",
   "pygments_lexer": "ipython3",
   "version": "3.9.7"
  }
 },
 "nbformat": 4,
 "nbformat_minor": 5
}
