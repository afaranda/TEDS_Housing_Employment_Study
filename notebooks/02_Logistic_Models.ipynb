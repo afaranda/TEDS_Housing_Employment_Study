{
 "cells": [
  {
   "cell_type": "markdown",
   "id": "c54862d0-e8f6-4eff-8e3a-a8373dc363ed",
   "metadata": {},
   "source": [
    "# Logistic Regression Analysis"
   ]
  },
  {
   "cell_type": "markdown",
   "id": "a22145f5-4328-479f-9f02-9d55af5e09c6",
   "metadata": {},
   "source": [
    "### Import data and libraries"
   ]
  },
  {
   "cell_type": "code",
   "execution_count": null,
   "id": "0606936e-517c-49ef-8877-37a1151f7035",
   "metadata": {
    "jp-MarkdownHeadingCollapsed": true,
    "tags": []
   },
   "outputs": [],
   "source": [
    "## Load modules\n",
    "import pandas as pd\n",
    "import numpy as np\n",
    "import seaborn as sns\n",
    "import statsmodels.api as sm\n",
    "import statsmodels.formula.api as smf\n",
    "import os\n",
    "from matplotlib import pyplot as plt\n",
    "\n",
    "## Specify WD\n",
    "#wd = \"/home/abf/BINF667013_Final_Project/\"\n",
    "wd = (\n",
    "    \"/Users/adam/Documents/BINF667013_BigDataAnalyticsHealthcare/\" +\n",
    "    \"Final_Project/TEDS_Study\"\n",
    ")\n",
    "os.chdir(wd)\n",
    "\n",
    "## Load data\n",
    "# teds_laws = pd.read_csv(\"analysis_objects/teds_laws.csv\")\n",
    "teds_imp_laws = pd.read_csv(\"analysis_objects/teds_imp_laws.csv\")\n",
    "\n",
    "\n",
    "### Define A function to flag relapses\n",
    "def relapse(x, **kwargs):\n",
    "    if  (\n",
    "            x['SUB1'] == kwargs['drug'] and (\n",
    "            x['SUB1_D'] == kwargs['drug'] or\\\n",
    "            x['SUB2_D'] == kwargs['drug'] or\\\n",
    "            x['SUB3_D'] == kwargs['drug']\n",
    "        )\n",
    "    ):\n",
    "        return 1\n",
    "    else:\n",
    "        return 0\n",
    "\n",
    "\n",
    "## Add Relapse Columns\n",
    "teds_imp_laws = teds_imp_laws.assign(\n",
    "    alc_cases = lambda x: x.loc[:,['SUB1']].apply(lambda x: x['SUB1'] == 2, axis=1),\n",
    "    hrn_cases = lambda x: x.loc[:,['SUB1']].apply(lambda x: x['SUB1'] == 5, axis=1),\n",
    "    met_cases = lambda x: x.loc[:,['SUB1']].apply(lambda x: x['SUB1'] == 10, axis=1),\n",
    "    alc_relapse = lambda x: x.loc[:,['SUB1', 'SUB1_D', 'SUB2_D', 'SUB3_D']].apply(relapse, axis=1, drug=2),\n",
    "    hrn_relapse = lambda x: x.loc[:,['SUB1', 'SUB1_D', 'SUB2_D', 'SUB3_D']].apply(relapse, axis=1, drug=5),\n",
    "    met_relapse = lambda x: x.loc[:,['SUB1', 'SUB1_D', 'SUB2_D', 'SUB3_D']].apply(relapse, axis=1, drug=10)\n",
    ")\n",
    "\n",
    "\n"
   ]
  },
  {
   "cell_type": "markdown",
   "id": "54a2e83b-144c-4283-9c37-90a9cb2d36b9",
   "metadata": {
    "tags": []
   },
   "source": [
    "### Logit model to estimate influence of IC_laws on relapse rate"
   ]
  },
  {
   "cell_type": "code",
   "execution_count": 35,
   "id": "1184a05d-e253-4cf1-82af-c400eeec104f",
   "metadata": {},
   "outputs": [
    {
     "name": "stdout",
     "output_type": "stream",
     "text": [
      "Optimization terminated successfully.\n",
      "         Current function value: 0.248188\n",
      "         Iterations 7\n",
      "                           Logit Regression Results                           \n",
      "==============================================================================\n",
      "Dep. Variable:            alc_relapse   No. Observations:               408047\n",
      "Model:                          Logit   Df Residuals:                   408045\n",
      "Method:                           MLE   Df Model:                            1\n",
      "Date:                Wed, 08 Dec 2021   Pseudo R-squ.:                  0.1216\n",
      "Time:                        11:10:08   Log-Likelihood:            -1.0127e+05\n",
      "converged:                       True   LL-Null:                   -1.1529e+05\n",
      "Covariance Type:            nonrobust   LLR p-value:                     0.000\n",
      "==============================================================================\n",
      "                 coef    std err          z      P>|z|      [0.025      0.975]\n",
      "------------------------------------------------------------------------------\n",
      "Intercept      1.4160      0.007    198.015      0.000       1.402       1.430\n",
      "IC_law         2.0050      0.013    155.527      0.000       1.980       2.030\n",
      "==============================================================================\n"
     ]
    },
    {
     "data": {
      "text/html": [
       "<div>\n",
       "<style scoped>\n",
       "    .dataframe tbody tr th:only-of-type {\n",
       "        vertical-align: middle;\n",
       "    }\n",
       "\n",
       "    .dataframe tbody tr th {\n",
       "        vertical-align: top;\n",
       "    }\n",
       "\n",
       "    .dataframe thead th {\n",
       "        text-align: right;\n",
       "    }\n",
       "</style>\n",
       "<table border=\"1\" class=\"dataframe\">\n",
       "  <thead>\n",
       "    <tr style=\"text-align: right;\">\n",
       "      <th></th>\n",
       "      <th>IC_law</th>\n",
       "      <th>alc_cases</th>\n",
       "      <th>alc_relapse</th>\n",
       "    </tr>\n",
       "  </thead>\n",
       "  <tbody>\n",
       "    <tr>\n",
       "      <th>0</th>\n",
       "      <td>0</td>\n",
       "      <td>124439</td>\n",
       "      <td>100137</td>\n",
       "    </tr>\n",
       "    <tr>\n",
       "      <th>1</th>\n",
       "      <td>1</td>\n",
       "      <td>283608</td>\n",
       "      <td>274633</td>\n",
       "    </tr>\n",
       "  </tbody>\n",
       "</table>\n",
       "</div>"
      ],
      "text/plain": [
       "   IC_law  alc_cases  alc_relapse\n",
       "0       0     124439       100137\n",
       "1       1     283608       274633"
      ]
     },
     "execution_count": 35,
     "metadata": {},
     "output_type": "execute_result"
    }
   ],
   "source": [
    "## Index casese of alcohol use at intake\n",
    "alc_cases = teds_imp_laws.alc_cases == 1\n",
    "\n",
    "## Fit Model\n",
    "alc_result = smf.logit(\"alc_relapse ~ IC_law\", data=teds_imp_laws.loc[alc_cases, :]).fit()\n",
    "print(alc_result.summary())\n",
    "\n"
   ]
  },
  {
   "cell_type": "code",
   "execution_count": 46,
   "id": "bca6638f-c918-4860-a10d-4d65e87713f9",
   "metadata": {},
   "outputs": [
    {
     "name": "stdout",
     "output_type": "stream",
     "text": [
      "   IC_law  alc_cases  alc_relapse  relapse_rate  total\n",
      "0       0     124439       100137     80.470753    100\n",
      "1       1     283608       274633     96.835421    100\n"
     ]
    },
    {
     "data": {
      "image/png": "[encoded data removed]",
      "text/plain": [
       "<Figure size 432x432 with 1 Axes>"
      ]
     },
     "metadata": {
      "needs_background": "light"
     },
     "output_type": "display_data"
    }
   ],
   "source": [
    "plt.figure(figsize=(6, 6))\n",
    "plot_data = teds_imp_laws.loc[\n",
    "    alc_cases,['IC_law','alc_cases','alc_relapse']\n",
    "].groupby(['IC_law']).sum().reset_index().assign(\n",
    "    relapse_rate = lambda x: 100*(x['alc_relapse'] / x['alc_cases']),\n",
    "    total = [100, 100]\n",
    ")\n",
    "print(plot_data)\n",
    "total_bars = sns.barplot(\n",
    "    x=\"IC_law\",  \n",
    "    y=\"total\",\n",
    "    data=plot_data, \n",
    "    color='darkblue'\n",
    ")\n",
    "\n",
    "rate_bars = sns.barplot(\n",
    "    x=\"IC_law\",  \n",
    "    y=\"relapse_rate\",\n",
    "    data=plot_data, \n",
    "    color='lightblue'\n",
    ")\n",
    "plt.show()\n",
    "\n",
    "\n"
   ]
  },
  {
   "cell_type": "code",
   "execution_count": null,
   "id": "7e7fe6a2-99ea-485d-883c-6d1300ff7e2c",
   "metadata": {},
   "outputs": [],
   "source": [
    "## Index casese of heroin use at intake\n",
    "hrn_cases = teds_imp_laws.hrn_cases == 1\n",
    "\n",
    "## Fit Model\n",
    "hrn_result = smf.logit(\"hrn_relapse ~ IC_law\", data=teds_imp_laws.loc[hrn_cases, :]).fit()\n",
    "print(hrn_result.summary())\n",
    "\n"
   ]
  },
  {
   "cell_type": "code",
   "execution_count": 47,
   "id": "c60733f3-2601-4d63-8fb1-8f49b64b9ee1",
   "metadata": {},
   "outputs": [
    {
     "name": "stdout",
     "output_type": "stream",
     "text": [
      "   IC_law  hrn_cases  hrn_relapse  relapse_rate  total\n",
      "0       0     130957        98536     75.243019    100\n",
      "1       1     210474       201793     95.875500    100\n"
     ]
    },
    {
     "data": {
      "image/png": "[encoded data removed]",
      "text/plain": [
       "<Figure size 432x432 with 1 Axes>"
      ]
     },
     "metadata": {
      "needs_background": "light"
     },
     "output_type": "display_data"
    }
   ],
   "source": [
    "plt.figure(figsize=(6, 6))\n",
    "plot_data = teds_imp_laws.loc[\n",
    "    hrn_cases,['IC_law','hrn_cases','hrn_relapse']\n",
    "].groupby(['IC_law']).sum().reset_index().assign(\n",
    "    relapse_rate = lambda x: 100*(x['hrn_relapse'] / x['hrn_cases']),\n",
    "    total = [100, 100]\n",
    ")\n",
    "print(plot_data)\n",
    "total_bars = sns.barplot(\n",
    "    x=\"IC_law\",  \n",
    "    y=\"total\",\n",
    "    data=plot_data, \n",
    "    color='darkblue'\n",
    ")\n",
    "\n",
    "rate_bars = sns.barplot(\n",
    "    x=\"IC_law\",  \n",
    "    y=\"relapse_rate\",\n",
    "    data=plot_data, \n",
    "    color='lightblue'\n",
    ")\n",
    "plt.show()\n",
    "\n",
    "\n"
   ]
  },
  {
   "cell_type": "code",
   "execution_count": null,
   "id": "9599ed85-40b2-4fb7-957f-e172c2796eff",
   "metadata": {
    "tags": []
   },
   "outputs": [],
   "source": [
    "## Index casese of methamphetamine use at intake\n",
    "met_cases = teds_imp_laws.met_cases == 1\n",
    "\n",
    "## Fit Model\n",
    "met_result = smf.logit(\"met_relapse ~ IC_law\", data=teds_imp_laws.loc[met_cases, :]).fit()\n",
    "print(met_result.summary())\n",
    "\n"
   ]
  },
  {
   "cell_type": "code",
   "execution_count": 48,
   "id": "51730bce-001b-47ac-9a59-09bfb72397d2",
   "metadata": {},
   "outputs": [
    {
     "name": "stdout",
     "output_type": "stream",
     "text": [
      "   IC_law  met_cases  met_relapse  relapse_rate  total\n",
      "0       0      22936        21937     95.644402    100\n",
      "1       1     121984       114550     93.905758    100\n"
     ]
    },
    {
     "data": {
      "image/png": "[encoded data removed]",
      "text/plain": [
       "<Figure size 432x432 with 1 Axes>"
      ]
     },
     "metadata": {
      "needs_background": "light"
     },
     "output_type": "display_data"
    }
   ],
   "source": [
    "plt.figure(figsize=(6, 6))\n",
    "plot_data = teds_imp_laws.loc[\n",
    "    met_cases,['IC_law','met_cases','met_relapse']\n",
    "].groupby(['IC_law']).sum().reset_index().assign(\n",
    "    relapse_rate = lambda x: 100*(x['met_relapse'] / x['met_cases']),\n",
    "    total = [100, 100]\n",
    ")\n",
    "print(plot_data)\n",
    "total_bars = sns.barplot(\n",
    "    x=\"IC_law\",  \n",
    "    y=\"total\",\n",
    "    data=plot_data, \n",
    "    color='darkblue'\n",
    ")\n",
    "\n",
    "rate_bars = sns.barplot(\n",
    "    x=\"IC_law\",  \n",
    "    y=\"relapse_rate\",\n",
    "    data=plot_data, \n",
    "    color='lightblue'\n",
    ")\n",
    "plt.show()\n",
    "\n",
    "\n"
   ]
  }
 ],
 "metadata": {
  "kernelspec": {
   "display_name": "Python 3 (ipykernel)",
   "language": "python",
   "name": "python3"
  },
  "language_info": {
   "codemirror_mode": {
    "name": "ipython",
    "version": 3
   },
   "file_extension": ".py",
   "mimetype": "text/x-python",
   "name": "python",
   "nbconvert_exporter": "python",
   "pygments_lexer": "ipython3",
   "version": "3.9.7"
  }
 },
 "nbformat": 4,
 "nbformat_minor": 5
}
