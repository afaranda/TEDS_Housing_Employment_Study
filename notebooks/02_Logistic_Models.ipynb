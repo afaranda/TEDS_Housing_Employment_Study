{
 "cells": [
  {
   "cell_type": "markdown",
   "id": "c54862d0-e8f6-4eff-8e3a-a8373dc363ed",
   "metadata": {},
   "source": [
    "# Logistic Regression Analysis"
   ]
  },
  {
   "cell_type": "markdown",
   "id": "a22145f5-4328-479f-9f02-9d55af5e09c6",
   "metadata": {},
   "source": [
    "### Import data and libraries"
   ]
  },
  {
   "cell_type": "code",
   "execution_count": 4,
   "id": "0606936e-517c-49ef-8877-37a1151f7035",
   "metadata": {
    "jp-MarkdownHeadingCollapsed": true,
    "tags": []
   },
   "outputs": [],
   "source": [
    "## Load modules\n",
    "import pandas as pd\n",
    "import numpy as np\n",
    "import seaborn as sns\n",
    "import statsmodels.api as sm\n",
    "import statsmodels.formula.api as smf\n",
    "import os\n",
    "from matplotlib import pyplot as plt\n",
    "\n",
    "## Specify WD\n",
    "#wd = \"/home/abf/BINF667013_Final_Project/\"\n",
    "wd = (\n",
    "    \"/Users/adam/Documents/BINF667013_BigDataAnalyticsHealthcare/\" +\n",
    "    \"Final_Project/TEDS_Study\"\n",
    ")\n",
    "os.chdir(wd)\n",
    "\n",
    "## Load data\n",
    "# teds_laws = pd.read_csv(\"analysis_objects/teds_laws.csv\")\n",
    "teds_imp_laws = pd.read_csv(\"analysis_objects/teds_imp_laws.csv\")\n",
    "\n",
    "\n",
    "### Define A function to flag relapses\n",
    "def relapse(x, **kwargs):\n",
    "    if  (\n",
    "            x['SUB1'] == kwargs['drug'] and (\n",
    "            x['SUB1_D'] == kwargs['drug'] or\\\n",
    "            x['SUB2_D'] == kwargs['drug'] or\\\n",
    "            x['SUB3_D'] == kwargs['drug']\n",
    "        )\n",
    "    ):\n",
    "        return 1\n",
    "    else:\n",
    "        return 0\n",
    "\n",
    "\n",
    "## Add Relapse Columns\n",
    "teds_imp_laws = teds_imp_laws.assign(\n",
    "    alc_cases = lambda x: x.loc[:,['SUB1']].apply(lambda x: x['SUB1'] == 2, axis=1),\n",
    "    hrn_cases = lambda x: x.loc[:,['SUB1']].apply(lambda x: x['SUB1'] == 5, axis=1),\n",
    "    met_cases = lambda x: x.loc[:,['SUB1']].apply(lambda x: x['SUB1'] == 10, axis=1),\n",
    "    alc_relapse = lambda x: x.loc[:,['SUB1', 'SUB1_D', 'SUB2_D', 'SUB3_D']].apply(relapse, axis=1, drug=2),\n",
    "    hrn_relapse = lambda x: x.loc[:,['SUB1', 'SUB1_D', 'SUB2_D', 'SUB3_D']].apply(relapse, axis=1, drug=5),\n",
    "    met_relapse = lambda x: x.loc[:,['SUB1', 'SUB1_D', 'SUB2_D', 'SUB3_D']].apply(relapse, axis=1, drug=10)\n",
    ")\n",
    "\n",
    "\n"
   ]
  },
  {
   "cell_type": "markdown",
   "id": "54a2e83b-144c-4283-9c37-90a9cb2d36b9",
   "metadata": {
    "tags": []
   },
   "source": [
    "### Logit model to estimate influence of IC_laws on relapse rate"
   ]
  },
  {
   "cell_type": "code",
   "execution_count": 6,
   "id": "1184a05d-e253-4cf1-82af-c400eeec104f",
   "metadata": {},
   "outputs": [
    {
     "name": "stdout",
     "output_type": "stream",
     "text": [
      "Optimization terminated successfully.\n",
      "         Current function value: 0.248188\n",
      "         Iterations 7\n",
      "                           Logit Regression Results                           \n",
      "==============================================================================\n",
      "Dep. Variable:            alc_relapse   No. Observations:               408047\n",
      "Model:                          Logit   Df Residuals:                   408045\n",
      "Method:                           MLE   Df Model:                            1\n",
      "Date:                Thu, 09 Dec 2021   Pseudo R-squ.:                  0.1216\n",
      "Time:                        09:39:32   Log-Likelihood:            -1.0127e+05\n",
      "converged:                       True   LL-Null:                   -1.1529e+05\n",
      "Covariance Type:            nonrobust   LLR p-value:                     0.000\n",
      "==============================================================================\n",
      "                 coef    std err          z      P>|z|      [0.025      0.975]\n",
      "------------------------------------------------------------------------------\n",
      "Intercept      1.4160      0.007    198.015      0.000       1.402       1.430\n",
      "IC_law         2.0050      0.013    155.527      0.000       1.980       2.030\n",
      "==============================================================================\n"
     ]
    }
   ],
   "source": [
    "## Index casese of alcohol use at intake\n",
    "alc_cases = teds_imp_laws.alc_cases == 1\n",
    "\n",
    "## Fit Model\n",
    "alc_result = smf.logit(\"alc_relapse ~ IC_law\", data=teds_imp_laws.loc[alc_cases, :]).fit()\n",
    "print(alc_result.summary())\n",
    "\n"
   ]
  },
  {
   "cell_type": "code",
   "execution_count": 7,
   "id": "7e7fe6a2-99ea-485d-883c-6d1300ff7e2c",
   "metadata": {},
   "outputs": [
    {
     "name": "stdout",
     "output_type": "stream",
     "text": [
      "Optimization terminated successfully.\n",
      "         Current function value: 0.320611\n",
      "         Iterations 7\n",
      "                           Logit Regression Results                           \n",
      "==============================================================================\n",
      "Dep. Variable:            hrn_relapse   No. Observations:               341431\n",
      "Model:                          Logit   Df Residuals:                   341429\n",
      "Method:                           MLE   Df Model:                            1\n",
      "Date:                Thu, 09 Dec 2021   Pseudo R-squ.:                  0.1280\n",
      "Time:                        09:39:33   Log-Likelihood:            -1.0947e+05\n",
      "converged:                       True   LL-Null:                   -1.2554e+05\n",
      "Covariance Type:            nonrobust   LLR p-value:                     0.000\n",
      "==============================================================================\n",
      "                 coef    std err          z      P>|z|      [0.025      0.975]\n",
      "------------------------------------------------------------------------------\n",
      "Intercept      1.1116      0.006    173.620      0.000       1.099       1.124\n",
      "IC_law         2.0345      0.013    160.269      0.000       2.010       2.059\n",
      "==============================================================================\n"
     ]
    }
   ],
   "source": [
    "## Index casese of heroin use at intake\n",
    "hrn_cases = teds_imp_laws.hrn_cases == 1\n",
    "\n",
    "## Fit Model\n",
    "hrn_result = smf.logit(\"hrn_relapse ~ IC_law\", data=teds_imp_laws.loc[hrn_cases, :]).fit()\n",
    "print(hrn_result.summary())\n",
    "\n"
   ]
  },
  {
   "cell_type": "code",
   "execution_count": 8,
   "id": "9599ed85-40b2-4fb7-957f-e172c2796eff",
   "metadata": {
    "tags": []
   },
   "outputs": [
    {
     "name": "stdout",
     "output_type": "stream",
     "text": [
      "Optimization terminated successfully.\n",
      "         Current function value: 0.221565\n",
      "         Iterations 7\n",
      "                           Logit Regression Results                           \n",
      "==============================================================================\n",
      "Dep. Variable:            met_relapse   No. Observations:               144920\n",
      "Model:                          Logit   Df Residuals:                   144918\n",
      "Method:                           MLE   Df Model:                            1\n",
      "Date:                Thu, 09 Dec 2021   Pseudo R-squ.:                0.001777\n",
      "Time:                        09:39:34   Log-Likelihood:                -32109.\n",
      "converged:                       True   LL-Null:                       -32166.\n",
      "Covariance Type:            nonrobust   LLR p-value:                 1.095e-26\n",
      "==============================================================================\n",
      "                 coef    std err          z      P>|z|      [0.025      0.975]\n",
      "------------------------------------------------------------------------------\n",
      "Intercept      3.0892      0.032     95.489      0.000       3.026       3.153\n",
      "IC_law        -0.3542      0.034    -10.269      0.000      -0.422      -0.287\n",
      "==============================================================================\n"
     ]
    }
   ],
   "source": [
    "## Index casese of methamphetamine use at intake\n",
    "met_cases = teds_imp_laws.met_cases == 1\n",
    "\n",
    "## Fit Model\n",
    "met_result = smf.logit(\"met_relapse ~ IC_law\", data=teds_imp_laws.loc[met_cases, :]).fit()\n",
    "print(met_result.summary())\n",
    "\n"
   ]
  },
  {
   "cell_type": "markdown",
   "id": "63cc8b04-fdc3-40f2-b287-f3e75afec7d2",
   "metadata": {},
   "source": [
    "### Multinomial Logistic Regression to estimate IC Law influence on referral source"
   ]
  },
  {
   "cell_type": "code",
   "execution_count": 54,
   "id": "5b3394d0-3161-49a4-9ace-37275abe641a",
   "metadata": {},
   "outputs": [
    {
     "name": "stdout",
     "output_type": "stream",
     "text": [
      "Optimization terminated successfully.\n",
      "         Current function value: 1.462462\n",
      "         Iterations 9\n",
      "                          MNLogit Regression Results                          \n",
      "==============================================================================\n",
      "Dep. Variable:                PSOURCE   No. Observations:               402197\n",
      "Model:                        MNLogit   Df Residuals:                   402185\n",
      "Method:                           MLE   Df Model:                            6\n",
      "Date:                Thu, 09 Dec 2021   Pseudo R-squ.:                0.002500\n",
      "Time:                        10:29:24   Log-Likelihood:            -5.8820e+05\n",
      "converged:                       True   LL-Null:                   -5.8967e+05\n",
      "Covariance Type:            nonrobust   LLR p-value:                     0.000\n",
      "==============================================================================\n",
      " PSOURCE=2       coef    std err          z      P>|z|      [0.025      0.975]\n",
      "------------------------------------------------------------------------------\n",
      "Intercept     -1.0187      0.009   -108.188      0.000      -1.037      -1.000\n",
      "IC_law        -0.4336      0.012    -37.255      0.000      -0.456      -0.411\n",
      "------------------------------------------------------------------------------\n",
      " PSOURCE=3       coef    std err          z      P>|z|      [0.025      0.975]\n",
      "------------------------------------------------------------------------------\n",
      "Intercept     -1.4136      0.011   -128.936      0.000      -1.435      -1.392\n",
      "IC_law        -0.0177      0.013     -1.371      0.170      -0.043       0.008\n",
      "------------------------------------------------------------------------------\n",
      " PSOURCE=4       coef    std err          z      P>|z|      [0.025      0.975]\n",
      "------------------------------------------------------------------------------\n",
      "Intercept     -5.5951      0.080    -70.199      0.000      -5.751      -5.439\n",
      "IC_law         0.5648      0.088      6.428      0.000       0.393       0.737\n",
      "------------------------------------------------------------------------------\n",
      " PSOURCE=5       coef    std err          z      P>|z|      [0.025      0.975]\n",
      "------------------------------------------------------------------------------\n",
      "Intercept     -3.4632      0.028   -124.462      0.000      -3.518      -3.409\n",
      "IC_law        -1.4849      0.045    -32.919      0.000      -1.573      -1.397\n",
      "------------------------------------------------------------------------------\n",
      " PSOURCE=6       coef    std err          z      P>|z|      [0.025      0.975]\n",
      "------------------------------------------------------------------------------\n",
      "Intercept     -1.0558      0.010   -110.603      0.000      -1.074      -1.037\n",
      "IC_law        -0.3143      0.012    -27.055      0.000      -0.337      -0.292\n",
      "------------------------------------------------------------------------------\n",
      " PSOURCE=7       coef    std err          z      P>|z|      [0.025      0.975]\n",
      "------------------------------------------------------------------------------\n",
      "Intercept     -0.0960      0.007    -13.651      0.000      -0.110      -0.082\n",
      "IC_law        -0.2080      0.008    -24.803      0.000      -0.224      -0.192\n",
      "==============================================================================\n"
     ]
    }
   ],
   "source": [
    "\n",
    "## Fit Model\n",
    "alc_result = smf.mnlogit(\"PSOURCE ~ IC_law\", data=teds_imp_laws.loc[alc_cases, :]).fit()\n",
    "print(alc_result.summary())\n",
    "\n",
    "## Fit Model\n",
    "hrn_result = smf.mnlogit(\"PSOURCE ~ IC_law\", data=teds_imp_laws.loc[hrn_cases, :]).fit()\n",
    "print(hrn_result.summary())\n",
    "\n",
    "## Fit Model\n",
    "met_result = smf.mnlogit(\"PSOURCE ~ IC_law\", data=teds_imp_laws.loc[met_cases, :]).fit()\n",
    "print(met_result.summary())\n",
    "\n",
    "\n"
   ]
  },
  {
   "cell_type": "markdown",
   "id": "b3df9a10-84c3-45e3-83b1-0a762f25782b",
   "metadata": {},
   "source": [
    "### Ordinal logstic regression to estimate influence of IC_laws on length of stay"
   ]
  },
  {
   "cell_type": "code",
   "execution_count": 47,
   "id": "b4275ffe-4d58-4318-a107-cb45e10c9f10",
   "metadata": {
    "tags": []
   },
   "outputs": [
    {
     "name": "stdout",
     "output_type": "stream",
     "text": [
      "Alcohol\n",
      "KstestResult(statistic=0.20936568829921126, pvalue=0.0)\n",
      "Heroin\n",
      "KstestResult(statistic=0.21953637899583572, pvalue=0.0)\n",
      "Methamphetamine\n",
      "KstestResult(statistic=0.1716798198170666, pvalue=0.0)\n"
     ]
    }
   ],
   "source": [
    "from scipy import stats\n",
    "\n",
    "print(\"Alcohol\")\n",
    "print(stats.ks_2samp(\n",
    "    teds_imp_laws[alc_cases].loc[teds_imp_laws.IC_law==0,'LOS'],\n",
    "    teds_imp_laws[alc_cases].loc[teds_imp_laws.IC_law==1,'LOS']\n",
    "))\n",
    "\n",
    "print(\"Heroin\")\n",
    "print(stats.ks_2samp(\n",
    "    teds_imp_laws[hrn_cases].loc[teds_imp_laws.IC_law==0,'LOS'],\n",
    "    teds_imp_laws[hrn_cases].loc[teds_imp_laws.IC_law==1,'LOS']\n",
    "))\n",
    "\n",
    "print(\"Methamphetamine\")\n",
    "print(stats.ks_2samp(\n",
    "    teds_imp_laws[met_cases].loc[teds_imp_laws.IC_law==0,'LOS'],\n",
    "    teds_imp_laws[met_cases].loc[teds_imp_laws.IC_law==1,'LOS']\n",
    "))\n",
    "\n",
    "\n"
   ]
  },
  {
   "cell_type": "code",
   "execution_count": 49,
   "id": "25fc3d80-6fec-40a2-b853-1ada5b3f2967",
   "metadata": {
    "tags": []
   },
   "outputs": [
    {
     "name": "stdout",
     "output_type": "stream",
     "text": [
      "Alcohol\n",
      "KstestResult(statistic=0.07587544061704266, pvalue=0.0)\n",
      "Heroin\n",
      "KstestResult(statistic=0.20979095761223854, pvalue=0.0)\n",
      "Methamphetamine\n",
      "KstestResult(statistic=0.1746890061630923, pvalue=0.0)\n"
     ]
    }
   ],
   "source": [
    "from scipy import stats\n",
    "\n",
    "print(\"Alcohol\")\n",
    "print(stats.ks_2samp(\n",
    "    teds_imp_laws[alc_cases].loc[teds_imp_laws.pre_2016==0,'LOS'],\n",
    "    teds_imp_laws[alc_cases].loc[teds_imp_laws.pre_2016==1,'LOS']\n",
    "))\n",
    "\n",
    "print(\"Heroin\")\n",
    "print(stats.ks_2samp(\n",
    "    teds_imp_laws[hrn_cases].loc[teds_imp_laws.pre_2016==0,'LOS'],\n",
    "    teds_imp_laws[hrn_cases].loc[teds_imp_laws.pre_2016==1,'LOS']\n",
    "))\n",
    "\n",
    "print(\"Methamphetamine\")\n",
    "print(stats.ks_2samp(\n",
    "    teds_imp_laws[met_cases].loc[teds_imp_laws.pre_2016==0,'LOS'],\n",
    "    teds_imp_laws[met_cases].loc[teds_imp_laws.pre_2016==1,'LOS']\n",
    "))\n",
    "\n",
    "\n"
   ]
  },
  {
   "cell_type": "code",
   "execution_count": 48,
   "id": "a276471d-ea92-4b6c-b8e5-2fe6bf0dae93",
   "metadata": {
    "tags": []
   },
   "outputs": [
    {
     "name": "stdout",
     "output_type": "stream",
     "text": [
      "df          36\n",
      "pvalue      0.0\n",
      "statistic   54599.52387088093\n",
      "0.0\n"
     ]
    }
   ],
   "source": [
    "## Convert Length of Stay to Ordinal -- this may require Biomix\n",
    "## Failed to Converge after almost an hour\n",
    "from statsmodels.miscmodels.ordinal_model import OrderedModel\n",
    "teds_imp_laws['LOS']=teds_imp_laws['LOS'].astype(\n",
    "    pd.CategoricalDtype(\n",
    "        categories =[i for i in range(0,38)], ordered=True)\n",
    ")\n",
    "\n",
    "#results = OrderedModel(\n",
    "#    teds_imp_laws['LOS'],\n",
    "#    teds_imp_laws['IC_law'],\n",
    "#    distr='logit'\n",
    "#).fit(method='bfgs')\n",
    "\n",
    "\n",
    "## Chi Square Test for significance -- obviously low p value\n",
    "tab=pd.crosstab(teds_imp_laws['IC_law'], teds_imp_laws['LOS'])\n",
    "table=sm.stats.Table(tab)\n",
    "print(table.test_nominal_association())\n",
    "print(table.test_nominal_association().pvalue)"
   ]
  }
 ],
 "metadata": {
  "kernelspec": {
   "display_name": "Python 3 (ipykernel)",
   "language": "python",
   "name": "python3"
  },
  "language_info": {
   "codemirror_mode": {
    "name": "ipython",
    "version": 3
   },
   "file_extension": ".py",
   "mimetype": "text/x-python",
   "name": "python",
   "nbconvert_exporter": "python",
   "pygments_lexer": "ipython3",
   "version": "3.9.7"
  }
 },
 "nbformat": 4,
 "nbformat_minor": 5
}
