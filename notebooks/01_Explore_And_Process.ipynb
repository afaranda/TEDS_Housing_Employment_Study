{
 "cells": [
  {
   "cell_type": "code",
   "execution_count": 33,
   "id": "52a3e1b0-59c3-4ffd-ac51-53006fd0c7c5",
   "metadata": {},
   "outputs": [],
   "source": [
    "## Load TEDS-D 2017 Data into a Pandas Data Frame\n",
    "import pandas as pd\n",
    "import seaborn as sns\n",
    "from matplotlib import pyplot as plt\n",
    "import numpy as np\n",
    "import os\n",
    "\n",
    "## Specify WD\n",
    "wd = \"/home/abf/BINF667013_Final_Project/\"\n",
    "os.chdir(wd)\n",
    "\n",
    "teds=pd.read_csv(\"datasets/tedsd_puf_2017.csv\")\n",
    "teds\n",
    "\n",
    "## make a subset for development\n",
    "teds_subset=teds.iloc[1:10000, ]"
   ]
  },
  {
   "cell_type": "markdown",
   "id": "1f53ec70-3d0a-4d07-b81a-9573ae82b5b6",
   "metadata": {},
   "source": [
    "### Count the number of complete cases in this dataset"
   ]
  },
  {
   "cell_type": "code",
   "execution_count": 34,
   "id": "5c7cc954-7832-44bc-86a8-34741c96b50b",
   "metadata": {},
   "outputs": [
    {
     "data": {
      "text/plain": [
       "(292, 76)"
      ]
     },
     "execution_count": 34,
     "metadata": {},
     "output_type": "execute_result"
    }
   ],
   "source": [
    "mask=teds.apply(lambda x: x == -9).apply(lambda x: sum(x) == 0, axis=1)\n",
    "teds[mask].shape"
   ]
  },
  {
   "cell_type": "markdown",
   "id": "525cab66-9f14-482d-9158-fb265d01e7c9",
   "metadata": {},
   "source": [
    "### Count the number of cases with valid observations for at least 50% of available measures"
   ]
  },
  {
   "cell_type": "code",
   "execution_count": 40,
   "id": "18967aef-ae98-42f9-a50c-47957df7d750",
   "metadata": {},
   "outputs": [
    {
     "data": {
      "text/plain": [
       "(1660692, 76)"
      ]
     },
     "execution_count": 40,
     "metadata": {},
     "output_type": "execute_result"
    }
   ],
   "source": [
    "mask=teds.apply(lambda x: x == -9).apply(lambda x: sum(x) < 39, axis=1)\n",
    "teds[mask].shape"
   ]
  },
  {
   "cell_type": "markdown",
   "id": "5ccf84a3-5f9f-4e7c-aa23-2b975a9e56dc",
   "metadata": {},
   "source": [
    "### Count the number of cases with valid observations for at least 75% of available measures"
   ]
  },
  {
   "cell_type": "code",
   "execution_count": 41,
   "id": "6d5db327-ce4a-4f3c-a0d1-0f848472c982",
   "metadata": {
    "tags": []
   },
   "outputs": [
    {
     "data": {
      "text/plain": [
       "(1308896, 76)"
      ]
     },
     "execution_count": 41,
     "metadata": {},
     "output_type": "execute_result"
    }
   ],
   "source": [
    "mask=teds.apply(lambda x: x == -9).apply(lambda x: sum(x) < 19, axis=1)\n",
    "teds[mask].shape"
   ]
  },
  {
   "cell_type": "markdown",
   "id": "df28f77e-862f-493e-91fc-b44f050020de",
   "metadata": {
    "tags": []
   },
   "source": [
    "### Count the number of cases with valid observations for at least 90% of available measures"
   ]
  },
  {
   "cell_type": "code",
   "execution_count": 42,
   "id": "c531b8b5-ff88-4b85-bbbd-bb66c3a2b172",
   "metadata": {
    "tags": []
   },
   "outputs": [
    {
     "data": {
      "text/plain": [
       "(196108, 76)"
      ]
     },
     "execution_count": 42,
     "metadata": {},
     "output_type": "execute_result"
    }
   ],
   "source": [
    "mask=teds.apply(lambda x: x == -9).apply(lambda x: sum(x) < 8, axis=1)\n",
    "teds[mask].shape"
   ]
  },
  {
   "cell_type": "markdown",
   "id": "5276b4a5-c372-4ade-8a59-c74bf5972608",
   "metadata": {},
   "source": [
    "### Explore Correlation between missing values"
   ]
  },
  {
   "cell_type": "code",
   "execution_count": 43,
   "id": "61edb759-1d18-405c-83c4-d00f064fe07a",
   "metadata": {},
   "outputs": [
    {
     "ename": "ModuleNotFoundError",
     "evalue": "No module named 'missingno'",
     "output_type": "error",
     "traceback": [
      "\u001b[0;31m---------------------------------------------------------------------------\u001b[0m",
      "\u001b[0;31mModuleNotFoundError\u001b[0m                       Traceback (most recent call last)",
      "\u001b[0;32m/tmp/ipykernel_2586968/1468494597.py\u001b[0m in \u001b[0;36m<module>\u001b[0;34m\u001b[0m\n\u001b[0;32m----> 1\u001b[0;31m \u001b[0;32mimport\u001b[0m \u001b[0mmissingno\u001b[0m \u001b[0;32mas\u001b[0m \u001b[0mmsno\u001b[0m\u001b[0;34m\u001b[0m\u001b[0;34m\u001b[0m\u001b[0m\n\u001b[0m",
      "\u001b[0;31mModuleNotFoundError\u001b[0m: No module named 'missingno'"
     ]
    }
   ],
   "source": [
    "import missingno as msno"
   ]
  }
 ],
 "metadata": {
  "kernelspec": {
   "display_name": "Python 3 (ipykernel)",
   "language": "python",
   "name": "python3"
  },
  "language_info": {
   "codemirror_mode": {
    "name": "ipython",
    "version": 3
   },
   "file_extension": ".py",
   "mimetype": "text/x-python",
   "name": "python",
   "nbconvert_exporter": "python",
   "pygments_lexer": "ipython3",
   "version": "3.9.7"
  }
 },
 "nbformat": 4,
 "nbformat_minor": 5
}
