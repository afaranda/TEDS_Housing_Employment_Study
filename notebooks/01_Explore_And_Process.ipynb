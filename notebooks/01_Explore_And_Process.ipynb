{
 "cells": [
  {
   "cell_type": "markdown",
   "id": "4855ca25-9900-4d06-b00d-5fb6a61e30ee",
   "metadata": {},
   "source": [
    "# Data Preparation"
   ]
  },
  {
   "cell_type": "code",
   "execution_count": 46,
   "id": "52a3e1b0-59c3-4ffd-ac51-53006fd0c7c5",
   "metadata": {
    "tags": []
   },
   "outputs": [],
   "source": [
    "## Load TEDS-D 2017 Data into a Pandas Data Frame\n",
    "import pandas as pd\n",
    "import seaborn as sns\n",
    "from matplotlib import pyplot as plt\n",
    "import numpy as np\n",
    "import os\n",
    "\n",
    "## Specify WD\n",
    "#wd = \"/home/abf/BINF667013_Final_Project/\"\n",
    "wd = (\n",
    "    \"/Users/adam/Documents/BINF667013_BigDataAnalyticsHealthcare/\" +\n",
    "    \"Final_Project/TEDS_Study\"\n",
    ")\n",
    "os.chdir(wd)\n",
    "\n",
    "teds=pd.read_csv(\"datasets/tedsd_puf_2017.csv\")\n",
    "teds\n",
    "\n",
    "## Convert '-9' to NA\n",
    "teds=teds.replace({-9:np.nan})"
   ]
  },
  {
   "cell_type": "markdown",
   "id": "1f53ec70-3d0a-4d07-b81a-9573ae82b5b6",
   "metadata": {},
   "source": [
    "### Count the number of complete cases in this dataset"
   ]
  },
  {
   "cell_type": "code",
   "execution_count": null,
   "id": "5c7cc954-7832-44bc-86a8-34741c96b50b",
   "metadata": {},
   "outputs": [],
   "source": [
    "teds.dropna().shape"
   ]
  },
  {
   "cell_type": "markdown",
   "id": "525cab66-9f14-482d-9158-fb265d01e7c9",
   "metadata": {},
   "source": [
    "### Count the number of cases with valid observations for at least 50% of available measures"
   ]
  },
  {
   "cell_type": "code",
   "execution_count": null,
   "id": "18967aef-ae98-42f9-a50c-47957df7d750",
   "metadata": {},
   "outputs": [],
   "source": [
    "mask=teds.apply(lambda x: np.isnan(x)).apply(lambda x: sum(x) < 39, axis=1)\n",
    "teds[mask].shape"
   ]
  },
  {
   "cell_type": "markdown",
   "id": "5ccf84a3-5f9f-4e7c-aa23-2b975a9e56dc",
   "metadata": {
    "tags": []
   },
   "source": [
    "### Count the number of cases with valid observations for at least 75% of available measures"
   ]
  },
  {
   "cell_type": "code",
   "execution_count": null,
   "id": "6d5db327-ce4a-4f3c-a0d1-0f848472c982",
   "metadata": {
    "tags": []
   },
   "outputs": [],
   "source": [
    "mask=teds.apply(lambda x: np.isnan(x)).apply(lambda x: sum(x) < 19, axis=1)\n",
    "teds[mask].shape"
   ]
  },
  {
   "cell_type": "markdown",
   "id": "df28f77e-862f-493e-91fc-b44f050020de",
   "metadata": {
    "tags": []
   },
   "source": [
    "### Count the number of cases with valid observations for at least 90% of available measures"
   ]
  },
  {
   "cell_type": "code",
   "execution_count": null,
   "id": "c531b8b5-ff88-4b85-bbbd-bb66c3a2b172",
   "metadata": {
    "tags": []
   },
   "outputs": [],
   "source": [
    "mask=teds.apply(lambda x: np.isnan(x)).apply(lambda x: sum(x) < 14, axis=1)\n",
    "teds[mask].shape"
   ]
  },
  {
   "cell_type": "markdown",
   "id": "5276b4a5-c372-4ade-8a59-c74bf5972608",
   "metadata": {},
   "source": [
    "### Explore Correlation between missing values"
   ]
  },
  {
   "cell_type": "code",
   "execution_count": null,
   "id": "61edb759-1d18-405c-83c4-d00f064fe07a",
   "metadata": {},
   "outputs": [],
   "source": [
    "import missingno as msno\n",
    "msno.heatmap(teds, fontsize=12)"
   ]
  },
  {
   "cell_type": "code",
   "execution_count": null,
   "id": "bef41b67-e11d-4130-a5e9-ca2487db1d34",
   "metadata": {},
   "outputs": [],
   "source": [
    "msno.dendrogram(teds)"
   ]
  },
  {
   "cell_type": "markdown",
   "id": "05ba8622-f221-4f21-b257-2750a4018cba",
   "metadata": {},
   "source": [
    "### Restrict data to records that are at least 75% complete"
   ]
  },
  {
   "cell_type": "code",
   "execution_count": 47,
   "id": "4ec31b65-253f-492b-82b7-748e5c0e2552",
   "metadata": {
    "tags": []
   },
   "outputs": [
    {
     "name": "stdout",
     "output_type": "stream",
     "text": [
      "(1308896, 76)\n"
     ]
    }
   ],
   "source": [
    "mask=teds.apply(lambda x: np.isnan(x)).apply(lambda x: sum(x) < 19, axis=1)\n",
    "print(teds[mask].shape)\n",
    "teds = teds[mask]\n",
    "\n",
    "## make a subset for development\n",
    "#teds=teds.iloc[0:16300, ]"
   ]
  },
  {
   "cell_type": "markdown",
   "id": "0b500118-6f2e-48b3-93fb-3e69df2096f4",
   "metadata": {
    "tags": []
   },
   "source": [
    "### Convert Observations to Categorical Variables"
   ]
  },
  {
   "cell_type": "code",
   "execution_count": 48,
   "id": "b7df6bac-d8ee-427f-baf7-924f6ddd06b0",
   "metadata": {},
   "outputs": [],
   "source": [
    "for col in teds.columns:\n",
    "    if not (col ==\"CASEID\" or col == \"DISYR\"):\n",
    "        teds[col] = teds[col].astype('category')"
   ]
  },
  {
   "cell_type": "markdown",
   "id": "7e39b82c-6e7b-4924-86d9-7476e9528082",
   "metadata": {
    "tags": []
   },
   "source": [
    "### Use MissForest implemented in missingpy to impute missing values"
   ]
  },
  {
   "cell_type": "code",
   "execution_count": 5,
   "id": "d5bec0d4-9433-47f9-8ebb-515a0a78c89d",
   "metadata": {
    "tags": []
   },
   "outputs": [],
   "source": [
    "## Stupid hack due to broken module name #WastingMyTime #SloppyCode\n",
    "import sys\n",
    "import sklearn.neighbors\n",
    "sys.modules['sklearn.neighbors.base'] = sklearn.neighbors._base\n",
    "from missingpy import MissForest\n",
    "from os.path import exists\n",
    "\n",
    "def random_chunks(df, n=100000, state=123):\n",
    "    chunks = []\n",
    "    i = 0\n",
    "    while df.shape[0] > n:\n",
    "        chunks.append(df.sample(n=n, replace=False, random_state=state))\n",
    "        df = df.drop(chunks[i].index)\n",
    "        i += 1\n",
    "\n",
    "    chunks.append(df)\n",
    "    return(chunks)\n",
    "        \n",
    "        \n",
    "def impute_missforest(df, seed=123):\n",
    "    print(df.index)\n",
    "    imputer = MissForest(\n",
    "        random_state=seed,\n",
    "        criterion=('squared_error', 'gini'), # Package mispecifies criterion\n",
    "        n_jobs=-1\n",
    "    )\n",
    "    X=imputer.fit_transform(\n",
    "        df.drop(columns=['CASEID', 'DISYR']),\n",
    "        cat_vars=np.array([x for x in range(0,74)])\n",
    "    )\n",
    "\n",
    "    dg=pd.DataFrame(X)\n",
    "    dg.columns=df.columns[2:76]\n",
    "    return(dg)"
   ]
  },
  {
   "cell_type": "markdown",
   "id": "b197d2ea-996c-4fd6-8d36-82737b3ef0f6",
   "metadata": {},
   "source": [
    "### Verfiy that All Chunks have at least 1000 observations for all variables"
   ]
  },
  {
   "cell_type": "code",
   "execution_count": null,
   "id": "7ecaaf95-1a65-444d-86cc-f0e5d905403d",
   "metadata": {},
   "outputs": [],
   "source": [
    "chunks = random_chunks(df=teds, n=100000)\n",
    "for c in chunks:\n",
    "    x=c.shape[0] - c.apply(lambda x: sum(pd.isnull(x)), axis=0)\n",
    "    print(c.index)\n",
    "    print(x.loc[ x < 1000,])\n"
   ]
  },
  {
   "cell_type": "code",
   "execution_count": null,
   "id": "2dcecd1a-5092-4a03-9332-41c9bc49cc38",
   "metadata": {},
   "outputs": [],
   "source": [
    "print(pd.concat(chunks).shape)"
   ]
  },
  {
   "cell_type": "code",
   "execution_count": 49,
   "id": "b2816a50-c175-4eb5-b111-1de8bda4551b",
   "metadata": {},
   "outputs": [],
   "source": [
    "if exists(\"analysis_objects/teds_imputed.csv\"):\n",
    "    teds_imputed=pd.read_csv(\"analysis_objects/teds_imputed.csv\")\n",
    "else:\n",
    "    chunks = random_chunks(df=teds, n=100000)\n",
    "    dflist = [impute_missforest(c) for c in chunks]\n",
    "    teds_imputed = pd.concat(dflist)\n",
    "    teds_imputed.to_csv(\n",
    "        path_or_buf=\"analysis_objects/teds_imputed.csv\"\n",
    "    )"
   ]
  },
  {
   "cell_type": "markdown",
   "id": "ae071341-b34a-435a-b9cc-aee8f3b6d305",
   "metadata": {
    "tags": []
   },
   "source": [
    "### Prepare State Level Data"
   ]
  },
  {
   "cell_type": "code",
   "execution_count": 50,
   "id": "5e79dcc5-d00d-43ee-8020-80d798aadacf",
   "metadata": {
    "tags": []
   },
   "outputs": [
    {
     "data": {
      "text/plain": [
       "1     1\n",
       "42    1\n",
       "32    1\n",
       "33    1\n",
       "34    1\n",
       "35    1\n",
       "36    1\n",
       "37    1\n",
       "38    1\n",
       "39    1\n",
       "40    1\n",
       "41    1\n",
       "44    1\n",
       "30    1\n",
       "45    1\n",
       "46    1\n",
       "47    1\n",
       "48    1\n",
       "49    1\n",
       "50    1\n",
       "51    1\n",
       "53    1\n",
       "54    1\n",
       "55    1\n",
       "31    1\n",
       "29    1\n",
       "2     1\n",
       "16    1\n",
       "4     1\n",
       "5     1\n",
       "6     1\n",
       "8     1\n",
       "9     1\n",
       "10    1\n",
       "11    1\n",
       "12    1\n",
       "13    1\n",
       "15    1\n",
       "17    1\n",
       "28    1\n",
       "18    1\n",
       "19    1\n",
       "20    1\n",
       "21    1\n",
       "22    1\n",
       "23    1\n",
       "24    1\n",
       "25    1\n",
       "26    1\n",
       "27    1\n",
       "56    1\n",
       "Name: STATE, dtype: int64"
      ]
     },
     "execution_count": 50,
     "metadata": {},
     "output_type": "execute_result"
    }
   ],
   "source": [
    "## Import Involuntary Commitment Laws dataset\n",
    "ic_laws=pd.read_csv(\"datasets/IC_Laws.csv\")\n",
    "\n",
    "## Convert \".\" character to NA in appropriate columns\n",
    "ic_laws=ic_laws.replace({\".\":np.nan})\n",
    "## Add state identifier that matches TEDS data (as join column). \n",
    "fips_table=pd.read_csv('datasets/state.txt', sep=\"|\")\n",
    "ic_laws = pd.merge(\n",
    "    left=fips_table.loc[:,[\"STATE\", \"STATE_NAME\"]],\n",
    "    right=ic_laws,\n",
    "    left_on=\"STATE_NAME\",\n",
    "    right_on=\"Jurisdiction\",\n",
    "    how='inner'\n",
    ").drop(columns=\"STATE_NAME\")\n",
    "ic_laws['pre_2016'] = ic_laws['Effective Date'] < \"2016-01-01\"\n",
    "ic_laws.STATE.value_counts()\n"
   ]
  },
  {
   "cell_type": "markdown",
   "id": "256d6b29-3985-4291-a4fa-8314a841e8a3",
   "metadata": {},
   "source": [
    "### Join State Laws to TEDS Data"
   ]
  },
  {
   "cell_type": "code",
   "execution_count": 51,
   "id": "22a87aae-ae45-46f1-a5b7-0a4405996e49",
   "metadata": {},
   "outputs": [],
   "source": [
    "if exists(\"analysis_objects/teds_laws.csv\"):\n",
    "    teds_laws=pd.read_csv(\"analysis_objects/teds_laws.csv\")\n",
    "else:\n",
    "    teds_laws = pd.merge(\n",
    "        left=teds,\n",
    "        right=ic_laws,\n",
    "        left_on=\"STFIPS\",\n",
    "        right_on=\"STATE\",\n",
    "    )\n",
    "    teds_laws.to_csv(\"analysis_objects/teds_laws.csv\")\n",
    "    \n",
    "if exists(\"analysis_objects/teds_imp_laws.csv\"):\n",
    "    teds_imp_laws=pd.read_csv(\"analysis_objects/teds_imp_laws.csv\")\n",
    "else:\n",
    "    teds_imp_laws=pd.merge(\n",
    "        left=teds_imputed,\n",
    "        right=ic_laws,\n",
    "        left_on=\"STFIPS\",\n",
    "        right_on=\"STATE\",\n",
    "    )\n",
    "    teds_laws.to_csv(\"analysis_objects/teds_imp_laws.csv\")"
   ]
  },
  {
   "cell_type": "markdown",
   "id": "4da90d9e-5bf4-4199-96ca-ba3a28994eb7",
   "metadata": {},
   "source": [
    "# Exploratory Data Analysis"
   ]
  },
  {
   "cell_type": "markdown",
   "id": "9613163e-a422-4e63-b344-608ae121e23d",
   "metadata": {
    "tags": []
   },
   "source": [
    "### Summarize Relapses by State And Drug\n",
    "Cases where the primary substance at admission is still being used at discharge will be considered relapses\n"
   ]
  },
  {
   "cell_type": "code",
   "execution_count": 152,
   "id": "2e7ee94d-ec52-40c2-999f-6c936db027d1",
   "metadata": {},
   "outputs": [],
   "source": [
    "### Define A function to flag relapses\n",
    "def relapse(x, **kwargs):\n",
    "    if  (\n",
    "            x['SUB1'] == kwargs['drug'] and (\n",
    "            x['SUB1_D'] == kwargs['drug'] or\\\n",
    "            x['SUB2_D'] == kwargs['drug'] or\\\n",
    "            x['SUB3_D'] == kwargs['drug']\n",
    "        )\n",
    "    ):\n",
    "        return 1\n",
    "    else:\n",
    "        return 0\n",
    "\n",
    "### Flag Relapses in data\n",
    "test = teds_laws.copy()\n",
    "test.loc[:,'MET_RELA'] = test.loc[:,['CASEID','SUB1', 'SUB1_D', 'SUB2_D', 'SUB3_D']].apply(relapse, axis=1, drug=5)\n"
   ]
  },
  {
   "cell_type": "code",
   "execution_count": 157,
   "id": "ed4e8f08-97f1-410f-a3d5-7016d8574162",
   "metadata": {},
   "outputs": [
    {
     "data": {
      "text/plain": [
       "<seaborn.axisgrid.FacetGrid at 0x1aad27c10>"
      ]
     },
     "execution_count": 157,
     "metadata": {},
     "output_type": "execute_result"
    },
    {
     "data": {
      "image/png": "[encoded data removed]",
      "text/plain": [
       "<Figure size 17280x360 with 48 Axes>"
      ]
     },
     "metadata": {
      "needs_background": "light"
     },
     "output_type": "display_data"
    }
   ],
   "source": [
    "sns.catplot(y='MET_RELA', kind=\"bar\",col=\"Jurisdiction\", data=test)\n"
   ]
  },
  {
   "cell_type": "code",
   "execution_count": 159,
   "id": "6648edce-5aa6-4982-9c1a-1c14468b8415",
   "metadata": {},
   "outputs": [
    {
     "data": {
      "text/plain": [
       "<seaborn.axisgrid.FacetGrid at 0x1a3e246d0>"
      ]
     },
     "execution_count": 159,
     "metadata": {},
     "output_type": "execute_result"
    },
    {
     "data": {
      "image/png": "[encoded data removed]",
      "text/plain": [
       "<Figure size 17280x360 with 48 Axes>"
      ]
     },
     "metadata": {
      "needs_background": "light"
     },
     "output_type": "display_data"
    }
   ],
   "source": [
    "test = teds_imp_laws.copy()\n",
    "test.loc[:,'MET_RELA'] = test.loc[:,['SUB1', 'SUB1_D', 'SUB2_D', 'SUB3_D']].apply(relapse, axis=1, drug=5)\n",
    "sns.catplot(y='MET_RELA', kind=\"bar\",col=\"Jurisdiction\", data=test)\n"
   ]
  },
  {
   "cell_type": "code",
   "execution_count": 168,
   "id": "7aa4e334-acc1-4367-ab31-ffe1786c0b33",
   "metadata": {},
   "outputs": [
    {
     "data": {
      "text/html": [
       "<div>\n",
       "<style scoped>\n",
       "    .dataframe tbody tr th:only-of-type {\n",
       "        vertical-align: middle;\n",
       "    }\n",
       "\n",
       "    .dataframe tbody tr th {\n",
       "        vertical-align: top;\n",
       "    }\n",
       "\n",
       "    .dataframe thead th {\n",
       "        text-align: right;\n",
       "    }\n",
       "</style>\n",
       "<table border=\"1\" class=\"dataframe\">\n",
       "  <thead>\n",
       "    <tr style=\"text-align: right;\">\n",
       "      <th></th>\n",
       "      <th>alc_relapse</th>\n",
       "      <th>hrn_relapse</th>\n",
       "      <th>met_relapse</th>\n",
       "    </tr>\n",
       "    <tr>\n",
       "      <th>Jurisdiction</th>\n",
       "      <th></th>\n",
       "      <th></th>\n",
       "      <th></th>\n",
       "    </tr>\n",
       "  </thead>\n",
       "  <tbody>\n",
       "    <tr>\n",
       "      <th>Alabama</th>\n",
       "      <td>1476</td>\n",
       "      <td>602</td>\n",
       "      <td>1290</td>\n",
       "    </tr>\n",
       "    <tr>\n",
       "      <th>Alaska</th>\n",
       "      <td>4233</td>\n",
       "      <td>746</td>\n",
       "      <td>632</td>\n",
       "    </tr>\n",
       "    <tr>\n",
       "      <th>Arizona</th>\n",
       "      <td>7008</td>\n",
       "      <td>5142</td>\n",
       "      <td>6421</td>\n",
       "    </tr>\n",
       "    <tr>\n",
       "      <th>Arkansas</th>\n",
       "      <td>2073</td>\n",
       "      <td>176</td>\n",
       "      <td>2336</td>\n",
       "    </tr>\n",
       "    <tr>\n",
       "      <th>California</th>\n",
       "      <td>10953</td>\n",
       "      <td>19180</td>\n",
       "      <td>26041</td>\n",
       "    </tr>\n",
       "    <tr>\n",
       "      <th>Colorado</th>\n",
       "      <td>33818</td>\n",
       "      <td>6211</td>\n",
       "      <td>9727</td>\n",
       "    </tr>\n",
       "    <tr>\n",
       "      <th>Connecticut</th>\n",
       "      <td>18781</td>\n",
       "      <td>21866</td>\n",
       "      <td>52</td>\n",
       "    </tr>\n",
       "    <tr>\n",
       "      <th>Delaware</th>\n",
       "      <td>735</td>\n",
       "      <td>3194</td>\n",
       "      <td>19</td>\n",
       "    </tr>\n",
       "    <tr>\n",
       "      <th>District of Columbia</th>\n",
       "      <td>1410</td>\n",
       "      <td>1058</td>\n",
       "      <td>25</td>\n",
       "    </tr>\n",
       "    <tr>\n",
       "      <th>Florida</th>\n",
       "      <td>8027</td>\n",
       "      <td>4506</td>\n",
       "      <td>937</td>\n",
       "    </tr>\n",
       "    <tr>\n",
       "      <th>Hawaii</th>\n",
       "      <td>1594</td>\n",
       "      <td>363</td>\n",
       "      <td>3966</td>\n",
       "    </tr>\n",
       "    <tr>\n",
       "      <th>Idaho</th>\n",
       "      <td>2553</td>\n",
       "      <td>741</td>\n",
       "      <td>3005</td>\n",
       "    </tr>\n",
       "    <tr>\n",
       "      <th>Illinois</th>\n",
       "      <td>10091</td>\n",
       "      <td>13487</td>\n",
       "      <td>2575</td>\n",
       "    </tr>\n",
       "    <tr>\n",
       "      <th>Indiana</th>\n",
       "      <td>6246</td>\n",
       "      <td>3413</td>\n",
       "      <td>2968</td>\n",
       "    </tr>\n",
       "    <tr>\n",
       "      <th>Iowa</th>\n",
       "      <td>8106</td>\n",
       "      <td>649</td>\n",
       "      <td>6218</td>\n",
       "    </tr>\n",
       "    <tr>\n",
       "      <th>Kansas</th>\n",
       "      <td>1698</td>\n",
       "      <td>76</td>\n",
       "      <td>1533</td>\n",
       "    </tr>\n",
       "    <tr>\n",
       "      <th>Kentucky</th>\n",
       "      <td>10549</td>\n",
       "      <td>11596</td>\n",
       "      <td>11771</td>\n",
       "    </tr>\n",
       "    <tr>\n",
       "      <th>Louisiana</th>\n",
       "      <td>1600</td>\n",
       "      <td>1295</td>\n",
       "      <td>1332</td>\n",
       "    </tr>\n",
       "    <tr>\n",
       "      <th>Maine</th>\n",
       "      <td>2519</td>\n",
       "      <td>2215</td>\n",
       "      <td>54</td>\n",
       "    </tr>\n",
       "    <tr>\n",
       "      <th>Maryland</th>\n",
       "      <td>4929</td>\n",
       "      <td>11268</td>\n",
       "      <td>37</td>\n",
       "    </tr>\n",
       "    <tr>\n",
       "      <th>Massachusetts</th>\n",
       "      <td>19011</td>\n",
       "      <td>35255</td>\n",
       "      <td>202</td>\n",
       "    </tr>\n",
       "    <tr>\n",
       "      <th>Michigan</th>\n",
       "      <td>22699</td>\n",
       "      <td>19895</td>\n",
       "      <td>1446</td>\n",
       "    </tr>\n",
       "    <tr>\n",
       "      <th>Minnesota</th>\n",
       "      <td>16390</td>\n",
       "      <td>5665</td>\n",
       "      <td>10807</td>\n",
       "    </tr>\n",
       "    <tr>\n",
       "      <th>Mississippi</th>\n",
       "      <td>1382</td>\n",
       "      <td>363</td>\n",
       "      <td>1403</td>\n",
       "    </tr>\n",
       "    <tr>\n",
       "      <th>Missouri</th>\n",
       "      <td>13699</td>\n",
       "      <td>7688</td>\n",
       "      <td>11928</td>\n",
       "    </tr>\n",
       "    <tr>\n",
       "      <th>Montana</th>\n",
       "      <td>1598</td>\n",
       "      <td>72</td>\n",
       "      <td>600</td>\n",
       "    </tr>\n",
       "    <tr>\n",
       "      <th>Nebraska</th>\n",
       "      <td>4015</td>\n",
       "      <td>80</td>\n",
       "      <td>2191</td>\n",
       "    </tr>\n",
       "    <tr>\n",
       "      <th>Nevada</th>\n",
       "      <td>2146</td>\n",
       "      <td>1144</td>\n",
       "      <td>1562</td>\n",
       "    </tr>\n",
       "    <tr>\n",
       "      <th>New Hampshire</th>\n",
       "      <td>1429</td>\n",
       "      <td>2787</td>\n",
       "      <td>262</td>\n",
       "    </tr>\n",
       "    <tr>\n",
       "      <th>New Jersey</th>\n",
       "      <td>3770</td>\n",
       "      <td>9258</td>\n",
       "      <td>99</td>\n",
       "    </tr>\n",
       "    <tr>\n",
       "      <th>New Mexico</th>\n",
       "      <td>180</td>\n",
       "      <td>53</td>\n",
       "      <td>15</td>\n",
       "    </tr>\n",
       "    <tr>\n",
       "      <th>New York</th>\n",
       "      <td>66167</td>\n",
       "      <td>57177</td>\n",
       "      <td>1821</td>\n",
       "    </tr>\n",
       "    <tr>\n",
       "      <th>North Carolina</th>\n",
       "      <td>30154</td>\n",
       "      <td>25109</td>\n",
       "      <td>4634</td>\n",
       "    </tr>\n",
       "    <tr>\n",
       "      <th>North Dakota</th>\n",
       "      <td>503</td>\n",
       "      <td>66</td>\n",
       "      <td>510</td>\n",
       "    </tr>\n",
       "    <tr>\n",
       "      <th>Ohio</th>\n",
       "      <td>6169</td>\n",
       "      <td>7715</td>\n",
       "      <td>792</td>\n",
       "    </tr>\n",
       "    <tr>\n",
       "      <th>Oklahoma</th>\n",
       "      <td>2279</td>\n",
       "      <td>535</td>\n",
       "      <td>3706</td>\n",
       "    </tr>\n",
       "    <tr>\n",
       "      <th>Pennsylvania</th>\n",
       "      <td>7907</td>\n",
       "      <td>9353</td>\n",
       "      <td>684</td>\n",
       "    </tr>\n",
       "    <tr>\n",
       "      <th>Rhode Island</th>\n",
       "      <td>3272</td>\n",
       "      <td>2726</td>\n",
       "      <td>19</td>\n",
       "    </tr>\n",
       "    <tr>\n",
       "      <th>South Carolina</th>\n",
       "      <td>12820</td>\n",
       "      <td>1633</td>\n",
       "      <td>1686</td>\n",
       "    </tr>\n",
       "    <tr>\n",
       "      <th>South Dakota</th>\n",
       "      <td>8205</td>\n",
       "      <td>149</td>\n",
       "      <td>2069</td>\n",
       "    </tr>\n",
       "    <tr>\n",
       "      <th>Tennessee</th>\n",
       "      <td>3802</td>\n",
       "      <td>1792</td>\n",
       "      <td>2005</td>\n",
       "    </tr>\n",
       "    <tr>\n",
       "      <th>Texas</th>\n",
       "      <td>5663</td>\n",
       "      <td>3677</td>\n",
       "      <td>3343</td>\n",
       "    </tr>\n",
       "    <tr>\n",
       "      <th>Utah</th>\n",
       "      <td>3105</td>\n",
       "      <td>4045</td>\n",
       "      <td>3916</td>\n",
       "    </tr>\n",
       "    <tr>\n",
       "      <th>Vermont</th>\n",
       "      <td>1545</td>\n",
       "      <td>2046</td>\n",
       "      <td>10</td>\n",
       "    </tr>\n",
       "    <tr>\n",
       "      <th>Virginia</th>\n",
       "      <td>2614</td>\n",
       "      <td>2300</td>\n",
       "      <td>578</td>\n",
       "    </tr>\n",
       "    <tr>\n",
       "      <th>Washington</th>\n",
       "      <td>743</td>\n",
       "      <td>653</td>\n",
       "      <td>495</td>\n",
       "    </tr>\n",
       "    <tr>\n",
       "      <th>Wisconsin</th>\n",
       "      <td>192</td>\n",
       "      <td>123</td>\n",
       "      <td>121</td>\n",
       "    </tr>\n",
       "    <tr>\n",
       "      <th>Wyoming</th>\n",
       "      <td>1778</td>\n",
       "      <td>189</td>\n",
       "      <td>1032</td>\n",
       "    </tr>\n",
       "  </tbody>\n",
       "</table>\n",
       "</div>"
      ],
      "text/plain": [
       "                      alc_relapse  hrn_relapse  met_relapse\n",
       "Jurisdiction                                               \n",
       "Alabama                      1476          602         1290\n",
       "Alaska                       4233          746          632\n",
       "Arizona                      7008         5142         6421\n",
       "Arkansas                     2073          176         2336\n",
       "California                  10953        19180        26041\n",
       "Colorado                    33818         6211         9727\n",
       "Connecticut                 18781        21866           52\n",
       "Delaware                      735         3194           19\n",
       "District of Columbia         1410         1058           25\n",
       "Florida                      8027         4506          937\n",
       "Hawaii                       1594          363         3966\n",
       "Idaho                        2553          741         3005\n",
       "Illinois                    10091        13487         2575\n",
       "Indiana                      6246         3413         2968\n",
       "Iowa                         8106          649         6218\n",
       "Kansas                       1698           76         1533\n",
       "Kentucky                    10549        11596        11771\n",
       "Louisiana                    1600         1295         1332\n",
       "Maine                        2519         2215           54\n",
       "Maryland                     4929        11268           37\n",
       "Massachusetts               19011        35255          202\n",
       "Michigan                    22699        19895         1446\n",
       "Minnesota                   16390         5665        10807\n",
       "Mississippi                  1382          363         1403\n",
       "Missouri                    13699         7688        11928\n",
       "Montana                      1598           72          600\n",
       "Nebraska                     4015           80         2191\n",
       "Nevada                       2146         1144         1562\n",
       "New Hampshire                1429         2787          262\n",
       "New Jersey                   3770         9258           99\n",
       "New Mexico                    180           53           15\n",
       "New York                    66167        57177         1821\n",
       "North Carolina              30154        25109         4634\n",
       "North Dakota                  503           66          510\n",
       "Ohio                         6169         7715          792\n",
       "Oklahoma                     2279          535         3706\n",
       "Pennsylvania                 7907         9353          684\n",
       "Rhode Island                 3272         2726           19\n",
       "South Carolina              12820         1633         1686\n",
       "South Dakota                 8205          149         2069\n",
       "Tennessee                    3802         1792         2005\n",
       "Texas                        5663         3677         3343\n",
       "Utah                         3105         4045         3916\n",
       "Vermont                      1545         2046           10\n",
       "Virginia                     2614         2300          578\n",
       "Washington                    743          653          495\n",
       "Wisconsin                     192          123          121\n",
       "Wyoming                      1778          189         1032"
      ]
     },
     "execution_count": 168,
     "metadata": {},
     "output_type": "execute_result"
    }
   ],
   "source": [
    "## Calculate Number of Relapses Per State\n",
    "teds_imp_laws.assign(\n",
    "    alc_relapse = lambda x: x.loc[:,['SUB1', 'SUB1_D', 'SUB2_D', 'SUB3_D']].apply(relapse, axis=1, drug=2),\n",
    "    hrn_relapse = lambda x: x.loc[:,['SUB1', 'SUB1_D', 'SUB2_D', 'SUB3_D']].apply(relapse, axis=1, drug=5),\n",
    "    met_relapse = lambda x: x.loc[:,['SUB1', 'SUB1_D', 'SUB2_D', 'SUB3_D']].apply(relapse, axis=1, drug=10)\n",
    ").groupby(['Jurisdiction']).sum().loc[:,['alc_relapse','hrn_relapse', 'met_relapse']]"
   ]
  },
  {
   "cell_type": "code",
   "execution_count": null,
   "id": "f6ba4579-2938-4c27-8635-6e5d76db1f2b",
   "metadata": {},
   "outputs": [],
   "source": []
  }
 ],
 "metadata": {
  "kernelspec": {
   "display_name": "Python 3 (ipykernel)",
   "language": "python",
   "name": "python3"
  },
  "language_info": {
   "codemirror_mode": {
    "name": "ipython",
    "version": 3
   },
   "file_extension": ".py",
   "mimetype": "text/x-python",
   "name": "python",
   "nbconvert_exporter": "python",
   "pygments_lexer": "ipython3",
   "version": "3.9.7"
  }
 },
 "nbformat": 4,
 "nbformat_minor": 5
}
