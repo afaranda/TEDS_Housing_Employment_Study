{
 "cells": [
  {
   "cell_type": "code",
   "execution_count": 22,
   "id": "52a3e1b0-59c3-4ffd-ac51-53006fd0c7c5",
   "metadata": {
    "tags": []
   },
   "outputs": [],
   "source": [
    "## Load TEDS-D 2017 Data into a Pandas Data Frame\n",
    "import pandas as pd\n",
    "import seaborn as sns\n",
    "from matplotlib import pyplot as plt\n",
    "import numpy as np\n",
    "import os\n",
    "\n",
    "## Specify WD\n",
    "wd = \"/home/abf/BINF667013_Final_Project/\"\n",
    "os.chdir(wd)\n",
    "\n",
    "teds=pd.read_csv(\"datasets/tedsd_puf_2017.csv\")\n",
    "teds\n",
    "\n",
    "## Convert '-9' to NA\n",
    "teds=teds.replace({-9:np.nan})"
   ]
  },
  {
   "cell_type": "markdown",
   "id": "1f53ec70-3d0a-4d07-b81a-9573ae82b5b6",
   "metadata": {},
   "source": [
    "### Count the number of complete cases in this dataset"
   ]
  },
  {
   "cell_type": "code",
   "execution_count": null,
   "id": "5c7cc954-7832-44bc-86a8-34741c96b50b",
   "metadata": {},
   "outputs": [],
   "source": [
    "teds.dropna().shape"
   ]
  },
  {
   "cell_type": "markdown",
   "id": "525cab66-9f14-482d-9158-fb265d01e7c9",
   "metadata": {},
   "source": [
    "### Count the number of cases with valid observations for at least 50% of available measures"
   ]
  },
  {
   "cell_type": "code",
   "execution_count": null,
   "id": "18967aef-ae98-42f9-a50c-47957df7d750",
   "metadata": {},
   "outputs": [],
   "source": [
    "mask=teds.apply(lambda x: np.isnan(x)).apply(lambda x: sum(x) < 39, axis=1)\n",
    "teds[mask].shape"
   ]
  },
  {
   "cell_type": "markdown",
   "id": "5ccf84a3-5f9f-4e7c-aa23-2b975a9e56dc",
   "metadata": {
    "tags": []
   },
   "source": [
    "### Count the number of cases with valid observations for at least 75% of available measures"
   ]
  },
  {
   "cell_type": "code",
   "execution_count": null,
   "id": "6d5db327-ce4a-4f3c-a0d1-0f848472c982",
   "metadata": {
    "tags": []
   },
   "outputs": [],
   "source": [
    "mask=teds.apply(lambda x: np.isnan(x)).apply(lambda x: sum(x) < 19, axis=1)\n",
    "teds[mask].shape"
   ]
  },
  {
   "cell_type": "markdown",
   "id": "df28f77e-862f-493e-91fc-b44f050020de",
   "metadata": {
    "tags": []
   },
   "source": [
    "### Count the number of cases with valid observations for at least 90% of available measures"
   ]
  },
  {
   "cell_type": "code",
   "execution_count": null,
   "id": "c531b8b5-ff88-4b85-bbbd-bb66c3a2b172",
   "metadata": {
    "tags": []
   },
   "outputs": [],
   "source": [
    "mask=teds.apply(lambda x: np.isnan(x)).apply(lambda x: sum(x) < 8, axis=1)\n",
    "teds[mask].shape"
   ]
  },
  {
   "cell_type": "markdown",
   "id": "5276b4a5-c372-4ade-8a59-c74bf5972608",
   "metadata": {},
   "source": [
    "### Explore Correlation between missing values"
   ]
  },
  {
   "cell_type": "code",
   "execution_count": null,
   "id": "61edb759-1d18-405c-83c4-d00f064fe07a",
   "metadata": {},
   "outputs": [],
   "source": [
    "import missingno as msno\n",
    "msno.heatmap(teds, fontsize=12)"
   ]
  },
  {
   "cell_type": "code",
   "execution_count": null,
   "id": "bef41b67-e11d-4130-a5e9-ca2487db1d34",
   "metadata": {},
   "outputs": [],
   "source": [
    "msno.dendrogram(teds)"
   ]
  },
  {
   "cell_type": "markdown",
   "id": "05ba8622-f221-4f21-b257-2750a4018cba",
   "metadata": {},
   "source": [
    "### Restrict data to records that are at least 75% complete"
   ]
  },
  {
   "cell_type": "code",
   "execution_count": 23,
   "id": "4ec31b65-253f-492b-82b7-748e5c0e2552",
   "metadata": {
    "tags": []
   },
   "outputs": [
    {
     "name": "stdout",
     "output_type": "stream",
     "text": [
      "(1308896, 76)\n"
     ]
    }
   ],
   "source": [
    "mask=teds.apply(lambda x: np.isnan(x)).apply(lambda x: sum(x) < 19, axis=1)\n",
    "print(teds[mask].shape)\n",
    "teds = teds[mask]\n",
    "\n",
    "## make a subset for development\n",
    "#teds=teds.iloc[0:16300, ]"
   ]
  },
  {
   "cell_type": "markdown",
   "id": "0b500118-6f2e-48b3-93fb-3e69df2096f4",
   "metadata": {
    "tags": []
   },
   "source": [
    "### Convert Observations to Categorical Variables"
   ]
  },
  {
   "cell_type": "code",
   "execution_count": 3,
   "id": "b7df6bac-d8ee-427f-baf7-924f6ddd06b0",
   "metadata": {},
   "outputs": [],
   "source": [
    "for col in teds.columns:\n",
    "    if not (col ==\"CASEID\" or col == \"DISYR\"):\n",
    "        teds[col] = teds[col].astype('category')"
   ]
  },
  {
   "cell_type": "markdown",
   "id": "7e39b82c-6e7b-4924-86d9-7476e9528082",
   "metadata": {
    "tags": []
   },
   "source": [
    "### Use MissForest implemented in missingpy to impute missing values"
   ]
  },
  {
   "cell_type": "code",
   "execution_count": 26,
   "id": "326b344c-1dfd-455d-9268-881e4e00a648",
   "metadata": {},
   "outputs": [],
   "source": [
    "## Stupid hack due to broken module name #WastingMyTime #SloppyCode\n",
    "import sys\n",
    "import sklearn.neighbors\n",
    "sys.modules['sklearn.neighbors.base'] = sklearn.neighbors._base\n",
    "from missingpy import MissForest\n",
    "from os.path import exists\n",
    "\n",
    "def data_frame_chunks(df, n):\n",
    "    for i in range(0, df.shape[0], n):\n",
    "        \n",
    "        # Get range of records in df\n",
    "        low=i\n",
    "        high=min(i + n, df.shape[0])\n",
    "        \n",
    "        # Return Iterator for data frame chunks\n",
    "        yield df.iloc[low:high,]\n",
    "\n",
    "def impute_missforest(df, seed=123):\n",
    "    imputer = MissForest(\n",
    "        random_state=seed,\n",
    "        criterion=('squared_error', 'gini'), # Package mispecifies criterion\n",
    "        n_jobs=-1\n",
    "    )\n",
    "    X=imputer.fit_transform(\n",
    "        df.drop(columns=['CASEID', 'DISYR']),\n",
    "        cat_vars=np.array([x for x in range(0,74)])\n",
    "    )\n",
    "\n",
    "    dg=pd.DataFrame(X)\n",
    "    dg.columns=df.columns[2:76]\n",
    "    return(dg)\n",
    "\n",
    "dflist = [impute_missforest(c) for c in chunks]\n",
    "teds_imputed = pd.concat(dflist)\n",
    "teds_imputed.to_csv(\n",
    "    path_or_buf=\"analysis_objects/teds_imputed.csv\"\n",
    ")\n",
    "\n",
    "\n"
   ]
  },
  {
   "cell_type": "code",
   "execution_count": 27,
   "id": "6ef30e67-3989-4dec-8385-d6347bb979ab",
   "metadata": {},
   "outputs": [
    {
     "name": "stdout",
     "output_type": "stream",
     "text": [
      "(100000, 76)\n",
      "Int64Index([     0,      1,      2,      3,      4,      5,      6,      7,\n",
      "                 8,      9,\n",
      "            ...\n",
      "            221619, 221624, 221625, 221626, 221627, 221628, 221629, 221630,\n",
      "            221632, 221633],\n",
      "           dtype='int64', length=100000)\n",
      "(100000, 76)\n",
      "Int64Index([221634, 221636, 221640, 221641, 221643, 221644, 221645, 221646,\n",
      "            221648, 221651,\n",
      "            ...\n",
      "            364742, 364743, 364744, 364745, 364746, 364747, 364748, 364749,\n",
      "            364750, 364751],\n",
      "           dtype='int64', length=100000)\n",
      "(100000, 76)\n",
      "Int64Index([364754, 364756, 364757, 364758, 364759, 364760, 364761, 364762,\n",
      "            364763, 364764,\n",
      "            ...\n",
      "            471820, 471821, 471822, 471823, 471824, 471825, 471826, 471827,\n",
      "            471828, 471829],\n",
      "           dtype='int64', length=100000)\n",
      "(100000, 76)\n",
      "Int64Index([471830, 471831, 471832, 471833, 471834, 471835, 471836, 471837,\n",
      "            471838, 471839,\n",
      "            ...\n",
      "            572529, 572530, 572531, 572532, 572533, 572534, 572535, 572536,\n",
      "            572537, 572538],\n",
      "           dtype='int64', length=100000)\n",
      "(100000, 76)\n",
      "Int64Index([572539, 572540, 572541, 572542, 572543, 572544, 572545, 572546,\n",
      "            572547, 572548,\n",
      "            ...\n",
      "            682297, 682298, 682299, 682300, 682301, 682302, 682303, 682304,\n",
      "            682305, 682306],\n",
      "           dtype='int64', length=100000)\n",
      "(100000, 76)\n",
      "Int64Index([682307, 682308, 682309, 682310, 682311, 682312, 682313, 682314,\n",
      "            682315, 682316,\n",
      "            ...\n",
      "            786283, 786284, 786285, 786286, 786287, 786288, 786289, 786290,\n",
      "            786291, 786292],\n",
      "           dtype='int64', length=100000)\n",
      "(100000, 76)\n",
      "Int64Index([786293, 786294, 786295, 786296, 786297, 786298, 786299, 786300,\n",
      "            786301, 786302,\n",
      "            ...\n",
      "            893655, 893656, 893657, 893658, 893659, 893660, 893661, 893662,\n",
      "            893663, 893664],\n",
      "           dtype='int64', length=100000)\n",
      "(100000, 76)\n",
      "Int64Index([ 893665,  893666,  893667,  893668,  893669,  893670,  893671,\n",
      "             893672,  893673,  893674,\n",
      "            ...\n",
      "            1023547, 1023548, 1023549, 1023550, 1023551, 1023552, 1023553,\n",
      "            1023554, 1023555, 1023556],\n",
      "           dtype='int64', length=100000)\n",
      "(100000, 76)\n",
      "Int64Index([1023557, 1023558, 1023559, 1023560, 1023561, 1023563, 1023565,\n",
      "            1023573, 1023575, 1023577,\n",
      "            ...\n",
      "            1137280, 1137281, 1137282, 1137283, 1137284, 1137285, 1137286,\n",
      "            1137287, 1137288, 1137289],\n",
      "           dtype='int64', length=100000)\n",
      "(100000, 76)\n",
      "Int64Index([1137290, 1137291, 1137292, 1137293, 1137294, 1137295, 1137296,\n",
      "            1137297, 1137298, 1137299,\n",
      "            ...\n",
      "            1258263, 1258264, 1258265, 1258266, 1258267, 1258268, 1258269,\n",
      "            1258270, 1258271, 1258272],\n",
      "           dtype='int64', length=100000)\n",
      "(100000, 76)\n",
      "Int64Index([1258273, 1258274, 1258275, 1258276, 1258277, 1258278, 1258279,\n",
      "            1258280, 1258281, 1258282,\n",
      "            ...\n",
      "            1400482, 1400483, 1400485, 1400486, 1400487, 1400488, 1400490,\n",
      "            1400491, 1400492, 1400493],\n",
      "           dtype='int64', length=100000)\n",
      "(100000, 76)\n",
      "Int64Index([1400494, 1400495, 1400496, 1400497, 1400498, 1400499, 1400500,\n",
      "            1400501, 1400502, 1400503,\n",
      "            ...\n",
      "            1518437, 1518438, 1518439, 1518440, 1518441, 1518442, 1518443,\n",
      "            1518444, 1518445, 1518446],\n",
      "           dtype='int64', length=100000)\n",
      "(100000, 76)\n",
      "Int64Index([1518447, 1518448, 1518449, 1518450, 1518451, 1518452, 1518453,\n",
      "            1518454, 1518455, 1518456,\n",
      "            ...\n",
      "            1633762, 1633763, 1633764, 1633765, 1633766, 1633767, 1633768,\n",
      "            1633772, 1633773, 1633774],\n",
      "           dtype='int64', length=100000)\n",
      "(8896, 76)\n",
      "Int64Index([1633776, 1633777, 1633778, 1633780, 1633781, 1633783, 1633785,\n",
      "            1633786, 1633788, 1633790,\n",
      "            ...\n",
      "            1661197, 1661198, 1661199, 1661200, 1661201, 1661202, 1661203,\n",
      "            1661204, 1661205, 1661206],\n",
      "           dtype='int64', length=8896)\n"
     ]
    }
   ],
   "source": [
    "for i in range(0, len(dflist)):\n",
    "    print(dflist[i].shape)\n",
    "    print(dflist[i].index)"
   ]
  },
  {
   "cell_type": "code",
   "execution_count": 15,
   "id": "aec707b9-8dc3-46ed-98bb-2cbea489a642",
   "metadata": {},
   "outputs": [
    {
     "name": "stdout",
     "output_type": "stream",
     "text": [
      "Empty DataFrame\n",
      "Columns: []\n",
      "Index: [0, 1, 2, 3, 4, 5, 6, 7, 8, 9, 10, 11, 12, 13, 14, 15, 16, 17, 18, 19, 20, 21, 22, 23, 24, 25, 26, 27, 28, 29, 30, 31, 32, 33, 34, 35, 36, 37, 38, 39, 40, 41, 42, 43, 44, 45, 46, 47, 48, 49, 50, 51, 52, 53, 54, 55, 56, 57, 58, 59, 60, 61, 62, 63, 64, 65, 66, 67, 68, 69, 70, 71, 72, 73, 74, 75, 76, 77, 78, 79, 80, 81, 82, 83, 84, 85, 86, 87, 88, 89, 90, 91, 92, 93, 94, 95, 96, 97, 98, 99]\n",
      "\n",
      "[100 rows x 0 columns]\n"
     ]
    }
   ],
   "source": [
    "df=pd.DataFrame()\n",
    "df.index=pd.RangeIndex(start=0, stop=100, step=1)\n",
    "\n",
    "print(df)"
   ]
  }
 ],
 "metadata": {
  "kernelspec": {
   "display_name": "Python 3 (ipykernel)",
   "language": "python",
   "name": "python3"
  },
  "language_info": {
   "codemirror_mode": {
    "name": "ipython",
    "version": 3
   },
   "file_extension": ".py",
   "mimetype": "text/x-python",
   "name": "python",
   "nbconvert_exporter": "python",
   "pygments_lexer": "ipython3",
   "version": "3.9.7"
  }
 },
 "nbformat": 4,
 "nbformat_minor": 5
}
