{
 "cells": [
  {
   "cell_type": "code",
   "execution_count": 46,
   "id": "52a3e1b0-59c3-4ffd-ac51-53006fd0c7c5",
   "metadata": {
    "tags": []
   },
   "outputs": [],
   "source": [
    "## Load TEDS-D 2017 Data into a Pandas Data Frame\n",
    "import pandas as pd\n",
    "import seaborn as sns\n",
    "from matplotlib import pyplot as plt\n",
    "import numpy as np\n",
    "import os\n",
    "\n",
    "## Specify WD\n",
    "wd = \"/home/abf/BINF667013_Final_Project/\"\n",
    "os.chdir(wd)\n",
    "\n",
    "teds=pd.read_csv(\"datasets/tedsd_puf_2017.csv\")\n",
    "teds\n",
    "\n",
    "## Convert '-9' to NA\n",
    "teds=teds.replace({-9:np.nan})"
   ]
  },
  {
   "cell_type": "markdown",
   "id": "1f53ec70-3d0a-4d07-b81a-9573ae82b5b6",
   "metadata": {},
   "source": [
    "### Count the number of complete cases in this dataset"
   ]
  },
  {
   "cell_type": "code",
   "execution_count": null,
   "id": "5c7cc954-7832-44bc-86a8-34741c96b50b",
   "metadata": {},
   "outputs": [],
   "source": [
    "teds.dropna().shape"
   ]
  },
  {
   "cell_type": "markdown",
   "id": "525cab66-9f14-482d-9158-fb265d01e7c9",
   "metadata": {},
   "source": [
    "### Count the number of cases with valid observations for at least 50% of available measures"
   ]
  },
  {
   "cell_type": "code",
   "execution_count": null,
   "id": "18967aef-ae98-42f9-a50c-47957df7d750",
   "metadata": {},
   "outputs": [],
   "source": [
    "mask=teds.apply(lambda x: np.isnan(x)).apply(lambda x: sum(x) < 39, axis=1)\n",
    "teds[mask].shape"
   ]
  },
  {
   "cell_type": "markdown",
   "id": "5ccf84a3-5f9f-4e7c-aa23-2b975a9e56dc",
   "metadata": {
    "tags": []
   },
   "source": [
    "### Count the number of cases with valid observations for at least 75% of available measures"
   ]
  },
  {
   "cell_type": "code",
   "execution_count": 38,
   "id": "6d5db327-ce4a-4f3c-a0d1-0f848472c982",
   "metadata": {
    "tags": []
   },
   "outputs": [
    {
     "data": {
      "text/plain": [
       "(1308896, 76)"
      ]
     },
     "execution_count": 38,
     "metadata": {},
     "output_type": "execute_result"
    }
   ],
   "source": [
    "mask=teds.apply(lambda x: np.isnan(x)).apply(lambda x: sum(x) < 19, axis=1)\n",
    "teds[mask].shape"
   ]
  },
  {
   "cell_type": "markdown",
   "id": "df28f77e-862f-493e-91fc-b44f050020de",
   "metadata": {
    "tags": []
   },
   "source": [
    "### Count the number of cases with valid observations for at least 90% of available measures"
   ]
  },
  {
   "cell_type": "code",
   "execution_count": 21,
   "id": "c531b8b5-ff88-4b85-bbbd-bb66c3a2b172",
   "metadata": {
    "tags": []
   },
   "outputs": [
    {
     "data": {
      "text/plain": [
       "(759598, 76)"
      ]
     },
     "execution_count": 21,
     "metadata": {},
     "output_type": "execute_result"
    }
   ],
   "source": [
    "mask=teds.apply(lambda x: np.isnan(x)).apply(lambda x: sum(x) < 14, axis=1)\n",
    "teds[mask].shape"
   ]
  },
  {
   "cell_type": "markdown",
   "id": "5276b4a5-c372-4ade-8a59-c74bf5972608",
   "metadata": {},
   "source": [
    "### Explore Correlation between missing values"
   ]
  },
  {
   "cell_type": "code",
   "execution_count": null,
   "id": "61edb759-1d18-405c-83c4-d00f064fe07a",
   "metadata": {},
   "outputs": [],
   "source": [
    "import missingno as msno\n",
    "msno.heatmap(teds, fontsize=12)"
   ]
  },
  {
   "cell_type": "code",
   "execution_count": null,
   "id": "bef41b67-e11d-4130-a5e9-ca2487db1d34",
   "metadata": {},
   "outputs": [],
   "source": [
    "msno.dendrogram(teds)"
   ]
  },
  {
   "cell_type": "markdown",
   "id": "05ba8622-f221-4f21-b257-2750a4018cba",
   "metadata": {},
   "source": [
    "### Restrict data to records that are at least 75% complete"
   ]
  },
  {
   "cell_type": "code",
   "execution_count": 48,
   "id": "4ec31b65-253f-492b-82b7-748e5c0e2552",
   "metadata": {
    "tags": []
   },
   "outputs": [
    {
     "name": "stdout",
     "output_type": "stream",
     "text": [
      "(1308896, 76)\n"
     ]
    }
   ],
   "source": [
    "mask=teds.apply(lambda x: np.isnan(x)).apply(lambda x: sum(x) < 19, axis=1)\n",
    "print(teds[mask].shape)\n",
    "teds = teds[mask]\n",
    "\n",
    "## make a subset for development\n",
    "#teds=teds.iloc[0:16300, ]"
   ]
  },
  {
   "cell_type": "markdown",
   "id": "0b500118-6f2e-48b3-93fb-3e69df2096f4",
   "metadata": {
    "tags": []
   },
   "source": [
    "### Convert Observations to Categorical Variables"
   ]
  },
  {
   "cell_type": "code",
   "execution_count": null,
   "id": "b7df6bac-d8ee-427f-baf7-924f6ddd06b0",
   "metadata": {},
   "outputs": [],
   "source": [
    "for col in teds.columns:\n",
    "    if not (col ==\"CASEID\" or col == \"DISYR\"):\n",
    "        teds[col] = teds[col].astype('category')"
   ]
  },
  {
   "cell_type": "markdown",
   "id": "7e39b82c-6e7b-4924-86d9-7476e9528082",
   "metadata": {
    "tags": []
   },
   "source": [
    "### Use MissForest implemented in missingpy to impute missing values"
   ]
  },
  {
   "cell_type": "code",
   "execution_count": 43,
   "id": "d5bec0d4-9433-47f9-8ebb-515a0a78c89d",
   "metadata": {
    "tags": []
   },
   "outputs": [],
   "source": [
    "## Stupid hack due to broken module name #WastingMyTime #SloppyCode\n",
    "import sys\n",
    "import sklearn.neighbors\n",
    "sys.modules['sklearn.neighbors.base'] = sklearn.neighbors._base\n",
    "from missingpy import MissForest\n",
    "from os.path import exists\n",
    "\n",
    "def random_chunks(df, n=100000, state=123):\n",
    "    chunks = []\n",
    "    i = 0\n",
    "    while df.shape[0] > n:\n",
    "        chunks.append(df.sample(n=n, replace=False, random_state=state))\n",
    "        df = df.drop(chunks[i].index)\n",
    "        i += 1\n",
    "\n",
    "    chunks.append(df)\n",
    "    return(chunks)\n",
    "        \n",
    "        \n",
    "def impute_missforest(df, seed=123):\n",
    "    print(df.index)\n",
    "    imputer = MissForest(\n",
    "        random_state=seed,\n",
    "        criterion=('squared_error', 'gini'), # Package mispecifies criterion\n",
    "        n_jobs=-1\n",
    "    )\n",
    "    X=imputer.fit_transform(\n",
    "        df.drop(columns=['CASEID', 'DISYR']),\n",
    "        cat_vars=np.array([x for x in range(0,74)])\n",
    "    )\n",
    "\n",
    "    dg=pd.DataFrame(X)\n",
    "    dg.columns=df.columns[2:76]\n",
    "    return(dg)"
   ]
  },
  {
   "cell_type": "markdown",
   "id": "b197d2ea-996c-4fd6-8d36-82737b3ef0f6",
   "metadata": {},
   "source": [
    "### Verfiy that All Chunks have at least 1000 observations for all variables"
   ]
  },
  {
   "cell_type": "code",
   "execution_count": 49,
   "id": "7ecaaf95-1a65-444d-86cc-f0e5d905403d",
   "metadata": {},
   "outputs": [
    {
     "name": "stdout",
     "output_type": "stream",
     "text": [
      "Int64Index([ 795871,  901284,  335690,    3406,  545282,  312273, 1488949,\n",
      "             479062, 1091987,  524842,\n",
      "            ...\n",
      "            1259270,  674537, 1245456, 1620326,  661097,  289106, 1419085,\n",
      "            1079347,  888693,  725560],\n",
      "           dtype='int64', length=100000)\n",
      "Series([], dtype: int64)\n",
      "Int64Index([ 797190,  312386,  141554,  520119,  892161,  972870,  721221,\n",
      "             233771,  594648,  635180,\n",
      "            ...\n",
      "            1306806, 1393531,  876838,  768947, 1354991, 1325157,  546084,\n",
      "             787119,  150578, 1228550],\n",
      "           dtype='int64', length=100000)\n",
      "Series([], dtype: int64)\n",
      "Int64Index([1602400, 1535501,  395046, 1437636, 1219540,  589864,  452987,\n",
      "             704548, 1127721,  283907,\n",
      "            ...\n",
      "            1494492,  509549,  869087, 1010916, 1113646,  887086,  671245,\n",
      "             656525,  656087,  633822],\n",
      "           dtype='int64', length=100000)\n",
      "Series([], dtype: int64)\n",
      "Int64Index([ 784533,  771040, 1026160,  651404,  778858, 1160798,  739293,\n",
      "             424491, 1151665,  986879,\n",
      "            ...\n",
      "             369568, 1368306, 1240812,  131519, 1503818, 1322035,  892640,\n",
      "            1502663,  593281,  460708],\n",
      "           dtype='int64', length=100000)\n",
      "Series([], dtype: int64)\n",
      "Int64Index([ 292852,  633301, 1237320,  679658, 1433564, 1474524, 1257842,\n",
      "             579133, 1377309, 1072253,\n",
      "            ...\n",
      "            1321452,  947589, 1212464,  674674, 1008859,  141441, 1060182,\n",
      "            1201659, 1492191, 1271540],\n",
      "           dtype='int64', length=100000)\n",
      "Series([], dtype: int64)\n",
      "Int64Index([1406173, 1146179,  564658,  602883, 1261558,  149323, 1133675,\n",
      "             732933, 1036445,   30009,\n",
      "            ...\n",
      "            1271970,  424488,  628402,  315029,  683397,  424573,  757672,\n",
      "             661718, 1423417, 1533242],\n",
      "           dtype='int64', length=100000)\n",
      "Series([], dtype: int64)\n",
      "Int64Index([ 488287, 1116800,   68865,  686545,  817427, 1160701,  450771,\n",
      "             488921,  377406, 1398928,\n",
      "            ...\n",
      "            1304917,  827492,  242050,  147283,  326122, 1395315, 1317664,\n",
      "             477631,  719090, 1085175],\n",
      "           dtype='int64', length=100000)\n",
      "Series([], dtype: int64)\n",
      "Int64Index([1553203,  828686, 1218282,  594461,  936540, 1256116,  876682,\n",
      "             986664,  266234,  737372,\n",
      "            ...\n",
      "             803768,  780380, 1029163,  656871, 1468598, 1018880, 1526809,\n",
      "              50093, 1294067, 1344911],\n",
      "           dtype='int64', length=100000)\n",
      "Series([], dtype: int64)\n",
      "Int64Index([1594958,  509225, 1583230,  134643,  482118,   50916,  526650,\n",
      "              25501,  347612,   38394,\n",
      "            ...\n",
      "             486069,  673373, 1200736,  504630,  780816,  502511,  344614,\n",
      "             503540, 1540818, 1482958],\n",
      "           dtype='int64', length=100000)\n",
      "Series([], dtype: int64)\n",
      "Int64Index([ 675429, 1279818, 1113997, 1023085,  580294, 1274382,  777506,\n",
      "             719898, 1210714, 1442485,\n",
      "            ...\n",
      "             331295,  661369, 1286063,  561404,  459930,  339531,   29475,\n",
      "            1336916,  966277,  306672],\n",
      "           dtype='int64', length=100000)\n",
      "Series([], dtype: int64)\n",
      "Int64Index([1113045,  242523, 1297627, 1147831, 1511946, 1269852, 1153600,\n",
      "            1236124,  915991,  669028,\n",
      "            ...\n",
      "             447673,  450216, 1232573,  496892,  709534,  464344,  886044,\n",
      "            1602601,  802236,  371877],\n",
      "           dtype='int64', length=100000)\n",
      "Series([], dtype: int64)\n",
      "Int64Index([ 540098,  830118,  858092, 1093360, 1044827,  962306,  428714,\n",
      "             455330, 1591208, 1344561,\n",
      "            ...\n",
      "             658601, 1444750,  805301, 1127268,  736188,  339915,  862117,\n",
      "            1377859,  684238,  285198],\n",
      "           dtype='int64', length=100000)\n",
      "Series([], dtype: int64)\n",
      "Int64Index([1022865,  895329, 1139580,  182582,    2640,  575033,  681070,\n",
      "             465621,  494772,  981974,\n",
      "            ...\n",
      "             768925, 1294930,  401144,  297568, 1449405,  486745,  979494,\n",
      "             389157,  839763,  869659],\n",
      "           dtype='int64', length=100000)\n",
      "Series([], dtype: int64)\n",
      "Int64Index([      1,     212,     514,     660,     809,     858,     874,\n",
      "                944,     971,     979,\n",
      "            ...\n",
      "            1659876, 1660063, 1660078, 1660339, 1660488, 1660516, 1660862,\n",
      "            1660876, 1660975, 1661117],\n",
      "           dtype='int64', length=8896)\n",
      "Series([], dtype: int64)\n"
     ]
    }
   ],
   "source": [
    "chunks = random_chunks(df=teds, n=100000)\n",
    "for c in chunks:\n",
    "    x=c.shape[0] - c.apply(lambda x: sum(np.isnan(x)), axis=0)\n",
    "    print(c.index)\n",
    "    print(x.loc[ x < 1000,])\n"
   ]
  },
  {
   "cell_type": "code",
   "execution_count": 50,
   "id": "2dcecd1a-5092-4a03-9332-41c9bc49cc38",
   "metadata": {},
   "outputs": [
    {
     "data": {
      "text/plain": [
       "(1308896, 76)"
      ]
     },
     "execution_count": 50,
     "metadata": {},
     "output_type": "execute_result"
    }
   ],
   "source": [
    "pd.concat(chunks).shape"
   ]
  },
  {
   "cell_type": "code",
   "execution_count": null,
   "id": "b2816a50-c175-4eb5-b111-1de8bda4551b",
   "metadata": {},
   "outputs": [],
   "source": [
    "if exists(\"analysis_objects/teds_imputed.csv\"):\n",
    "    teds_imputed=pd.read_csv(\"analysis_objects/teds_imputed.csv\")\n",
    "else:\n",
    "    chunks = random_chunks(df=teds, n=100000)\n",
    "    dflist = [impute_missforest(c) for c in chunks]\n",
    "    teds_imputed = pd.concat(dflist)\n",
    "    teds_imputed.to_csv(\n",
    "        path_or_buf=\"analysis_objects/teds_imputed.csv\"\n",
    "    )"
   ]
  }
 ],
 "metadata": {
  "kernelspec": {
   "display_name": "Python 3 (ipykernel)",
   "language": "python",
   "name": "python3"
  },
  "language_info": {
   "codemirror_mode": {
    "name": "ipython",
    "version": 3
   },
   "file_extension": ".py",
   "mimetype": "text/x-python",
   "name": "python",
   "nbconvert_exporter": "python",
   "pygments_lexer": "ipython3",
   "version": "3.9.7"
  }
 },
 "nbformat": 4,
 "nbformat_minor": 5
}
