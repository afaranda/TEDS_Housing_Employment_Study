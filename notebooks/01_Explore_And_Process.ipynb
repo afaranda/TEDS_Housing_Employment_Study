{
 "cells": [
  {
   "cell_type": "markdown",
   "id": "4855ca25-9900-4d06-b00d-5fb6a61e30ee",
   "metadata": {},
   "source": [
    "# Data Preparation"
   ]
  },
  {
   "cell_type": "code",
   "execution_count": null,
   "id": "52a3e1b0-59c3-4ffd-ac51-53006fd0c7c5",
   "metadata": {
    "tags": []
   },
   "outputs": [],
   "source": [
    "## Load TEDS-D 2017 Data into a Pandas Data Frame\n",
    "import pandas as pd\n",
    "import seaborn as sns\n",
    "from matplotlib import pyplot as plt\n",
    "import numpy as np\n",
    "import os\n",
    "\n",
    "## Specify WD\n",
    "#wd = \"/home/abf/BINF667013_Final_Project/\"\n",
    "wd = (\n",
    "    \"/Users/adam/Documents/BINF667013_BigDataAnalyticsHealthcare/\" +\n",
    "    \"Final_Project/TEDS_Study\"\n",
    ")\n",
    "os.chdir(wd)\n",
    "\n",
    "teds=pd.read_csv(\"datasets/tedsd_puf_2017.csv\")\n",
    "teds\n",
    "\n",
    "## Convert '-9' to NA\n",
    "teds=teds.replace({-9:np.nan})"
   ]
  },
  {
   "cell_type": "markdown",
   "id": "1f53ec70-3d0a-4d07-b81a-9573ae82b5b6",
   "metadata": {},
   "source": [
    "### Count the number of complete cases in this dataset"
   ]
  },
  {
   "cell_type": "code",
   "execution_count": null,
   "id": "5c7cc954-7832-44bc-86a8-34741c96b50b",
   "metadata": {},
   "outputs": [],
   "source": [
    "teds.dropna().shape"
   ]
  },
  {
   "cell_type": "markdown",
   "id": "525cab66-9f14-482d-9158-fb265d01e7c9",
   "metadata": {},
   "source": [
    "### Count the number of cases with valid observations for at least 50% of available measures"
   ]
  },
  {
   "cell_type": "code",
   "execution_count": null,
   "id": "18967aef-ae98-42f9-a50c-47957df7d750",
   "metadata": {},
   "outputs": [],
   "source": [
    "mask=teds.apply(lambda x: np.isnan(x)).apply(lambda x: sum(x) < 39, axis=1)\n",
    "teds[mask].shape"
   ]
  },
  {
   "cell_type": "markdown",
   "id": "5ccf84a3-5f9f-4e7c-aa23-2b975a9e56dc",
   "metadata": {
    "tags": []
   },
   "source": [
    "### Count the number of cases with valid observations for at least 75% of available measures"
   ]
  },
  {
   "cell_type": "code",
   "execution_count": null,
   "id": "6d5db327-ce4a-4f3c-a0d1-0f848472c982",
   "metadata": {
    "tags": []
   },
   "outputs": [],
   "source": [
    "mask=teds.apply(lambda x: np.isnan(x)).apply(lambda x: sum(x) < 19, axis=1)\n",
    "teds[mask].shape"
   ]
  },
  {
   "cell_type": "markdown",
   "id": "df28f77e-862f-493e-91fc-b44f050020de",
   "metadata": {
    "tags": []
   },
   "source": [
    "### Count the number of cases with valid observations for at least 90% of available measures"
   ]
  },
  {
   "cell_type": "code",
   "execution_count": null,
   "id": "c531b8b5-ff88-4b85-bbbd-bb66c3a2b172",
   "metadata": {
    "tags": []
   },
   "outputs": [],
   "source": [
    "mask=teds.apply(lambda x: np.isnan(x)).apply(lambda x: sum(x) < 14, axis=1)\n",
    "teds[mask].shape"
   ]
  },
  {
   "cell_type": "markdown",
   "id": "5276b4a5-c372-4ade-8a59-c74bf5972608",
   "metadata": {},
   "source": [
    "### Explore Correlation between missing values"
   ]
  },
  {
   "cell_type": "code",
   "execution_count": null,
   "id": "61edb759-1d18-405c-83c4-d00f064fe07a",
   "metadata": {},
   "outputs": [],
   "source": [
    "import missingno as msno\n",
    "msno.heatmap(teds, fontsize=12)"
   ]
  },
  {
   "cell_type": "code",
   "execution_count": null,
   "id": "bef41b67-e11d-4130-a5e9-ca2487db1d34",
   "metadata": {},
   "outputs": [],
   "source": [
    "msno.dendrogram(teds)"
   ]
  },
  {
   "cell_type": "markdown",
   "id": "05ba8622-f221-4f21-b257-2750a4018cba",
   "metadata": {},
   "source": [
    "### Restrict data to records that are at least 75% complete"
   ]
  },
  {
   "cell_type": "code",
   "execution_count": null,
   "id": "4ec31b65-253f-492b-82b7-748e5c0e2552",
   "metadata": {
    "tags": []
   },
   "outputs": [],
   "source": [
    "mask=teds.apply(lambda x: np.isnan(x)).apply(lambda x: sum(x) < 19, axis=1)\n",
    "print(teds[mask].shape)\n",
    "teds = teds[mask]\n",
    "\n",
    "## make a subset for development\n",
    "#teds=teds.iloc[0:16300, ]"
   ]
  },
  {
   "cell_type": "markdown",
   "id": "0b500118-6f2e-48b3-93fb-3e69df2096f4",
   "metadata": {
    "tags": []
   },
   "source": [
    "### Convert Observations to Categorical Variables"
   ]
  },
  {
   "cell_type": "code",
   "execution_count": null,
   "id": "b7df6bac-d8ee-427f-baf7-924f6ddd06b0",
   "metadata": {},
   "outputs": [],
   "source": [
    "for col in teds.columns:\n",
    "    if not (col ==\"CASEID\" or col == \"DISYR\"):\n",
    "        teds[col] = teds[col].astype('category')"
   ]
  },
  {
   "cell_type": "markdown",
   "id": "7e39b82c-6e7b-4924-86d9-7476e9528082",
   "metadata": {
    "tags": []
   },
   "source": [
    "### Use MissForest implemented in missingpy to impute missing values"
   ]
  },
  {
   "cell_type": "code",
   "execution_count": null,
   "id": "d5bec0d4-9433-47f9-8ebb-515a0a78c89d",
   "metadata": {
    "tags": []
   },
   "outputs": [],
   "source": [
    "## Stupid hack due to broken module name #WastingMyTime #SloppyCode\n",
    "import sys\n",
    "import sklearn.neighbors\n",
    "sys.modules['sklearn.neighbors.base'] = sklearn.neighbors._base\n",
    "from missingpy import MissForest\n",
    "from os.path import exists\n",
    "\n",
    "def random_chunks(df, n=100000, state=123):\n",
    "    chunks = []\n",
    "    i = 0\n",
    "    while df.shape[0] > n:\n",
    "        chunks.append(df.sample(n=n, replace=False, random_state=state))\n",
    "        df = df.drop(chunks[i].index)\n",
    "        i += 1\n",
    "\n",
    "    chunks.append(df)\n",
    "    return(chunks)\n",
    "        \n",
    "        \n",
    "def impute_missforest(df, seed=123):\n",
    "    print(df.index)\n",
    "    imputer = MissForest(\n",
    "        random_state=seed,\n",
    "        criterion=('squared_error', 'gini'), # Package mispecifies criterion\n",
    "        n_jobs=-1\n",
    "    )\n",
    "    X=imputer.fit_transform(\n",
    "        df.drop(columns=['CASEID', 'DISYR']),\n",
    "        cat_vars=np.array([x for x in range(0,74)])\n",
    "    )\n",
    "\n",
    "    dg=pd.DataFrame(X)\n",
    "    dg.columns=df.columns[2:76]\n",
    "    return(dg)"
   ]
  },
  {
   "cell_type": "markdown",
   "id": "b197d2ea-996c-4fd6-8d36-82737b3ef0f6",
   "metadata": {},
   "source": [
    "### Verfiy that All Chunks have at least 1000 observations for all variables"
   ]
  },
  {
   "cell_type": "code",
   "execution_count": null,
   "id": "7ecaaf95-1a65-444d-86cc-f0e5d905403d",
   "metadata": {},
   "outputs": [],
   "source": [
    "chunks = random_chunks(df=teds, n=100000)\n",
    "for c in chunks:\n",
    "    x=c.shape[0] - c.apply(lambda x: sum(pd.isnull(x)), axis=0)\n",
    "    print(c.index)\n",
    "    print(x.loc[ x < 1000,])\n"
   ]
  },
  {
   "cell_type": "code",
   "execution_count": null,
   "id": "2dcecd1a-5092-4a03-9332-41c9bc49cc38",
   "metadata": {},
   "outputs": [],
   "source": [
    "print(pd.concat(chunks).shape)"
   ]
  },
  {
   "cell_type": "code",
   "execution_count": null,
   "id": "b2816a50-c175-4eb5-b111-1de8bda4551b",
   "metadata": {},
   "outputs": [],
   "source": [
    "if exists(\"analysis_objects/teds_imputed.csv\"):\n",
    "    teds_imputed=pd.read_csv(\n",
    "        \"analysis_objects/teds_imputed.csv\",\n",
    "        index_col=0\n",
    "    )\n",
    "else:\n",
    "    chunks = random_chunks(df=teds, n=100000)\n",
    "    dflist = [impute_missforest(c) for c in chunks]\n",
    "    teds_imputed = pd.concat(dflist)\n",
    "    teds_imputed.to_csv(\n",
    "        path_or_buf=\"analysis_objects/teds_imputed.csv\"\n",
    "    )"
   ]
  },
  {
   "cell_type": "markdown",
   "id": "ae071341-b34a-435a-b9cc-aee8f3b6d305",
   "metadata": {
    "tags": []
   },
   "source": [
    "### Prepare State Level Data"
   ]
  },
  {
   "cell_type": "code",
   "execution_count": null,
   "id": "5e79dcc5-d00d-43ee-8020-80d798aadacf",
   "metadata": {
    "tags": []
   },
   "outputs": [],
   "source": [
    "## Import Involuntary Commitment Laws dataset\n",
    "ic_laws=pd.read_csv(\"datasets/IC_Laws.csv\")\n",
    "\n",
    "## Convert \".\" character to NA in appropriate columns\n",
    "ic_laws=ic_laws.replace({\".\":np.nan})\n",
    "## Add state identifier that matches TEDS data (as join column). \n",
    "fips_table=pd.read_csv('datasets/state.txt', sep=\"|\")\n",
    "ic_laws = pd.merge(\n",
    "    left=fips_table.loc[:,[\"STATE\", \"STATE_NAME\"]],\n",
    "    right=ic_laws,\n",
    "    left_on=\"STATE_NAME\",\n",
    "    right_on=\"Jurisdiction\",\n",
    "    how='inner'\n",
    ").drop(columns=\"STATE_NAME\")\n",
    "ic_laws['pre_2016'] = ic_laws['Effective Date'] < \"2016-01-01\"\n",
    "ic_laws.STATE.value_counts()\n"
   ]
  },
  {
   "cell_type": "markdown",
   "id": "256d6b29-3985-4291-a4fa-8314a841e8a3",
   "metadata": {},
   "source": [
    "### Join State Laws to TEDS Data"
   ]
  },
  {
   "cell_type": "code",
   "execution_count": null,
   "id": "22a87aae-ae45-46f1-a5b7-0a4405996e49",
   "metadata": {},
   "outputs": [],
   "source": [
    "if exists(\"analysis_objects/teds_laws.csv\"):\n",
    "    teds_laws=pd.read_csv(\"analysis_objects/teds_laws.csv\")\n",
    "else:\n",
    "    teds_laws = pd.merge(\n",
    "        left=teds,\n",
    "        right=ic_laws,\n",
    "        left_on=\"STFIPS\",\n",
    "        right_on=\"STATE\",\n",
    "    )\n",
    "    teds_laws.to_csv(\n",
    "        \"analysis_objects/teds_laws.csv\", index=False\n",
    "    )\n",
    "    \n",
    "if exists(\"analysis_objects/teds_imp_laws.csv\"):\n",
    "    teds_imp_laws=pd.read_csv(\"analysis_objects/teds_imp_laws.csv\")\n",
    "else:\n",
    "    teds_imp_laws=pd.merge(\n",
    "        left=teds_imputed,\n",
    "        right=ic_laws,\n",
    "        left_on=\"STFIPS\",\n",
    "        right_on=\"STATE\",\n",
    "    )\n",
    "    teds_imp_laws.to_csv(\n",
    "        \"analysis_objects/teds_imp_laws.csv\", index=False\n",
    "    )"
   ]
  },
  {
   "cell_type": "markdown",
   "id": "4da90d9e-5bf4-4199-96ca-ba3a28994eb7",
   "metadata": {},
   "source": [
    "# Exploratory Data Analysis"
   ]
  },
  {
   "cell_type": "markdown",
   "id": "9613163e-a422-4e63-b344-608ae121e23d",
   "metadata": {
    "tags": []
   },
   "source": [
    "### Summarize Relapses by State And Drug\n",
    "Cases where the primary substance at admission is still being used at discharge will be considered relapses\n"
   ]
  },
  {
   "cell_type": "code",
   "execution_count": null,
   "id": "2e7ee94d-ec52-40c2-999f-6c936db027d1",
   "metadata": {},
   "outputs": [],
   "source": [
    "### Define A function to flag relapses\n",
    "def relapse(x, **kwargs):\n",
    "    if  (\n",
    "            x['SUB1'] == kwargs['drug'] and (\n",
    "            x['SUB1_D'] == kwargs['drug'] or\\\n",
    "            x['SUB2_D'] == kwargs['drug'] or\\\n",
    "            x['SUB3_D'] == kwargs['drug']\n",
    "        )\n",
    "    ):\n",
    "        return 1\n",
    "    else:\n",
    "        return 0\n",
    "\n",
    "### Flag Relapses in data\n",
    "#test = teds_laws.copy()\n",
    "#test.loc[:,'MET_RELA'] = test.loc[:,['CASEID','SUB1', 'SUB1_D', 'SUB2_D', 'SUB3_D']].apply(relapse, axis=1, drug=5)\n"
   ]
  },
  {
   "cell_type": "code",
   "execution_count": null,
   "id": "7aa4e334-acc1-4367-ab31-ffe1786c0b33",
   "metadata": {},
   "outputs": [],
   "source": [
    "## Calculate Number of Relapses Per State\n",
    "teds_imp_laws = teds_imp_laws.assign(\n",
    "    alc_cases = lambda x: x.loc[:,['SUB1']].apply(lambda x: x['SUB1'] == 2, axis=1),\n",
    "    hrn_cases = lambda x: x.loc[:,['SUB1']].apply(lambda x: x['SUB1'] == 5, axis=1),\n",
    "    met_cases = lambda x: x.loc[:,['SUB1']].apply(lambda x: x['SUB1'] == 10, axis=1),\n",
    "    alc_relapse = lambda x: x.loc[:,['SUB1', 'SUB1_D', 'SUB2_D', 'SUB3_D']].apply(relapse, axis=1, drug=2),\n",
    "    hrn_relapse = lambda x: x.loc[:,['SUB1', 'SUB1_D', 'SUB2_D', 'SUB3_D']].apply(relapse, axis=1, drug=5),\n",
    "    met_relapse = lambda x: x.loc[:,['SUB1', 'SUB1_D', 'SUB2_D', 'SUB3_D']].apply(relapse, axis=1, drug=10)\n",
    ")\n",
    "teds_imp_laws.groupby(['Jurisdiction']).sum().loc[:,['alc_cases','hrn_cases', 'met_cases','alc_relapse','hrn_relapse', 'met_relapse']].assign(\n",
    "    alc_rate = lambda x: x['alc_relapse'] / x['alc_cases'],\n",
    "    hrn_rate = lambda x: x['hrn_relapse'] / x['hrn_cases'],\n",
    "    met_rate = lambda x: x['met_relapse'] / x['met_cases']\n",
    ")"
   ]
  },
  {
   "cell_type": "code",
   "execution_count": null,
   "id": "04b068e6-b582-4bca-b6e2-4423d56c0e1c",
   "metadata": {},
   "outputs": [],
   "source": [
    "## Index casese of alcohol use at intake\n",
    "alc_cases = teds_imp_laws.alc_cases == 1\n",
    "\n",
    "plt.figure(figsize=(6, 6))\n",
    "plot_data = teds_imp_laws.loc[\n",
    "    alc_cases,['IC_law','alc_cases','alc_relapse']\n",
    "].groupby(['IC_law']).sum().reset_index().assign(\n",
    "    relapse_rate = lambda x: 100*(x['alc_relapse'] / x['alc_cases']),\n",
    "    total = [100, 100]\n",
    ")\n",
    "print(plot_data)\n",
    "total_bars = sns.barplot(\n",
    "    x=\"IC_law\",  \n",
    "    y=\"total\",\n",
    "    data=plot_data, \n",
    "    color='darkblue'\n",
    ")\n",
    "\n",
    "rate_bars = sns.barplot(\n",
    "    x=\"IC_law\",  \n",
    "    y=\"relapse_rate\",\n",
    "    data=plot_data, \n",
    "    color='lightblue'\n",
    ")\n",
    "plt.show()\n",
    "\n",
    "\n"
   ]
  },
  {
   "cell_type": "code",
   "execution_count": null,
   "id": "f4c73e41-ba1c-4fc0-80bf-3dddea5da406",
   "metadata": {},
   "outputs": [],
   "source": [
    "## Index casese of alcohol use at intake\n",
    "alc_cases = teds_imp_laws.alc_cases == 1\n",
    "\n",
    "plt.figure(figsize=(6, 6))\n",
    "plot_data = teds_imp_laws.loc[\n",
    "    alc_cases,['IC_law','alc_cases','alc_relapse']\n",
    "].groupby(['IC_law']).sum().reset_index().assign(\n",
    "    relapse_rate = lambda x: 100*(x['alc_relapse'] / x['alc_cases']),\n",
    "    total = [100, 100]\n",
    ")\n",
    "print(plot_data)\n",
    "total_bars = sns.barplot(\n",
    "    x=\"IC_law\",  \n",
    "    y=\"total\",\n",
    "    data=plot_data, \n",
    "    color='darkblue'\n",
    ")\n",
    "\n",
    "rate_bars = sns.barplot(\n",
    "    x=\"IC_law\",  \n",
    "    y=\"relapse_rate\",\n",
    "    data=plot_data, \n",
    "    color='lightblue'\n",
    ")\n",
    "plt.show()\n",
    "\n",
    "\n"
   ]
  },
  {
   "cell_type": "code",
   "execution_count": null,
   "id": "fadd32af-0864-48ce-b81b-8f5dd17f88f4",
   "metadata": {},
   "outputs": [],
   "source": [
    "## Index casese of alcohol use at intake\n",
    "hrn_cases = teds_imp_laws.hrn_cases == 1\n",
    "plt.figure(figsize=(6, 6))\n",
    "plot_data = teds_imp_laws.loc[\n",
    "    hrn_cases,['IC_law','hrn_cases','hrn_relapse']\n",
    "].groupby(['IC_law']).sum().reset_index().assign(\n",
    "    relapse_rate = lambda x: 100*(x['hrn_relapse'] / x['hrn_cases']),\n",
    "    total = [100, 100]\n",
    ")\n",
    "print(plot_data)\n",
    "total_bars = sns.barplot(\n",
    "    x=\"IC_law\",  \n",
    "    y=\"total\",\n",
    "    data=plot_data, \n",
    "    color='darkblue'\n",
    ")\n",
    "\n",
    "rate_bars = sns.barplot(\n",
    "    x=\"IC_law\",  \n",
    "    y=\"relapse_rate\",\n",
    "    data=plot_data, \n",
    "    color='lightblue'\n",
    ")\n",
    "plt.show()\n",
    "\n",
    "\n"
   ]
  },
  {
   "cell_type": "code",
   "execution_count": null,
   "id": "a98c1e2e-50fe-4be6-b5ba-834ffea6694e",
   "metadata": {},
   "outputs": [],
   "source": [
    "## Index casese of alcohol use at intake\n",
    "met_cases = teds_imp_laws.met_cases == 1\n",
    "\n",
    "plt.figure(figsize=(6, 6))\n",
    "plot_data = teds_imp_laws.loc[\n",
    "    met_cases,['IC_law','met_cases','met_relapse']\n",
    "].groupby(['IC_law']).sum().reset_index().assign(\n",
    "    relapse_rate = lambda x: 100*(x['met_relapse'] / x['met_cases']),\n",
    "    total = [100, 100]\n",
    ")\n",
    "print(plot_data)\n",
    "total_bars = sns.barplot(\n",
    "    x=\"IC_law\",  \n",
    "    y=\"total\",\n",
    "    data=plot_data, \n",
    "    color='darkblue'\n",
    ")\n",
    "\n",
    "rate_bars = sns.barplot(\n",
    "    x=\"IC_law\",  \n",
    "    y=\"relapse_rate\",\n",
    "    data=plot_data, \n",
    "    color='lightblue'\n",
    ")\n",
    "plt.show()\n",
    "\n",
    "\n"
   ]
  },
  {
   "cell_type": "code",
   "execution_count": null,
   "id": "ed4e8f08-97f1-410f-a3d5-7016d8574162",
   "metadata": {},
   "outputs": [],
   "source": [
    "## Calculate Refferal Rates by Category\n",
    "totals=teds_imp_laws.loc[:,['IC_law', 'pre_2016', 'PSOURCE']].assign(\n",
    "    ref_individual = lambda x: x.loc[:,['PSOURCE']].apply(lambda x: x['PSOURCE'] == 1, axis=1),\n",
    "    ref_care = lambda x: x.loc[:,['PSOURCE']].apply(lambda x: x['PSOURCE'] == 2, axis=1),\n",
    "    ref_health = lambda x: x.loc[:,['PSOURCE']].apply(lambda x: x['PSOURCE'] == 3, axis=1),\n",
    "    ref_school = lambda x: x.loc[:,['PSOURCE']].apply(lambda x: x['PSOURCE'] == 4, axis=1),\n",
    "    ref_employer = lambda x: x.loc[:,['PSOURCE']].apply(lambda x: x['PSOURCE'] == 5, axis=1),\n",
    "    ref_community = lambda x: x.loc[:,['PSOURCE']].apply(lambda x: x['PSOURCE'] == 6, axis=1),\n",
    "    ref_adjudicated = lambda x: x.loc[:,['PSOURCE']].apply(lambda x: x['PSOURCE'] == 7, axis=1)\n",
    ").groupby(['IC_law', 'pre_2016']).sum().drop(columns=['PSOURCE'])\n",
    "\n",
    "totals.div(totals.sum(axis=1), axis=0)\n",
    "\n"
   ]
  },
  {
   "cell_type": "markdown",
   "id": "00ce1e46-b898-46c5-b45b-e220dc2dc028",
   "metadata": {},
   "source": [
    "### Impact of Pre 2016 IC Laws on Length of Stay"
   ]
  },
  {
   "cell_type": "code",
   "execution_count": null,
   "id": "b6087774-2806-4a43-a27d-6b9b26fb598d",
   "metadata": {},
   "outputs": [],
   "source": [
    "## Calculate the proportion of cases in IC_Law states for each level of\n",
    "## length of stay\n",
    "totals=teds_imp_laws.loc[:,['IC_law', 'pre_2016', 'LOS']].groupby(['LOS']).sum()\n",
    "totals.div(teds_imp_laws.loc[:,['IC_law', 'pre_2016', 'LOS']].groupby(['LOS']).count(), axis=1)"
   ]
  },
  {
   "cell_type": "code",
   "execution_count": null,
   "id": "b336a8bc-48ae-4808-9046-50ee6e4cc05e",
   "metadata": {},
   "outputs": [],
   "source": [
    "## Evaluate median Length of stay by IC_Law status\n",
    "#teds_imp_laws.iloc[:,['IC_law']]\n",
    "teds_imp_laws['IC_law']=teds_imp_laws['IC_law'].astype(\n",
    "    pd.CategoricalDtype(\n",
    "        categories =[0, 1], ordered=False)\n",
    ")\n",
    "\n",
    "teds_imp_laws['LOS']=teds_imp_laws['LOS'].astype('int')\n",
    "bad_drugs=teds_imp_laws.SUB1.isin([2,5,10])\n",
    "sns.catplot(\n",
    "    x=\"IC_law\", y=\"LOS\", hue=\"SUB1\", \n",
    "    kind=\"violin\", data=teds_imp_laws.loc[bad_drugs,:]\n",
    ")"
   ]
  },
  {
   "cell_type": "code",
   "execution_count": null,
   "id": "058f30b7-c39f-46c0-9a11-d1a38512121b",
   "metadata": {},
   "outputs": [],
   "source": [
    "\n",
    "teds_imp_laws['LOS']=teds_imp_laws['LOS'].astype('int')\n",
    "bad_drugs=teds_imp_laws.SUB1.isin([2,5,10])\n",
    "sns.catplot(\n",
    "    x=\"pre_2016\", y=\"LOS\", hue=\"SUB1\",\n",
    "    kind=\"violin\", data=teds_imp_laws.loc[bad_drugs,:]\n",
    ")"
   ]
  },
  {
   "cell_type": "code",
   "execution_count": null,
   "id": "600b3d75-ea20-4d4b-8694-29e858621433",
   "metadata": {},
   "outputs": [],
   "source": [
    "\n",
    "teds_imp_laws['LOS']=teds_imp_laws['LOS'].astype('int')\n",
    "bad_drugs=teds_imp_laws.SUB1.isin([2,5,10])\n",
    "sns.catplot(\n",
    "    x=\"pre_2016\", y=\"LOS\", hue=\"SUB1\", row=\"SERVICES\",\n",
    "    kind=\"violin\", data=teds_imp_laws.loc[bad_drugs,:]\n",
    ")"
   ]
  },
  {
   "cell_type": "markdown",
   "id": "92457e4c-18cf-4de7-ad04-46cfe5370326",
   "metadata": {},
   "source": [
    "### Distibution of SERVICES by IC Law Status"
   ]
  },
  {
   "cell_type": "code",
   "execution_count": null,
   "id": "151020be-867a-49c8-86e8-d04c9717ab70",
   "metadata": {},
   "outputs": [],
   "source": [
    "## Index casese of alcohol use at intake\n",
    "alc_cases = teds_imp_laws.alc_cases == 1\n",
    "\n",
    "plt.figure(figsize=(6, 6))\n",
    "plot_data = teds_imp_laws.loc[\n",
    "    alc_cases,['IC_law','alc_cases','alc_relapse']\n",
    "].groupby(['IC_law']).sum().reset_index().assign(\n",
    "    relapse_rate = lambda x: 100*(x['alc_relapse'] / x['alc_cases']),\n",
    "    total = [100, 100]\n",
    ")\n",
    "print(plot_data)\n",
    "total_bars = sns.barplot(\n",
    "    x=\"IC_law\",  \n",
    "    y=\"total\",\n",
    "    data=plot_data, \n",
    "    color='darkblue'\n",
    ")\n",
    "\n",
    "rate_bars = sns.barplot(\n",
    "    x=\"IC_law\",  \n",
    "    y=\"relapse_rate\",\n",
    "    data=plot_data, \n",
    "    color='lightblue'\n",
    ")\n",
    "plt.show()\n",
    "\n",
    "\n"
   ]
  }
 ],
 "metadata": {
  "kernelspec": {
   "display_name": "Python 3 (ipykernel)",
   "language": "python",
   "name": "python3"
  },
  "language_info": {
   "codemirror_mode": {
    "name": "ipython",
    "version": 3
   },
   "file_extension": ".py",
   "mimetype": "text/x-python",
   "name": "python",
   "nbconvert_exporter": "python",
   "pygments_lexer": "ipython3",
   "version": "3.9.7"
  }
 },
 "nbformat": 4,
 "nbformat_minor": 5
}
