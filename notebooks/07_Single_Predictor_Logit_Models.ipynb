{
 "cells": [
  {
   "cell_type": "markdown",
   "id": "c54862d0-e8f6-4eff-8e3a-a8373dc363ed",
   "metadata": {
    "tags": []
   },
   "source": [
    "# Logistic Regression Analysis"
   ]
  },
  {
   "cell_type": "markdown",
   "id": "a22145f5-4328-479f-9f02-9d55af5e09c6",
   "metadata": {
    "tags": []
   },
   "source": [
    "### Import data and libraries"
   ]
  },
  {
   "cell_type": "code",
   "execution_count": null,
   "id": "0606936e-517c-49ef-8877-37a1151f7035",
   "metadata": {
    "jp-MarkdownHeadingCollapsed": true,
    "tags": []
   },
   "outputs": [],
   "source": [
    "## Load modules\n",
    "import pandas as pd\n",
    "import numpy as np\n",
    "import seaborn as sns\n",
    "import statsmodels.api as sm\n",
    "import statsmodels.formula.api as smf\n",
    "import os\n",
    "from matplotlib import pyplot as plt\n",
    "\n",
    "## Specify WD\n",
    "\n",
    "wd = (\n",
    "    \"/Users/adam/Documents/BINF667013_BigDataAnalyticsHealthcare/\" +\n",
    "    \"Final_Project/TEDS_Study\"\n",
    ")\n",
    "wd = \"/home/abf/BINF667013_Final_Project/\"\n",
    "os.chdir(wd)\n",
    "\n",
    "## Load data\n",
    "# teds_laws = pd.read_csv(\"analysis_objects/teds_laws.csv\")\n",
    "teds_laws = pd.read_csv(\"analysis_objects/teds_laws.csv\")\n",
    "\n"
   ]
  },
  {
   "cell_type": "markdown",
   "id": "54a2e83b-144c-4283-9c37-90a9cb2d36b9",
   "metadata": {
    "tags": []
   },
   "source": [
    "### Logit model to estimate influence of IC_laws on relapse rate"
   ]
  },
  {
   "cell_type": "code",
   "execution_count": null,
   "id": "1184a05d-e253-4cf1-82af-c400eeec104f",
   "metadata": {
    "tags": []
   },
   "outputs": [],
   "source": [
    "## Index casese of alcohol use at intake\n",
    "alc_cases = teds_laws.alc_cases == 1\n",
    "\n",
    "## Fit Model\n",
    "alc_result = smf.logit(\"alc_relapse ~ IC_law\", data=teds_laws.loc[alc_cases, :]).fit()\n",
    "print(alc_result.summary())\n",
    "\n"
   ]
  },
  {
   "cell_type": "code",
   "execution_count": null,
   "id": "7e7fe6a2-99ea-485d-883c-6d1300ff7e2c",
   "metadata": {},
   "outputs": [],
   "source": [
    "## Index casese of heroin use at intake\n",
    "hrn_cases = teds_laws.hrn_cases == 1\n",
    "\n",
    "## Fit Model\n",
    "hrn_result = smf.logit(\"hrn_relapse ~ IC_law\", data=teds_laws.loc[hrn_cases, :]).fit()\n",
    "print(hrn_result.summary())\n",
    "\n"
   ]
  },
  {
   "cell_type": "code",
   "execution_count": null,
   "id": "9599ed85-40b2-4fb7-957f-e172c2796eff",
   "metadata": {
    "tags": []
   },
   "outputs": [],
   "source": [
    "## Index casese of methamphetamine use at intake\n",
    "met_cases = teds_laws.met_cases == 1\n",
    "\n",
    "## Fit Model\n",
    "met_result = smf.logit(\"met_relapse ~ IC_law\", data=teds_laws.loc[met_cases, :]).fit()\n",
    "print(met_result.summary())\n",
    "\n"
   ]
  },
  {
   "cell_type": "markdown",
   "id": "95413303-e7c1-4656-a64b-4981ecc93701",
   "metadata": {
    "tags": []
   },
   "source": [
    "### Logit model to estimate influence of Unborn Child Protective Commitment on PREG Admissions"
   ]
  },
  {
   "cell_type": "code",
   "execution_count": null,
   "id": "e75ed1cf-4b24-4278-b999-8459748202ff",
   "metadata": {},
   "outputs": [],
   "source": [
    "## Index casese of alcohol use at intake\n",
    "fem_alc_cases = teds_laws[\n",
    "    (teds_laws['alc_cases'] == 1) & (~pd.isna(teds_laws.PREG))\n",
    "].index\n",
    "teds_laws.loc[fem_alc_cases,:].shape"
   ]
  },
  {
   "cell_type": "code",
   "execution_count": null,
   "id": "decbf0c9-3570-4411-8a4f-2d87964a41d4",
   "metadata": {},
   "outputs": [],
   "source": [
    "## Fit Model\n",
    "alc_result = smf.logit(\n",
    "    \"PREG ~ Protect_Unborn\", \n",
    "    data=teds_laws.loc[fem_alc_cases, :].rename(\n",
    "        {\"IC_Circumstances_Protect an unborn child\":\"Protect_Unborn\"}, axis=1\n",
    "    ).assign(PREG = lambda x: x['PREG'] -1)\n",
    ").fit()\n",
    "print(alc_result.summary())"
   ]
  },
  {
   "cell_type": "code",
   "execution_count": null,
   "id": "70680a0f-5921-4b18-be65-b71babc87186",
   "metadata": {},
   "outputs": [],
   "source": [
    "## Index casese of alcohol use at intake\n",
    "fem_hrn_cases = teds_laws[\n",
    "    (teds_laws['hrn_cases'] == 1) & (~pd.isna(teds_laws.PREG))\n",
    "].index\n",
    "teds_laws.loc[fem_alc_cases,:].shape"
   ]
  },
  {
   "cell_type": "code",
   "execution_count": null,
   "id": "26cdd0dc-1e6b-40f5-b69d-9b4c1179b351",
   "metadata": {},
   "outputs": [],
   "source": [
    "## Fit Model\n",
    "hrn_result = smf.logit(\n",
    "    \"PREG ~ Protect_Unborn\", \n",
    "    data=teds_laws.loc[fem_hrn_cases, :].rename(\n",
    "        {\"IC_Circumstances_Protect an unborn child\":\"Protect_Unborn\"}, axis=1\n",
    "    ).assign(PREG = lambda x: x['PREG'] -1)\n",
    ").fit()\n",
    "print(hrn_result.summary())"
   ]
  },
  {
   "cell_type": "code",
   "execution_count": null,
   "id": "019205f7-f46b-4da3-b745-70ddf34878cf",
   "metadata": {},
   "outputs": [],
   "source": [
    "## Index casese of alcohol use at intake\n",
    "fem_met_cases = teds_laws[\n",
    "    (teds_laws['met_cases'] == 1) & (~pd.isna(teds_laws.PREG))\n",
    "].index\n",
    "teds_laws.loc[fem_alc_cases,:].shape"
   ]
  },
  {
   "cell_type": "code",
   "execution_count": null,
   "id": "efa05d52-1b93-4058-a613-14f56f94f17b",
   "metadata": {},
   "outputs": [],
   "source": [
    "## Fit Model\n",
    "met_result = smf.logit(\n",
    "    \"PREG ~ Protect_Unborn\", \n",
    "    data=teds_laws.loc[fem_met_cases, :].rename(\n",
    "        {\"IC_Circumstances_Protect an unborn child\":\"Protect_Unborn\"}, axis=1\n",
    "    ).assign(PREG = lambda x: x['PREG'] -1)\n",
    ").fit()\n",
    "print(met_result.summary())"
   ]
  },
  {
   "cell_type": "markdown",
   "id": "af77b6e9-f5c2-41ba-846b-a4c25254281f",
   "metadata": {},
   "source": [
    "### Logit model to estimate the influence of IC_Law Status on Dropout vs Completion "
   ]
  },
  {
   "cell_type": "code",
   "execution_count": null,
   "id": "5d7a7380-559e-4d42-b29d-38d3cf5bfbc6",
   "metadata": {},
   "outputs": [],
   "source": [
    "### Select Cases\n",
    "dropout_alc_cases = teds_laws[\n",
    "    (teds_laws['alc_cases'] == 1) & (teds_laws.REASON.isin([1,2]))\n",
    "].index\n",
    "\n",
    "dropout_hrn_cases = teds_laws[\n",
    "    (teds_laws['hrn_cases'] == 1) & (teds_laws.REASON.isin([1,2]))\n",
    "].index\n",
    "\n",
    "dropout_met_cases = teds_laws[\n",
    "    (teds_laws['met_cases'] == 1) & (teds_laws.REASON.isin([1,2]))\n",
    "].index\n",
    "\n",
    "teds_laws.loc[dropout_alc_cases, :].shape"
   ]
  },
  {
   "cell_type": "code",
   "execution_count": null,
   "id": "aae9a934-8790-48a0-a0bd-5bc5a93fbfd4",
   "metadata": {},
   "outputs": [],
   "source": [
    "## Fit Models\n",
    "alc_result = smf.mnlogit(\"REASON ~ IC_law\", data=teds_laws.loc[dropout_alc_cases, :]).fit()\n",
    "print(alc_result.summary())\n",
    "\n",
    "## Fit Model\n",
    "hrn_result = smf.mnlogit(\"REASON ~ IC_law\", data=teds_laws.loc[dropout_hrn_cases, :]).fit()\n",
    "print(hrn_result.summary())\n",
    "\n",
    "## Fit Model\n",
    "met_result = smf.mnlogit(\"REASON ~ IC_law\", data=teds_laws.loc[dropout_met_cases, :]).fit()\n",
    "print(met_result.summary())"
   ]
  },
  {
   "cell_type": "markdown",
   "id": "63cc8b04-fdc3-40f2-b287-f3e75afec7d2",
   "metadata": {
    "tags": []
   },
   "source": [
    "### Multinomial Logistic Regression to estimate IC Law influence on referral source"
   ]
  },
  {
   "cell_type": "code",
   "execution_count": null,
   "id": "5b3394d0-3161-49a4-9ace-37275abe641a",
   "metadata": {},
   "outputs": [],
   "source": [
    "\n",
    "## Fit Model\n",
    "alc_result = smf.mnlogit(\"PSOURCE ~ IC_law\", data=teds_laws.loc[alc_cases, :]).fit()\n",
    "print(alc_result.summary())\n",
    "\n",
    "## Fit Model\n",
    "hrn_result = smf.mnlogit(\"PSOURCE ~ IC_law\", data=teds_laws.loc[hrn_cases, :]).fit()\n",
    "print(hrn_result.summary())\n",
    "\n",
    "## Fit Model\n",
    "met_result = smf.mnlogit(\"PSOURCE ~ IC_law\", data=teds_laws.loc[met_cases, :]).fit()\n",
    "print(met_result.summary())\n",
    "\n",
    "\n"
   ]
  },
  {
   "cell_type": "markdown",
   "id": "2d163c35-8109-45ba-bbcc-9a7f3430ca68",
   "metadata": {
    "tags": []
   },
   "source": [
    "### Multinomial Logistic Regression to estimate Influence of IC Laws on Services "
   ]
  },
  {
   "cell_type": "code",
   "execution_count": null,
   "id": "5f743122-a054-4e40-9fd0-ff5cae96092a",
   "metadata": {},
   "outputs": [],
   "source": [
    "## Verify that the data is well defined,\n",
    "## all cases represented by at least one observation\n",
    "## to avoid division by zero\n",
    "teds_laws.loc[alc_cases, [\"IC_law\",\"SERVICES\"]].dropna().value_counts().sort_index()"
   ]
  },
  {
   "cell_type": "code",
   "execution_count": null,
   "id": "6fd2b1d3-6200-47c7-aee9-5eb20d826824",
   "metadata": {
    "tags": []
   },
   "outputs": [],
   "source": [
    "## Fit Model -- for some stupid reason, the formula syntax fails here\n",
    "alc_result = sm.MNLogit(endog=teds_laws.loc[alc_cases,[\"SERVICES\"]], exog=teds_laws.loc[alc_cases,[\"IC_law\"]]).fit()\n",
    "print(alc_result.summary())\n",
    "\n",
    "### Note that the direction appears to be flipped in this analysis.  "
   ]
  },
  {
   "cell_type": "code",
   "execution_count": null,
   "id": "06ad5201-06f8-428f-b401-dd33874a07de",
   "metadata": {},
   "outputs": [],
   "source": [
    "## Fit Model\n",
    "hrn_result = smf.mnlogit(\"SERVICES ~ IC_law\", data=teds_laws.loc[hrn_cases, :]).fit()\n",
    "print(hrn_result.summary())\n",
    "\n",
    "## Fit Model\n",
    "met_result = smf.mnlogit(\"SERVICES ~ IC_law\", data=teds_laws.loc[met_cases, :]).fit()\n",
    "print(met_result.summary())"
   ]
  },
  {
   "cell_type": "markdown",
   "id": "d9790850-85d2-4336-a02c-e6b4042a2f4b",
   "metadata": {},
   "source": [
    "### Multinomial Logistic Regression to estimate Influence of IC Laws on Reasons for Discharge "
   ]
  },
  {
   "cell_type": "code",
   "execution_count": null,
   "id": "4818d097-59db-42ff-aac0-e2337ccb5124",
   "metadata": {},
   "outputs": [],
   "source": [
    "\n",
    "## Fit Model\n",
    "alc_result = smf.mnlogit(\"REASON ~ IC_law\", data=teds_laws.loc[alc_cases, :]).fit()\n",
    "print(alc_result.summary())\n",
    "\n",
    "## Fit Model\n",
    "hrn_result = smf.mnlogit(\"REASON ~ IC_law\", data=teds_laws.loc[hrn_cases, :]).fit()\n",
    "print(hrn_result.summary())\n",
    "\n",
    "## Fit Model\n",
    "met_result = smf.mnlogit(\"REASON ~ IC_law\", data=teds_laws.loc[met_cases, :]).fit()\n",
    "print(met_result.summary())\n",
    "\n",
    "\n"
   ]
  }
 ],
 "metadata": {
  "kernelspec": {
   "display_name": "Python 3 (ipykernel)",
   "language": "python",
   "name": "python3"
  },
  "language_info": {
   "codemirror_mode": {
    "name": "ipython",
    "version": 3
   },
   "file_extension": ".py",
   "mimetype": "text/x-python",
   "name": "python",
   "nbconvert_exporter": "python",
   "pygments_lexer": "ipython3",
   "version": "3.9.7"
  }
 },
 "nbformat": 4,
 "nbformat_minor": 5
}
