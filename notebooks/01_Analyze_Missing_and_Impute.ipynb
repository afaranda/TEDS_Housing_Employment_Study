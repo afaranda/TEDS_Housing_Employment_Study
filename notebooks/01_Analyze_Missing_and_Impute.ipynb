{
 "cells": [
  {
   "cell_type": "markdown",
   "id": "4855ca25-9900-4d06-b00d-5fb6a61e30ee",
   "metadata": {},
   "source": [
    "# Data Preparation"
   ]
  },
  {
   "cell_type": "code",
   "execution_count": null,
   "id": "b57f7668-0296-4a76-850f-eaadf96e648f",
   "metadata": {},
   "outputs": [],
   "source": [
    "import pandas as pd\n",
    "import seaborn as sns\n",
    "from matplotlib import pyplot as plt\n",
    "import numpy as np\n",
    "import os\n",
    "\n",
    "## Specify WD\n",
    "wd = \"/home/abf/BINF667013_Final_Project/\"\n",
    "#wd = (\n",
    "#    \"/Users/adam/Documents/BINF667013_BigDataAnalyticsHealthcare/\" +\n",
    "#    \"Final_Project/TEDS_Study\"\n",
    "#)\n",
    "os.chdir(wd)"
   ]
  },
  {
   "cell_type": "code",
   "execution_count": null,
   "id": "bde93d0a-3c72-49c9-9220-28f66209aff3",
   "metadata": {},
   "outputs": [],
   "source": [
    "## Load TEDS-D 2017 Data into a Pandas Data Frame\n",
    "teds=pd.read_csv(\"datasets/tedsd_puf_2017.csv\")\n",
    "teds\n",
    "\n",
    "## Convert '-9' to NA\n",
    "teds=teds.replace({-9:np.nan})\n",
    "\n",
    "primary = [\n",
    "    'GENDER','STFIPS','PSOURCE','LOS','SERVICES','SERVICES_D',\n",
    "    'REASON','SUB1', 'SUB2', 'SUB3', 'SUB1_D', 'SUB2_D', 'SUB3_D'\n",
    "]"
   ]
  },
  {
   "cell_type": "markdown",
   "id": "05ba8622-f221-4f21-b257-2750a4018cba",
   "metadata": {
    "tags": []
   },
   "source": [
    "### Restrict data to records that are at observed in our primary variables"
   ]
  },
  {
   "cell_type": "code",
   "execution_count": null,
   "id": "4ec31b65-253f-492b-82b7-748e5c0e2552",
   "metadata": {
    "tags": []
   },
   "outputs": [],
   "source": [
    "## Define Mask for non-na primary measures\n",
    "primary_mask = teds.loc[:,primary].dropna().index\n",
    "\n",
    "## Exclude unobserved data\n",
    "teds = teds.loc[primary_mask,:]\n",
    "print(teds.shape)"
   ]
  },
  {
   "cell_type": "markdown",
   "id": "1f53ec70-3d0a-4d07-b81a-9573ae82b5b6",
   "metadata": {
    "tags": []
   },
   "source": [
    "### Count the number of complete cases in this dataset"
   ]
  },
  {
   "cell_type": "code",
   "execution_count": null,
   "id": "5c7cc954-7832-44bc-86a8-34741c96b50b",
   "metadata": {},
   "outputs": [],
   "source": [
    "teds.dropna().shape"
   ]
  },
  {
   "cell_type": "markdown",
   "id": "525cab66-9f14-482d-9158-fb265d01e7c9",
   "metadata": {},
   "source": [
    "### Count the number of cases with valid observations for at least 50% of available measures"
   ]
  },
  {
   "cell_type": "code",
   "execution_count": null,
   "id": "18967aef-ae98-42f9-a50c-47957df7d750",
   "metadata": {},
   "outputs": [],
   "source": [
    "mask=teds.apply(lambda x: np.isnan(x)).apply(lambda x: sum(x) < 39, axis=1)\n",
    "teds[mask].shape"
   ]
  },
  {
   "cell_type": "markdown",
   "id": "5ccf84a3-5f9f-4e7c-aa23-2b975a9e56dc",
   "metadata": {
    "tags": []
   },
   "source": [
    "### Count the number of cases with valid observations for at least 75% of available measures"
   ]
  },
  {
   "cell_type": "code",
   "execution_count": null,
   "id": "6d5db327-ce4a-4f3c-a0d1-0f848472c982",
   "metadata": {
    "tags": []
   },
   "outputs": [],
   "source": [
    "mask=teds.apply(lambda x: np.isnan(x)).apply(lambda x: sum(x) < 19, axis=1)\n",
    "teds[mask].shape"
   ]
  },
  {
   "cell_type": "markdown",
   "id": "df28f77e-862f-493e-91fc-b44f050020de",
   "metadata": {
    "tags": []
   },
   "source": [
    "### Count the number of cases with valid observations for at least 90% of available measures"
   ]
  },
  {
   "cell_type": "code",
   "execution_count": null,
   "id": "c531b8b5-ff88-4b85-bbbd-bb66c3a2b172",
   "metadata": {
    "tags": []
   },
   "outputs": [],
   "source": [
    "mask=teds.apply(lambda x: np.isnan(x)).apply(lambda x: sum(x) < 14, axis=1)\n",
    "teds[mask].shape"
   ]
  },
  {
   "cell_type": "markdown",
   "id": "5276b4a5-c372-4ade-8a59-c74bf5972608",
   "metadata": {},
   "source": [
    "### Explore Correlation between missing values"
   ]
  },
  {
   "cell_type": "code",
   "execution_count": null,
   "id": "61edb759-1d18-405c-83c4-d00f064fe07a",
   "metadata": {},
   "outputs": [],
   "source": [
    "import missingno as msno\n",
    "msno.heatmap(teds.loc[primary_mask,:], fontsize=12)"
   ]
  },
  {
   "cell_type": "code",
   "execution_count": null,
   "id": "bef41b67-e11d-4130-a5e9-ca2487db1d34",
   "metadata": {},
   "outputs": [],
   "source": [
    "msno.dendrogram(teds)"
   ]
  },
  {
   "cell_type": "markdown",
   "id": "0b500118-6f2e-48b3-93fb-3e69df2096f4",
   "metadata": {
    "tags": []
   },
   "source": [
    "### Convert Observations to Categorical Variables"
   ]
  },
  {
   "cell_type": "code",
   "execution_count": null,
   "id": "b7df6bac-d8ee-427f-baf7-924f6ddd06b0",
   "metadata": {},
   "outputs": [],
   "source": [
    "for col in teds.columns:\n",
    "    if not (col ==\"CASEID\" or col == \"DISYR\"):\n",
    "        teds[col] = teds[col].astype('category')"
   ]
  },
  {
   "cell_type": "markdown",
   "id": "7e39b82c-6e7b-4924-86d9-7476e9528082",
   "metadata": {
    "tags": []
   },
   "source": [
    "### Use MissForest implemented in missingpy to impute missing values"
   ]
  },
  {
   "cell_type": "code",
   "execution_count": null,
   "id": "d5bec0d4-9433-47f9-8ebb-515a0a78c89d",
   "metadata": {
    "tags": []
   },
   "outputs": [],
   "source": [
    "## Stupid hack due to broken module name #WastingMyTime #SloppyCode\n",
    "import sys\n",
    "import sklearn.neighbors\n",
    "sys.modules['sklearn.neighbors.base'] = sklearn.neighbors._base\n",
    "from missingpy import MissForest\n",
    "from os.path import exists\n",
    "\n",
    "def random_chunks(df, n=100000, state=123):\n",
    "    chunks = []\n",
    "    i = 0\n",
    "    while df.shape[0] > n:\n",
    "        chunks.append(df.sample(n=n, replace=False, random_state=state))\n",
    "        df = df.drop(chunks[i].index)\n",
    "        i += 1\n",
    "\n",
    "    chunks.append(df)\n",
    "    return(chunks)\n",
    "        \n",
    "        \n",
    "def impute_missforest(df, seed=123):\n",
    "    print(df.index)\n",
    "    imputer = MissForest(\n",
    "        random_state=seed,\n",
    "        criterion=('squared_error', 'gini'), # Package mispecifies criterion\n",
    "        n_jobs=-1\n",
    "    )\n",
    "    X=imputer.fit_transform(\n",
    "        df.drop(columns=['CASEID', 'DISYR']),\n",
    "        cat_vars=np.array([x for x in range(0,74)])\n",
    "    )\n",
    "\n",
    "    dg=pd.DataFrame(X)\n",
    "    dg.columns=df.columns[2:76]\n",
    "    return(dg)"
   ]
  },
  {
   "cell_type": "markdown",
   "id": "b197d2ea-996c-4fd6-8d36-82737b3ef0f6",
   "metadata": {},
   "source": [
    "### Verfiy that All Chunks have at least 1000 observations for all variables"
   ]
  },
  {
   "cell_type": "code",
   "execution_count": null,
   "id": "7ecaaf95-1a65-444d-86cc-f0e5d905403d",
   "metadata": {},
   "outputs": [],
   "source": [
    "chunks = random_chunks(df=teds, n=100000)\n",
    "for c in chunks:\n",
    "    x=c.shape[0] - c.apply(lambda x: sum(pd.isnull(x)), axis=0)\n",
    "    print(c.index)\n",
    "    print(x.loc[ x < 1000,])\n"
   ]
  },
  {
   "cell_type": "code",
   "execution_count": null,
   "id": "2dcecd1a-5092-4a03-9332-41c9bc49cc38",
   "metadata": {},
   "outputs": [],
   "source": [
    "print(pd.concat(chunks).shape)"
   ]
  },
  {
   "cell_type": "code",
   "execution_count": null,
   "id": "b2816a50-c175-4eb5-b111-1de8bda4551b",
   "metadata": {},
   "outputs": [],
   "source": [
    "if exists(\"analysis_objects/teds_imputed.csv\"):\n",
    "    teds_imputed=pd.read_csv(\n",
    "        \"analysis_objects/teds_imputed.csv\",\n",
    "        index_col=0\n",
    "    )\n",
    "else:\n",
    "    chunks = random_chunks(df=teds.loc[primary_mask,:], n=100000)\n",
    "    dflist = [impute_missforest(c) for c in chunks]\n",
    "    teds_imputed = pd.concat(dflist)\n",
    "    teds_imputed.to_csv(\n",
    "        path_or_buf=\"analysis_objects/teds_imputed.csv\"\n",
    "    )"
   ]
  },
  {
   "cell_type": "markdown",
   "id": "ae071341-b34a-435a-b9cc-aee8f3b6d305",
   "metadata": {
    "tags": []
   },
   "source": [
    "### Prepare State Level Data"
   ]
  },
  {
   "cell_type": "code",
   "execution_count": null,
   "id": "5e79dcc5-d00d-43ee-8020-80d798aadacf",
   "metadata": {
    "tags": []
   },
   "outputs": [],
   "source": [
    "## Import Involuntary Commitment Laws dataset\n",
    "ic_laws=pd.read_csv(\"datasets/IC_Laws.csv\")\n",
    "\n",
    "## Convert \".\" character to NA in appropriate columns\n",
    "ic_laws=ic_laws.replace({\".\":np.nan})\n",
    "## Add state identifier that matches TEDS data (as join column). \n",
    "fips_table=pd.read_csv('datasets/state.txt', sep=\"|\")\n",
    "ic_laws = pd.merge(\n",
    "    left=fips_table.loc[:,[\"STATE\", \"STATE_NAME\"]],\n",
    "    right=ic_laws,\n",
    "    left_on=\"STATE_NAME\",\n",
    "    right_on=\"Jurisdiction\",\n",
    "    how='inner'\n",
    ").drop(columns=\"STATE_NAME\")\n",
    "ic_laws['pre_2016'] = ic_laws['Effective Date'] < \"2016-01-01\"\n",
    "ic_laws.STATE.value_counts()\n"
   ]
  },
  {
   "cell_type": "markdown",
   "id": "64f90a75-8c30-4bc6-8585-cd9019db2b76",
   "metadata": {
    "tags": []
   },
   "source": [
    "### Add Drug Specific Case and Relapse Features to TEDS and TEDS Imputed"
   ]
  },
  {
   "cell_type": "code",
   "execution_count": null,
   "id": "c3d6f2e4-17a8-4d36-b5e8-02fac29469ba",
   "metadata": {},
   "outputs": [],
   "source": [
    "def isrelapse(x, **kwargs):\n",
    "    if(\n",
    "          x['SUB1_D'] == 1 and\\\n",
    "          x['SUB2_D'] == 1 and\\\n",
    "          x['SUB3_D'] == 1\n",
    "    ):\n",
    "        return 0\n",
    "    else:\n",
    "        return 1\n",
    "\n",
    "\n",
    "## Add Relapse Rates to Raw Data Set\n",
    "teds = teds.assign(\n",
    "    alc_cases = lambda x: x.loc[:,['SUB1']].apply(lambda x: x['SUB1'] == 2, axis=1),\n",
    "    hrn_cases = lambda x: x.loc[:,['SUB1']].apply(lambda x: x['SUB1'] == 5, axis=1),\n",
    "    met_cases = lambda x: x.loc[:,['SUB1']].apply(lambda x: x['SUB1'] == 10, axis=1),\n",
    "    relapse = lambda x: x.apply(isrelapse, axis=1)\n",
    ")\n",
    "\n",
    "teds = teds.assign(\n",
    "    alc_relapse = lambda y: y.apply(lambda x: 1 if x['relapse'] == 1 and x['SUB1'] == 2 else 0, axis =1),\n",
    "    hrn_relapse = lambda y: y.apply(lambda x: 1 if x['relapse'] == 1 and x['SUB1'] == 5 else 0, axis=1),\n",
    "    met_relapse = lambda y: y.apply(lambda x: 1 if x['relapse'] == 1 and x['SUB1'] == 10 else 0, axis=1)\n",
    ")\n",
    "\n",
    "## Add Relapse Rates to Imputed Data Set\n",
    "teds_imputed = teds_imputed.assign(\n",
    "    alc_cases = lambda x: x.loc[:,['SUB1']].apply(lambda x: x['SUB1'] == 2, axis=1),\n",
    "    hrn_cases = lambda x: x.loc[:,['SUB1']].apply(lambda x: x['SUB1'] == 5, axis=1),\n",
    "    met_cases = lambda x: x.loc[:,['SUB1']].apply(lambda x: x['SUB1'] == 10, axis=1),\n",
    "    relapse = lambda x: x.apply(isrelapse, axis=1)\n",
    ")\n",
    "\n",
    "teds_imputed = teds_imputed.assign(\n",
    "    alc_relapse = lambda y: y.apply(lambda x: 1 if x['relapse'] == 1 and x['SUB1'] == 2 else 0, axis =1),\n",
    "    hrn_relapse = lambda y: y.apply(lambda x: 1 if x['relapse'] == 1 and x['SUB1'] == 5 else 0, axis=1),\n",
    "    met_relapse = lambda y: y.apply(lambda x: 1 if x['relapse'] == 1 and x['SUB1'] == 10 else 0, axis=1)\n",
    ")"
   ]
  },
  {
   "cell_type": "markdown",
   "id": "256d6b29-3985-4291-a4fa-8314a841e8a3",
   "metadata": {
    "tags": []
   },
   "source": [
    "### Join State Laws to TEDS Data"
   ]
  },
  {
   "cell_type": "code",
   "execution_count": null,
   "id": "22a87aae-ae45-46f1-a5b7-0a4405996e49",
   "metadata": {},
   "outputs": [],
   "source": [
    "if exists(\"analysis_objects/teds_laws.csv\"):\n",
    "    teds_laws=pd.read_csv(\"analysis_objects/teds_laws.csv\")\n",
    "else:\n",
    "    teds_laws = pd.merge(\n",
    "        left=teds,\n",
    "        right=ic_laws,\n",
    "        left_on=\"STFIPS\",\n",
    "        right_on=\"STATE\",\n",
    "    )\n",
    "    teds_laws.to_csv(\n",
    "        \"analysis_objects/teds_laws.csv\", index=False\n",
    "    )\n",
    "    \n",
    "if exists(\"analysis_objects/teds_imp_laws.csv\"):\n",
    "    teds_imp_laws=pd.read_csv(\"analysis_objects/teds_imp_laws.csv\")\n",
    "else:\n",
    "    teds_imp_laws=pd.merge(\n",
    "        left=teds_imputed,\n",
    "        right=ic_laws,\n",
    "        left_on=\"STFIPS\",\n",
    "        right_on=\"STATE\",\n",
    "    )\n",
    "    teds_imp_laws.to_csv(\n",
    "        \"analysis_objects/teds_imp_laws.csv\", index=False\n",
    "    )"
   ]
  }
 ],
 "metadata": {
  "kernelspec": {
   "display_name": "Python 3 (ipykernel)",
   "language": "python",
   "name": "python3"
  },
  "language_info": {
   "codemirror_mode": {
    "name": "ipython",
    "version": 3
   },
   "file_extension": ".py",
   "mimetype": "text/x-python",
   "name": "python",
   "nbconvert_exporter": "python",
   "pygments_lexer": "ipython3",
   "version": "3.9.7"
  }
 },
 "nbformat": 4,
 "nbformat_minor": 5
}
